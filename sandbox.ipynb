{
 "cells": [
  {
   "cell_type": "code",
   "execution_count": 97,
   "metadata": {},
   "outputs": [],
   "source": [
    "import numpy as np\n",
    "import pandas as pd\n",
    "from itertools import *\n",
    "from pulp import *\n",
    "import riskfolio as rp \n",
    "import warnings \n",
    "import datetime as datetime\n",
    "import yfinance as yf\n",
    "from bs4 import BeautifulSoup\n",
    "import requests\n",
    "from pulp import *\n",
    "import matplotlib.pyplot as plt\n",
    "import seaborn as sb\n",
    "from IPython.display import Markdown as md\n",
    "%matplotlib widget\n"
   ]
  },
  {
   "cell_type": "markdown",
   "metadata": {},
   "source": [
    "# Part 1"
   ]
  },
  {
   "cell_type": "code",
   "execution_count": 98,
   "metadata": {},
   "outputs": [],
   "source": [
    "'''Table from the prompt'''\n",
    "data_prompt = pd.read_excel(r'C:\\MFE\\MFE Sem 2\\ISE 447\\Project\\Table.xlsx', sheet_name='PromptUse', index_col = 'DateDue')\n",
    "\n",
    "'''\n",
    "For some reason BeautifulSoup did not want to work so I just downloaded the table from  a link into an excel \n",
    "https://home.treasury.gov/resource-center/data-chart-center/interest-rates/TextView?type=daily_treasury_yield_curve&field_tdr_date_value_month=202205\n",
    "For the term structure\n",
    "'''\n",
    "\n",
    "yields = pd.read_html('https://home.treasury.gov/resource-center/data-chart-center/interest-rates/TextView?type=daily_treasury_yield_curve&field_tdr_date_value_month=202205')[0]"
   ]
  },
  {
   "cell_type": "code",
   "execution_count": 99,
   "metadata": {},
   "outputs": [
    {
     "data": {
      "text/html": [
       "<div>\n",
       "<style scoped>\n",
       "    .dataframe tbody tr th:only-of-type {\n",
       "        vertical-align: middle;\n",
       "    }\n",
       "\n",
       "    .dataframe tbody tr th {\n",
       "        vertical-align: top;\n",
       "    }\n",
       "\n",
       "    .dataframe thead th {\n",
       "        text-align: right;\n",
       "    }\n",
       "</style>\n",
       "<table border=\"1\" class=\"dataframe\">\n",
       "  <thead>\n",
       "    <tr style=\"text-align: right;\">\n",
       "      <th></th>\n",
       "      <th>Date</th>\n",
       "      <th>20 YR</th>\n",
       "      <th>30 YR</th>\n",
       "      <th>Extrapolation Factor</th>\n",
       "      <th>8 WEEKS BANK DISCOUNT</th>\n",
       "      <th>COUPON EQUIVALENT</th>\n",
       "      <th>52 WEEKS BANK DISCOUNT</th>\n",
       "      <th>COUPON EQUIVALENT.1</th>\n",
       "      <th>1 Mo</th>\n",
       "      <th>2 Mo</th>\n",
       "      <th>3 Mo</th>\n",
       "      <th>6 Mo</th>\n",
       "      <th>1 Yr</th>\n",
       "      <th>2 Yr</th>\n",
       "      <th>3 Yr</th>\n",
       "      <th>5 Yr</th>\n",
       "      <th>7 Yr</th>\n",
       "      <th>10 Yr</th>\n",
       "      <th>20 Yr</th>\n",
       "      <th>30 Yr</th>\n",
       "    </tr>\n",
       "  </thead>\n",
       "  <tbody>\n",
       "    <tr>\n",
       "      <th>0</th>\n",
       "      <td>05/02/2022</td>\n",
       "      <td>NaN</td>\n",
       "      <td>NaN</td>\n",
       "      <td>NaN</td>\n",
       "      <td>NaN</td>\n",
       "      <td>NaN</td>\n",
       "      <td>NaN</td>\n",
       "      <td>NaN</td>\n",
       "      <td>0.41</td>\n",
       "      <td>0.71</td>\n",
       "      <td>0.9</td>\n",
       "      <td>1.49</td>\n",
       "      <td>2.1</td>\n",
       "      <td>2.73</td>\n",
       "      <td>2.93</td>\n",
       "      <td>3.01</td>\n",
       "      <td>3.04</td>\n",
       "      <td>2.99</td>\n",
       "      <td>3.26</td>\n",
       "      <td>3.07</td>\n",
       "    </tr>\n",
       "  </tbody>\n",
       "</table>\n",
       "</div>"
      ],
      "text/plain": [
       "         Date  20 YR  30 YR  Extrapolation Factor  8 WEEKS BANK DISCOUNT  \\\n",
       "0  05/02/2022    NaN    NaN                   NaN                    NaN   \n",
       "\n",
       "   COUPON EQUIVALENT  52 WEEKS BANK DISCOUNT  COUPON EQUIVALENT.1  1 Mo  2 Mo  \\\n",
       "0                NaN                     NaN                  NaN  0.41  0.71   \n",
       "\n",
       "   3 Mo  6 Mo  1 Yr  2 Yr  3 Yr  5 Yr  7 Yr  10 Yr  20 Yr  30 Yr  \n",
       "0   0.9  1.49   2.1  2.73  2.93  3.01  3.04   2.99   3.26   3.07  "
      ]
     },
     "execution_count": 99,
     "metadata": {},
     "output_type": "execute_result"
    }
   ],
   "source": [
    "yields = yields.drop(index=1)\n",
    "yields"
   ]
  },
  {
   "cell_type": "code",
   "execution_count": 100,
   "metadata": {},
   "outputs": [
    {
     "data": {
      "text/html": [
       "<div>\n",
       "<style scoped>\n",
       "    .dataframe tbody tr th:only-of-type {\n",
       "        vertical-align: middle;\n",
       "    }\n",
       "\n",
       "    .dataframe tbody tr th {\n",
       "        vertical-align: top;\n",
       "    }\n",
       "\n",
       "    .dataframe thead th {\n",
       "        text-align: right;\n",
       "    }\n",
       "</style>\n",
       "<table border=\"1\" class=\"dataframe\">\n",
       "  <thead>\n",
       "    <tr style=\"text-align: right;\">\n",
       "      <th></th>\n",
       "      <th>Amount</th>\n",
       "    </tr>\n",
       "    <tr>\n",
       "      <th>DateDue</th>\n",
       "      <th></th>\n",
       "    </tr>\n",
       "  </thead>\n",
       "  <tbody>\n",
       "    <tr>\n",
       "      <th>2022-12-15</th>\n",
       "      <td>11000</td>\n",
       "    </tr>\n",
       "    <tr>\n",
       "      <th>2023-06-15</th>\n",
       "      <td>9000</td>\n",
       "    </tr>\n",
       "    <tr>\n",
       "      <th>2023-12-15</th>\n",
       "      <td>8000</td>\n",
       "    </tr>\n",
       "    <tr>\n",
       "      <th>2024-06-15</th>\n",
       "      <td>7000</td>\n",
       "    </tr>\n",
       "    <tr>\n",
       "      <th>2024-12-15</th>\n",
       "      <td>9000</td>\n",
       "    </tr>\n",
       "    <tr>\n",
       "      <th>2025-06-15</th>\n",
       "      <td>10000</td>\n",
       "    </tr>\n",
       "    <tr>\n",
       "      <th>2025-12-15</th>\n",
       "      <td>9000</td>\n",
       "    </tr>\n",
       "    <tr>\n",
       "      <th>2026-06-15</th>\n",
       "      <td>12000</td>\n",
       "    </tr>\n",
       "    <tr>\n",
       "      <th>2026-12-15</th>\n",
       "      <td>9000</td>\n",
       "    </tr>\n",
       "    <tr>\n",
       "      <th>2027-06-15</th>\n",
       "      <td>6000</td>\n",
       "    </tr>\n",
       "    <tr>\n",
       "      <th>2027-12-15</th>\n",
       "      <td>5000</td>\n",
       "    </tr>\n",
       "    <tr>\n",
       "      <th>2028-06-15</th>\n",
       "      <td>7000</td>\n",
       "    </tr>\n",
       "    <tr>\n",
       "      <th>2028-12-15</th>\n",
       "      <td>9000</td>\n",
       "    </tr>\n",
       "    <tr>\n",
       "      <th>2029-06-15</th>\n",
       "      <td>7000</td>\n",
       "    </tr>\n",
       "    <tr>\n",
       "      <th>2029-12-15</th>\n",
       "      <td>8000</td>\n",
       "    </tr>\n",
       "    <tr>\n",
       "      <th>2030-06-15</th>\n",
       "      <td>7000</td>\n",
       "    </tr>\n",
       "  </tbody>\n",
       "</table>\n",
       "</div>"
      ],
      "text/plain": [
       "            Amount\n",
       "DateDue           \n",
       "2022-12-15   11000\n",
       "2023-06-15    9000\n",
       "2023-12-15    8000\n",
       "2024-06-15    7000\n",
       "2024-12-15    9000\n",
       "2025-06-15   10000\n",
       "2025-12-15    9000\n",
       "2026-06-15   12000\n",
       "2026-12-15    9000\n",
       "2027-06-15    6000\n",
       "2027-12-15    5000\n",
       "2028-06-15    7000\n",
       "2028-12-15    9000\n",
       "2029-06-15    7000\n",
       "2029-12-15    8000\n",
       "2030-06-15    7000"
      ]
     },
     "execution_count": 100,
     "metadata": {},
     "output_type": "execute_result"
    }
   ],
   "source": [
    "data_prompt"
   ]
  },
  {
   "cell_type": "code",
   "execution_count": 101,
   "metadata": {},
   "outputs": [],
   "source": [
    "yields = yields.drop(columns=yields.columns.to_list()[0:8])/100"
   ]
  },
  {
   "cell_type": "code",
   "execution_count": 102,
   "metadata": {},
   "outputs": [],
   "source": [
    "yields.columns = [int(i.replace('Yr', '')) \n",
    "if i[2:4] == 'Yr' or i[3:5] == 'Yr' else int(i.replace('Mo', ''))/12 \n",
    "for i in yields.columns.to_list()]"
   ]
  },
  {
   "cell_type": "markdown",
   "metadata": {},
   "source": [
    "## Current Term Structure/Yield Curve"
   ]
  },
  {
   "cell_type": "code",
   "execution_count": 103,
   "metadata": {},
   "outputs": [
    {
     "data": {
      "application/vnd.jupyter.widget-view+json": {
       "model_id": "1a5d92350a29452793e006144057de06",
       "version_major": 2,
       "version_minor": 0
      },
      "image/png": "[encoded data removed]",
      "text/html": [
       "\n",
       "            <div style=\"display: inline-block;\">\n",
       "                <div class=\"jupyter-widgets widget-label\" style=\"text-align: center;\">\n",
       "                    Figure\n",
       "                </div>\n",
       "                <img src='data:image/png;base64,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' width=1200.0/>\n",
       "            </div>\n",
       "        "
      ],
      "text/plain": [
       "Canvas(toolbar=Toolbar(toolitems=[('Home', 'Reset original view', 'home', 'home'), ('Back', 'Back to previous …"
      ]
     },
     "metadata": {},
     "output_type": "display_data"
    }
   ],
   "source": [
    "with plt.style.context('fivethirtyeight'):\n",
    "    fig = plt.subplots(figsize=(12,6))\n",
    "    plt.plot(yields.T, label = 'Treasury Yields')\n",
    "    plt.title('Treasury Term Structure')\n",
    "    plt.ylabel('Yield')\n",
    "    plt.xlabel('Years')\n",
    "    plt.legend()"
   ]
  },
  {
   "cell_type": "markdown",
   "metadata": {},
   "source": [
    "## PV, Duration, Convexity"
   ]
  },
  {
   "cell_type": "markdown",
   "metadata": {},
   "source": [
    "### PV"
   ]
  },
  {
   "cell_type": "code",
   "execution_count": 104,
   "metadata": {},
   "outputs": [
    {
     "data": {
      "text/html": [
       "<div>\n",
       "<style scoped>\n",
       "    .dataframe tbody tr th:only-of-type {\n",
       "        vertical-align: middle;\n",
       "    }\n",
       "\n",
       "    .dataframe tbody tr th {\n",
       "        vertical-align: top;\n",
       "    }\n",
       "\n",
       "    .dataframe thead th {\n",
       "        text-align: right;\n",
       "    }\n",
       "</style>\n",
       "<table border=\"1\" class=\"dataframe\">\n",
       "  <thead>\n",
       "    <tr style=\"text-align: right;\">\n",
       "      <th></th>\n",
       "      <th>Amount</th>\n",
       "    </tr>\n",
       "    <tr>\n",
       "      <th>DateDue</th>\n",
       "      <th></th>\n",
       "    </tr>\n",
       "  </thead>\n",
       "  <tbody>\n",
       "    <tr>\n",
       "      <th>2022-12-15</th>\n",
       "      <td>11000</td>\n",
       "    </tr>\n",
       "    <tr>\n",
       "      <th>2023-06-15</th>\n",
       "      <td>9000</td>\n",
       "    </tr>\n",
       "    <tr>\n",
       "      <th>2023-12-15</th>\n",
       "      <td>8000</td>\n",
       "    </tr>\n",
       "    <tr>\n",
       "      <th>2024-06-15</th>\n",
       "      <td>7000</td>\n",
       "    </tr>\n",
       "    <tr>\n",
       "      <th>2024-12-15</th>\n",
       "      <td>9000</td>\n",
       "    </tr>\n",
       "    <tr>\n",
       "      <th>2025-06-15</th>\n",
       "      <td>10000</td>\n",
       "    </tr>\n",
       "    <tr>\n",
       "      <th>2025-12-15</th>\n",
       "      <td>9000</td>\n",
       "    </tr>\n",
       "    <tr>\n",
       "      <th>2026-06-15</th>\n",
       "      <td>12000</td>\n",
       "    </tr>\n",
       "    <tr>\n",
       "      <th>2026-12-15</th>\n",
       "      <td>9000</td>\n",
       "    </tr>\n",
       "    <tr>\n",
       "      <th>2027-06-15</th>\n",
       "      <td>6000</td>\n",
       "    </tr>\n",
       "    <tr>\n",
       "      <th>2027-12-15</th>\n",
       "      <td>5000</td>\n",
       "    </tr>\n",
       "    <tr>\n",
       "      <th>2028-06-15</th>\n",
       "      <td>7000</td>\n",
       "    </tr>\n",
       "    <tr>\n",
       "      <th>2028-12-15</th>\n",
       "      <td>9000</td>\n",
       "    </tr>\n",
       "    <tr>\n",
       "      <th>2029-06-15</th>\n",
       "      <td>7000</td>\n",
       "    </tr>\n",
       "    <tr>\n",
       "      <th>2029-12-15</th>\n",
       "      <td>8000</td>\n",
       "    </tr>\n",
       "    <tr>\n",
       "      <th>2030-06-15</th>\n",
       "      <td>7000</td>\n",
       "    </tr>\n",
       "  </tbody>\n",
       "</table>\n",
       "</div>"
      ],
      "text/plain": [
       "            Amount\n",
       "DateDue           \n",
       "2022-12-15   11000\n",
       "2023-06-15    9000\n",
       "2023-12-15    8000\n",
       "2024-06-15    7000\n",
       "2024-12-15    9000\n",
       "2025-06-15   10000\n",
       "2025-12-15    9000\n",
       "2026-06-15   12000\n",
       "2026-12-15    9000\n",
       "2027-06-15    6000\n",
       "2027-12-15    5000\n",
       "2028-06-15    7000\n",
       "2028-12-15    9000\n",
       "2029-06-15    7000\n",
       "2029-12-15    8000\n",
       "2030-06-15    7000"
      ]
     },
     "execution_count": 104,
     "metadata": {},
     "output_type": "execute_result"
    }
   ],
   "source": [
    "data_prompt"
   ]
  },
  {
   "cell_type": "code",
   "execution_count": 105,
   "metadata": {},
   "outputs": [],
   "source": [
    "'''\n",
    "I am just getting the year fractions for both liabilties and the maturities of the on-the-run treasuries (term structure).\n",
    "\n",
    "I had to manually get alot of this so data probably is not correct but the methodology should be sound.\n",
    "'''\n",
    "# Fractional year in days of liabilties due\n",
    "liabilities_dates_as_yr_frac = [\n",
    "    (datetime.date(int(i[0:4]),int(i[5:7]),int(i[8:10])) - datetime.date.today()).days/365\n",
    "    for i in [str(i)[0:10] for i in data_prompt.index.tolist()]\n",
    "]\n",
    "# Maturity dates for term structure that will be applicable aka (1-10yr term rates)\n",
    "actual_rates_maturities = [\n",
    "    datetime.date(2023, 4, 20),\n",
    "    datetime.date(2024, 4, 30),\n",
    "    datetime.date(2025, 4, 15),\n",
    "    datetime.date(2027, 4, 30),\n",
    "    datetime.date(2029, 4, 30),\n",
    "    datetime.date(2032, 2, 15)\n",
    "]\n",
    "# Fractional year in days of term structure\n",
    "actual_rates_yr_frac = [(i - datetime.date.today()).days/365 for i in actual_rates_maturities]\n"
   ]
  },
  {
   "cell_type": "code",
   "execution_count": 106,
   "metadata": {},
   "outputs": [],
   "source": [
    "'''Converting data types'''\n",
    "\n",
    "actual_rates = yields.values.tolist()[0][4:10]\n",
    "liabilities = data_prompt['Amount'].tolist()"
   ]
  },
  {
   "cell_type": "code",
   "execution_count": 107,
   "metadata": {},
   "outputs": [],
   "source": [
    "'''\n",
    "I am creating a list to match the maturities of the liabilities with their corresponding rate within the term structure.\n",
    "\n",
    "Logic:\n",
    "\n",
    "Append the list of term rates who's fractional year is >= the fractional year of the liability in question. \n",
    "Take the first value in that list as the corresponding risk free rate to discount for that period. \n",
    "'''\n",
    "rates_for_periods = [\n",
    "    [actual_rates[i] for i in range(0,len(actual_rates)) if liabilities_dates_as_yr_frac[t] <=  actual_rates_yr_frac[i]][0]\n",
    "    for t in range(0, len(liabilities))\n",
    "    ]"
   ]
  },
  {
   "cell_type": "code",
   "execution_count": 108,
   "metadata": {},
   "outputs": [
    {
     "data": {
      "text/plain": [
       "[0.021,\n",
       " 0.0273,\n",
       " 0.0273,\n",
       " 0.029300000000000003,\n",
       " 0.029300000000000003,\n",
       " 0.0301,\n",
       " 0.0301,\n",
       " 0.0301,\n",
       " 0.0301,\n",
       " 0.0304,\n",
       " 0.0304,\n",
       " 0.0304,\n",
       " 0.0304,\n",
       " 0.029900000000000003,\n",
       " 0.029900000000000003,\n",
       " 0.029900000000000003]"
      ]
     },
     "execution_count": 108,
     "metadata": {},
     "output_type": "execute_result"
    }
   ],
   "source": [
    "rates_for_periods"
   ]
  },
  {
   "cell_type": "code",
   "execution_count": 109,
   "metadata": {},
   "outputs": [],
   "source": [
    "'''\n",
    "Periods for the liabilities aka \n",
    "12/15/2022 is 1\n",
    "6/15/2023 is 1.5\n",
    "etc.\n",
    "\n",
    "Cannot use a step value of 1 like in HW 2\n",
    "'''\n",
    "periods = [i/2 for i in range(1,18)][1:]"
   ]
  },
  {
   "cell_type": "code",
   "execution_count": 110,
   "metadata": {},
   "outputs": [],
   "source": [
    "'''Discounting factors for npv, duration, and convexity'''\n",
    "npv_dis_fac = [1/((1+rates_for_periods[i])**(periods[i])) for i in range(0,len(rates_for_periods))] \n",
    "dur_dis_fac = [(periods[i])/((1+rates_for_periods[i])**(periods[i])) for i in range(0,len(rates_for_periods))] \n",
    "conv_dis_fac = [((periods[i])*(periods[i]+1))/((1+rates_for_periods[i])**(periods[i]+2)) for i in range(0,len(rates_for_periods))] \n",
    "\n",
    "'''Npv, duration, and convexity of liabilities'''\n",
    "npv = sum([npv_dis_fac[i] * liabilities[i] for i in range(0,len(rates_for_periods))])\n",
    "duration = sum([dur_dis_fac[i] * liabilities[i] for i in range(0,len(rates_for_periods))])/npv\n",
    "convexity = sum([conv_dis_fac[i] * liabilities[i] for i in range(0,len(rates_for_periods))])/npv"
   ]
  },
  {
   "cell_type": "code",
   "execution_count": 111,
   "metadata": {},
   "outputs": [
    {
     "data": {
      "text/plain": [
       "116739.2966512272"
      ]
     },
     "execution_count": 111,
     "metadata": {},
     "output_type": "execute_result"
    }
   ],
   "source": [
    "npv"
   ]
  },
  {
   "cell_type": "code",
   "execution_count": 112,
   "metadata": {},
   "outputs": [
    {
     "data": {
      "text/plain": [
       "4.3693912392758305"
      ]
     },
     "execution_count": 112,
     "metadata": {},
     "output_type": "execute_result"
    }
   ],
   "source": [
    "duration"
   ]
  },
  {
   "cell_type": "code",
   "execution_count": 113,
   "metadata": {},
   "outputs": [
    {
     "data": {
      "text/plain": [
       "27.049901651011396"
      ]
     },
     "execution_count": 113,
     "metadata": {},
     "output_type": "execute_result"
    }
   ],
   "source": [
    "convexity"
   ]
  },
  {
   "cell_type": "code",
   "execution_count": 114,
   "metadata": {},
   "outputs": [
    {
     "data": {
      "text/plain": [
       "'Going to make the output look nice in this cell'"
      ]
     },
     "execution_count": 114,
     "metadata": {},
     "output_type": "execute_result"
    }
   ],
   "source": [
    "'''Going to make the output look nice in this cell'''"
   ]
  },
  {
   "cell_type": "markdown",
   "metadata": {},
   "source": [
    "# Part 2/3\n",
    "\n",
    "Note: Most of this is part 3 but the beginnning is Part two on how decide what bonds to solve for"
   ]
  },
  {
   "cell_type": "markdown",
   "metadata": {},
   "source": [
    "## Setting up the Solver (Mostly Part 2)"
   ]
  },
  {
   "cell_type": "code",
   "execution_count": 115,
   "metadata": {},
   "outputs": [],
   "source": [
    "'''\n",
    "I used WSJ for the Bonds, Note, and Bills Options and I importing it now\n",
    "It is sorted by maturity \n",
    "URL is https://www.wsj.com/market-data/bonds/treasuries?mod=md_bond_view_treasury_quotes\n",
    "\n",
    "You cannot webscrape it or do not want to go through the hassle of figuring it out and wanted something rough \n",
    "so just copied and pasted into the excel file for both sections on the page and then rearanged it for ease of use\n",
    "for Dataframe\n",
    "'''\n",
    "\n",
    "'''This part will be working on generating the Cashflow matrix that will be needed for the solver'''\n",
    "\n",
    "\n",
    "# The dataframe of the bonds I explained earlier\n",
    "possible_bonds = pd.read_excel(r'C:\\MFE\\MFE Sem 2\\ISE 447\\Project\\Table.xlsx', sheet_name='Bills Bonds and Notes', index_col = 'MATURITY')\n"
   ]
  },
  {
   "cell_type": "code",
   "execution_count": 116,
   "metadata": {},
   "outputs": [
    {
     "data": {
      "text/html": [
       "<div>\n",
       "<style scoped>\n",
       "    .dataframe tbody tr th:only-of-type {\n",
       "        vertical-align: middle;\n",
       "    }\n",
       "\n",
       "    .dataframe tbody tr th {\n",
       "        vertical-align: top;\n",
       "    }\n",
       "\n",
       "    .dataframe thead th {\n",
       "        text-align: right;\n",
       "    }\n",
       "</style>\n",
       "<table border=\"1\" class=\"dataframe\">\n",
       "  <thead>\n",
       "    <tr style=\"text-align: right;\">\n",
       "      <th></th>\n",
       "      <th>COUPON</th>\n",
       "      <th>BID</th>\n",
       "      <th>ASKED</th>\n",
       "      <th>CHG</th>\n",
       "      <th>ASKED YIELD</th>\n",
       "    </tr>\n",
       "    <tr>\n",
       "      <th>MATURITY</th>\n",
       "      <th></th>\n",
       "      <th></th>\n",
       "      <th></th>\n",
       "      <th></th>\n",
       "      <th></th>\n",
       "    </tr>\n",
       "  </thead>\n",
       "  <tbody>\n",
       "    <tr>\n",
       "      <th>2022-05-05</th>\n",
       "      <td>0.000</td>\n",
       "      <td>0.068</td>\n",
       "      <td>0.058</td>\n",
       "      <td>0.025</td>\n",
       "      <td>0.0580</td>\n",
       "    </tr>\n",
       "    <tr>\n",
       "      <th>2022-05-10</th>\n",
       "      <td>0.000</td>\n",
       "      <td>0.085</td>\n",
       "      <td>0.075</td>\n",
       "      <td>-0.018</td>\n",
       "      <td>0.0760</td>\n",
       "    </tr>\n",
       "    <tr>\n",
       "      <th>2022-05-12</th>\n",
       "      <td>0.000</td>\n",
       "      <td>0.153</td>\n",
       "      <td>0.143</td>\n",
       "      <td>0.005</td>\n",
       "      <td>0.1450</td>\n",
       "    </tr>\n",
       "    <tr>\n",
       "      <th>2022-05-15</th>\n",
       "      <td>1.750</td>\n",
       "      <td>100.020</td>\n",
       "      <td>100.024</td>\n",
       "      <td>-0.004</td>\n",
       "      <td>-0.6005</td>\n",
       "    </tr>\n",
       "    <tr>\n",
       "      <th>2022-05-15</th>\n",
       "      <td>2.125</td>\n",
       "      <td>100.024</td>\n",
       "      <td>100.030</td>\n",
       "      <td>-0.002</td>\n",
       "      <td>-0.6944</td>\n",
       "    </tr>\n",
       "    <tr>\n",
       "      <th>...</th>\n",
       "      <td>...</td>\n",
       "      <td>...</td>\n",
       "      <td>...</td>\n",
       "      <td>...</td>\n",
       "      <td>...</td>\n",
       "    </tr>\n",
       "    <tr>\n",
       "      <th>2051-02-15</th>\n",
       "      <td>1.875</td>\n",
       "      <td>76.260</td>\n",
       "      <td>76.280</td>\n",
       "      <td>-2.006</td>\n",
       "      <td>3.0940</td>\n",
       "    </tr>\n",
       "    <tr>\n",
       "      <th>2051-05-15</th>\n",
       "      <td>2.375</td>\n",
       "      <td>86.102</td>\n",
       "      <td>86.122</td>\n",
       "      <td>-2.058</td>\n",
       "      <td>3.0890</td>\n",
       "    </tr>\n",
       "    <tr>\n",
       "      <th>2051-08-15</th>\n",
       "      <td>2.000</td>\n",
       "      <td>79.056</td>\n",
       "      <td>79.076</td>\n",
       "      <td>-2.016</td>\n",
       "      <td>3.0810</td>\n",
       "    </tr>\n",
       "    <tr>\n",
       "      <th>2051-11-15</th>\n",
       "      <td>1.875</td>\n",
       "      <td>76.260</td>\n",
       "      <td>76.280</td>\n",
       "      <td>-2.01</td>\n",
       "      <td>3.0720</td>\n",
       "    </tr>\n",
       "    <tr>\n",
       "      <th>2052-02-15</th>\n",
       "      <td>2.250</td>\n",
       "      <td>84.052</td>\n",
       "      <td>84.072</td>\n",
       "      <td>-2.06</td>\n",
       "      <td>3.0610</td>\n",
       "    </tr>\n",
       "  </tbody>\n",
       "</table>\n",
       "<p>361 rows × 5 columns</p>\n",
       "</div>"
      ],
      "text/plain": [
       "            COUPON      BID    ASKED    CHG  ASKED YIELD\n",
       "MATURITY                                                \n",
       "2022-05-05   0.000    0.068    0.058  0.025       0.0580\n",
       "2022-05-10   0.000    0.085    0.075 -0.018       0.0760\n",
       "2022-05-12   0.000    0.153    0.143  0.005       0.1450\n",
       "2022-05-15   1.750  100.020  100.024 -0.004      -0.6005\n",
       "2022-05-15   2.125  100.024  100.030 -0.002      -0.6944\n",
       "...            ...      ...      ...    ...          ...\n",
       "2051-02-15   1.875   76.260   76.280 -2.006       3.0940\n",
       "2051-05-15   2.375   86.102   86.122 -2.058       3.0890\n",
       "2051-08-15   2.000   79.056   79.076 -2.016       3.0810\n",
       "2051-11-15   1.875   76.260   76.280  -2.01       3.0720\n",
       "2052-02-15   2.250   84.052   84.072  -2.06       3.0610\n",
       "\n",
       "[361 rows x 5 columns]"
      ]
     },
     "execution_count": 116,
     "metadata": {},
     "output_type": "execute_result"
    }
   ],
   "source": [
    "possible_bonds"
   ]
  },
  {
   "cell_type": "code",
   "execution_count": 117,
   "metadata": {},
   "outputs": [],
   "source": [
    "'''Chopping off the maturities that are too far away'''\n",
    "\n",
    "possibilities = possible_bonds.drop(index=[i for i in possible_bonds.index.to_list() if i > data_prompt.index.to_list()[-1]])"
   ]
  },
  {
   "cell_type": "markdown",
   "metadata": {},
   "source": [
    "## Where Part 3 Really Starts"
   ]
  },
  {
   "cell_type": "code",
   "execution_count": 118,
   "metadata": {},
   "outputs": [],
   "source": [
    "'''Prices Vector: I am just using the ASKED value to be able to get down to Building out CFs function'''\n",
    "\n",
    "prices = [i if i>=5 else 100 - i for i in possibilities['ASKED'].to_list()]\n"
   ]
  },
  {
   "cell_type": "code",
   "execution_count": 119,
   "metadata": {},
   "outputs": [],
   "source": [
    "'''List of bond maturities less than liability maturity'''\n",
    "date_lists_to_change_to_periods = [\n",
    "    [i for i in possibilities.index.to_list() if i <= t]\n",
    "    for t in data_prompt.index.tolist()\n",
    "    ]\n",
    "'''Removing the duplicates from each one'''\n",
    "for i in reversed(range(1,len(date_lists_to_change_to_periods))):\n",
    "    for j in range(0,len(date_lists_to_change_to_periods[i-1])):\n",
    "        date_lists_to_change_to_periods[i].remove(date_lists_to_change_to_periods[i-1][j])\n",
    "\n"
   ]
  },
  {
   "cell_type": "code",
   "execution_count": 120,
   "metadata": {},
   "outputs": [],
   "source": [
    "possibilities_periods = pd.DataFrame(index = possibilities.index, columns=['period','bond#','coupon','face'])"
   ]
  },
  {
   "cell_type": "code",
   "execution_count": 121,
   "metadata": {},
   "outputs": [
    {
     "data": {
      "text/html": [
       "<div>\n",
       "<style scoped>\n",
       "    .dataframe tbody tr th:only-of-type {\n",
       "        vertical-align: middle;\n",
       "    }\n",
       "\n",
       "    .dataframe tbody tr th {\n",
       "        vertical-align: top;\n",
       "    }\n",
       "\n",
       "    .dataframe thead th {\n",
       "        text-align: right;\n",
       "    }\n",
       "</style>\n",
       "<table border=\"1\" class=\"dataframe\">\n",
       "  <thead>\n",
       "    <tr style=\"text-align: right;\">\n",
       "      <th></th>\n",
       "      <th>period</th>\n",
       "      <th>bond#</th>\n",
       "      <th>coupon</th>\n",
       "      <th>face</th>\n",
       "    </tr>\n",
       "    <tr>\n",
       "      <th>MATURITY</th>\n",
       "      <th></th>\n",
       "      <th></th>\n",
       "      <th></th>\n",
       "      <th></th>\n",
       "    </tr>\n",
       "  </thead>\n",
       "  <tbody>\n",
       "    <tr>\n",
       "      <th>2022-05-05</th>\n",
       "      <td>NaN</td>\n",
       "      <td>NaN</td>\n",
       "      <td>NaN</td>\n",
       "      <td>NaN</td>\n",
       "    </tr>\n",
       "    <tr>\n",
       "      <th>2022-05-10</th>\n",
       "      <td>NaN</td>\n",
       "      <td>NaN</td>\n",
       "      <td>NaN</td>\n",
       "      <td>NaN</td>\n",
       "    </tr>\n",
       "    <tr>\n",
       "      <th>2022-05-12</th>\n",
       "      <td>NaN</td>\n",
       "      <td>NaN</td>\n",
       "      <td>NaN</td>\n",
       "      <td>NaN</td>\n",
       "    </tr>\n",
       "    <tr>\n",
       "      <th>2022-05-15</th>\n",
       "      <td>NaN</td>\n",
       "      <td>NaN</td>\n",
       "      <td>NaN</td>\n",
       "      <td>NaN</td>\n",
       "    </tr>\n",
       "    <tr>\n",
       "      <th>2022-05-15</th>\n",
       "      <td>NaN</td>\n",
       "      <td>NaN</td>\n",
       "      <td>NaN</td>\n",
       "      <td>NaN</td>\n",
       "    </tr>\n",
       "    <tr>\n",
       "      <th>...</th>\n",
       "      <td>...</td>\n",
       "      <td>...</td>\n",
       "      <td>...</td>\n",
       "      <td>...</td>\n",
       "    </tr>\n",
       "    <tr>\n",
       "      <th>2029-08-15</th>\n",
       "      <td>NaN</td>\n",
       "      <td>NaN</td>\n",
       "      <td>NaN</td>\n",
       "      <td>NaN</td>\n",
       "    </tr>\n",
       "    <tr>\n",
       "      <th>2029-11-15</th>\n",
       "      <td>NaN</td>\n",
       "      <td>NaN</td>\n",
       "      <td>NaN</td>\n",
       "      <td>NaN</td>\n",
       "    </tr>\n",
       "    <tr>\n",
       "      <th>2030-02-15</th>\n",
       "      <td>NaN</td>\n",
       "      <td>NaN</td>\n",
       "      <td>NaN</td>\n",
       "      <td>NaN</td>\n",
       "    </tr>\n",
       "    <tr>\n",
       "      <th>2030-05-15</th>\n",
       "      <td>NaN</td>\n",
       "      <td>NaN</td>\n",
       "      <td>NaN</td>\n",
       "      <td>NaN</td>\n",
       "    </tr>\n",
       "    <tr>\n",
       "      <th>2030-05-15</th>\n",
       "      <td>NaN</td>\n",
       "      <td>NaN</td>\n",
       "      <td>NaN</td>\n",
       "      <td>NaN</td>\n",
       "    </tr>\n",
       "  </tbody>\n",
       "</table>\n",
       "<p>287 rows × 4 columns</p>\n",
       "</div>"
      ],
      "text/plain": [
       "           period bond# coupon face\n",
       "MATURITY                           \n",
       "2022-05-05    NaN   NaN    NaN  NaN\n",
       "2022-05-10    NaN   NaN    NaN  NaN\n",
       "2022-05-12    NaN   NaN    NaN  NaN\n",
       "2022-05-15    NaN   NaN    NaN  NaN\n",
       "2022-05-15    NaN   NaN    NaN  NaN\n",
       "...           ...   ...    ...  ...\n",
       "2029-08-15    NaN   NaN    NaN  NaN\n",
       "2029-11-15    NaN   NaN    NaN  NaN\n",
       "2030-02-15    NaN   NaN    NaN  NaN\n",
       "2030-05-15    NaN   NaN    NaN  NaN\n",
       "2030-05-15    NaN   NaN    NaN  NaN\n",
       "\n",
       "[287 rows x 4 columns]"
      ]
     },
     "execution_count": 121,
     "metadata": {},
     "output_type": "execute_result"
    }
   ],
   "source": [
    "possibilities_periods"
   ]
  },
  {
   "cell_type": "code",
   "execution_count": 122,
   "metadata": {},
   "outputs": [],
   "source": [
    "for i in range(0,len(date_lists_to_change_to_periods)):\n",
    "    possibilities_periods.loc[date_lists_to_change_to_periods[i],'period'] = i+1\n",
    "\n",
    "possibilities_periods['bond#'] = range(1,len(possibilities_periods)+1)\n",
    "possibilities_periods['coupon'] = possibilities['COUPON']\n",
    "possibilities_periods['face'] = 100\n",
    "possibilities_periods = possibilities_periods.set_index('bond#')"
   ]
  },
  {
   "cell_type": "code",
   "execution_count": 123,
   "metadata": {},
   "outputs": [
    {
     "data": {
      "text/html": [
       "<div>\n",
       "<style scoped>\n",
       "    .dataframe tbody tr th:only-of-type {\n",
       "        vertical-align: middle;\n",
       "    }\n",
       "\n",
       "    .dataframe tbody tr th {\n",
       "        vertical-align: top;\n",
       "    }\n",
       "\n",
       "    .dataframe thead th {\n",
       "        text-align: right;\n",
       "    }\n",
       "</style>\n",
       "<table border=\"1\" class=\"dataframe\">\n",
       "  <thead>\n",
       "    <tr style=\"text-align: right;\">\n",
       "      <th></th>\n",
       "      <th>period</th>\n",
       "      <th>coupon</th>\n",
       "      <th>face</th>\n",
       "    </tr>\n",
       "    <tr>\n",
       "      <th>bond#</th>\n",
       "      <th></th>\n",
       "      <th></th>\n",
       "      <th></th>\n",
       "    </tr>\n",
       "  </thead>\n",
       "  <tbody>\n",
       "    <tr>\n",
       "      <th>1</th>\n",
       "      <td>1</td>\n",
       "      <td>0.000</td>\n",
       "      <td>100</td>\n",
       "    </tr>\n",
       "    <tr>\n",
       "      <th>2</th>\n",
       "      <td>1</td>\n",
       "      <td>0.000</td>\n",
       "      <td>100</td>\n",
       "    </tr>\n",
       "    <tr>\n",
       "      <th>3</th>\n",
       "      <td>1</td>\n",
       "      <td>0.000</td>\n",
       "      <td>100</td>\n",
       "    </tr>\n",
       "    <tr>\n",
       "      <th>4</th>\n",
       "      <td>1</td>\n",
       "      <td>1.750</td>\n",
       "      <td>100</td>\n",
       "    </tr>\n",
       "    <tr>\n",
       "      <th>5</th>\n",
       "      <td>1</td>\n",
       "      <td>2.125</td>\n",
       "      <td>100</td>\n",
       "    </tr>\n",
       "    <tr>\n",
       "      <th>...</th>\n",
       "      <td>...</td>\n",
       "      <td>...</td>\n",
       "      <td>...</td>\n",
       "    </tr>\n",
       "    <tr>\n",
       "      <th>283</th>\n",
       "      <td>15</td>\n",
       "      <td>6.125</td>\n",
       "      <td>100</td>\n",
       "    </tr>\n",
       "    <tr>\n",
       "      <th>284</th>\n",
       "      <td>15</td>\n",
       "      <td>1.750</td>\n",
       "      <td>100</td>\n",
       "    </tr>\n",
       "    <tr>\n",
       "      <th>285</th>\n",
       "      <td>16</td>\n",
       "      <td>1.500</td>\n",
       "      <td>100</td>\n",
       "    </tr>\n",
       "    <tr>\n",
       "      <th>286</th>\n",
       "      <td>16</td>\n",
       "      <td>0.625</td>\n",
       "      <td>100</td>\n",
       "    </tr>\n",
       "    <tr>\n",
       "      <th>287</th>\n",
       "      <td>16</td>\n",
       "      <td>6.250</td>\n",
       "      <td>100</td>\n",
       "    </tr>\n",
       "  </tbody>\n",
       "</table>\n",
       "<p>287 rows × 3 columns</p>\n",
       "</div>"
      ],
      "text/plain": [
       "      period  coupon  face\n",
       "bond#                     \n",
       "1          1   0.000   100\n",
       "2          1   0.000   100\n",
       "3          1   0.000   100\n",
       "4          1   1.750   100\n",
       "5          1   2.125   100\n",
       "...      ...     ...   ...\n",
       "283       15   6.125   100\n",
       "284       15   1.750   100\n",
       "285       16   1.500   100\n",
       "286       16   0.625   100\n",
       "287       16   6.250   100\n",
       "\n",
       "[287 rows x 3 columns]"
      ]
     },
     "execution_count": 123,
     "metadata": {},
     "output_type": "execute_result"
    }
   ],
   "source": [
    "possibilities_periods"
   ]
  },
  {
   "cell_type": "code",
   "execution_count": 124,
   "metadata": {},
   "outputs": [],
   "source": [
    "cfs = np.zeros((len(possibilities_periods),len(date_lists_to_change_to_periods)))"
   ]
  },
  {
   "cell_type": "code",
   "execution_count": 125,
   "metadata": {},
   "outputs": [],
   "source": [
    "'''CF Matrix'''\n",
    "'''Will make function later'''\n",
    "for i in range(0, len(cfs)):\n",
    "\n",
    "    # Period 1 Bonds\n",
    "    if possibilities_periods.loc[i+1,'period'] == 1 and possibilities_periods.loc[i+1,'coupon'] == 0:\n",
    "        cfs[i][0] = possibilities_periods.loc[i+1,'face']\n",
    "    elif possibilities_periods.loc[i+1,'period'] == 1 and possibilities_periods.loc[i+1,'coupon'] != 0:\n",
    "        cfs[i][0] = possibilities_periods.loc[i+1,'face'] + possibilities_periods.loc[i+1,'coupon']/2\n",
    "        \n",
    "    # Period 2 Bonds\n",
    "    elif possibilities_periods.loc[i+1,'period'] == 2 and possibilities_periods.loc[i+1,'coupon'] == 0:\n",
    "        cfs[i][1] = possibilities_periods.loc[i+1,'face']\n",
    "    elif possibilities_periods.loc[i+1,'period'] == 2 and possibilities_periods.loc[i+1,'coupon'] != 0:\n",
    "        cfs[i][0] = possibilities_periods.loc[i+1,'coupon']/2\n",
    "        cfs[i][1] = possibilities_periods.loc[i+1,'face'] + possibilities_periods.loc[i+1,'coupon']/2\n",
    "    \n",
    "    # Period 3 Bonds (No more T-Bills)\n",
    "    elif possibilities_periods.loc[i+1,'period'] == 3:\n",
    "        cfs[i][0:2] = possibilities_periods.loc[i+1,'coupon']/2\n",
    "        cfs[i][2] = possibilities_periods.loc[i+1,'face'] + possibilities_periods.loc[i+1,'coupon']/2\n",
    "    # Period 4 Bonds \n",
    "    elif possibilities_periods.loc[i+1,'period'] == 4:\n",
    "        cfs[i][0:3] = possibilities_periods.loc[i+1,'coupon']/2\n",
    "        cfs[i][3] = possibilities_periods.loc[i+1,'face'] + possibilities_periods.loc[i+1,'coupon']/2\n",
    "\n",
    "    # Period 5 Bonds\n",
    "    elif possibilities_periods.loc[i+1,'period'] == 5:\n",
    "        cfs[i][0:4] = possibilities_periods.loc[i+1,'coupon']/2\n",
    "        cfs[i][4] = possibilities_periods.loc[i+1,'face'] + possibilities_periods.loc[i+1,'coupon']/2\n",
    "    # Period 6 Bonds \n",
    "    elif possibilities_periods.loc[i+1,'period'] == 6:\n",
    "        cfs[i][0:5] = possibilities_periods.loc[i+1,'coupon']/2\n",
    "        cfs[i][5] = possibilities_periods.loc[i+1,'face'] + possibilities_periods.loc[i+1,'coupon']/2\n",
    "\n",
    "    # Period 7 Bonds\n",
    "    elif possibilities_periods.loc[i+1,'period'] == 7:\n",
    "        cfs[i][0:6] = possibilities_periods.loc[i+1,'coupon']/2\n",
    "        cfs[i][6] = possibilities_periods.loc[i+1,'face'] + possibilities_periods.loc[i+1,'coupon']/2\n",
    "    # Period 8 Bonds \n",
    "    elif possibilities_periods.loc[i+1,'period'] == 8:\n",
    "        cfs[i][0:7] = possibilities_periods.loc[i+1,'coupon']/2\n",
    "        cfs[i][7] = possibilities_periods.loc[i+1,'face'] + possibilities_periods.loc[i+1,'coupon']/2    \n",
    "    \n",
    "    # Period 9 Bonds\n",
    "    elif possibilities_periods.loc[i+1,'period'] == 9:\n",
    "        cfs[i][0:8] = possibilities_periods.loc[i+1,'coupon']/2\n",
    "        cfs[i][8] = possibilities_periods.loc[i+1,'face'] + possibilities_periods.loc[i+1,'coupon']/2\n",
    "    # Period 10 Bonds \n",
    "    elif possibilities_periods.loc[i+1,'period'] == 10:\n",
    "        cfs[i][0:9] = possibilities_periods.loc[i+1,'coupon']/2\n",
    "        cfs[i][9] = possibilities_periods.loc[i+1,'face'] + possibilities_periods.loc[i+1,'coupon']/2\n",
    "    # Period 11 Bonds\n",
    "    elif possibilities_periods.loc[i+1,'period'] == 11:\n",
    "        cfs[i][0:10] = possibilities_periods.loc[i+1,'coupon']/2\n",
    "        cfs[i][10] = possibilities_periods.loc[i+1,'face'] + possibilities_periods.loc[i+1,'coupon']/2\n",
    "    # Period 12 Bonds \n",
    "    elif possibilities_periods.loc[i+1,'period'] == 12:\n",
    "        cfs[i][0:11] = possibilities_periods.loc[i+1,'coupon']/2\n",
    "        cfs[i][11] = possibilities_periods.loc[i+1,'face'] + possibilities_periods.loc[i+1,'coupon']/2\n",
    "    # Period 13 Bonds\n",
    "    elif possibilities_periods.loc[i+1,'period'] == 13:\n",
    "        cfs[i][0:12] = possibilities_periods.loc[i+1,'coupon']/2\n",
    "        cfs[i][12] = possibilities_periods.loc[i+1,'face'] + possibilities_periods.loc[i+1,'coupon']/2\n",
    "    # Period 14 Bonds \n",
    "    elif possibilities_periods.loc[i+1,'period'] == 14:\n",
    "        cfs[i][0:13] = possibilities_periods.loc[i+1,'coupon']/2\n",
    "        cfs[i][13] = possibilities_periods.loc[i+1,'face'] + possibilities_periods.loc[i+1,'coupon']/2\n",
    "    # Period 15 Bonds\n",
    "    elif possibilities_periods.loc[i+1,'period'] == 15:\n",
    "        cfs[i][0:14] = possibilities_periods.loc[i+1,'coupon']/2\n",
    "        cfs[i][14] = possibilities_periods.loc[i+1,'face'] + possibilities_periods.loc[i+1,'coupon']/2\n",
    "    # Period 16 Bonds \n",
    "    elif possibilities_periods.loc[i+1,'period'] == 16:\n",
    "        cfs[i][0:15] = possibilities_periods.loc[i+1,'coupon']/2\n",
    "        cfs[i][15] = possibilities_periods.loc[i+1,'face'] + possibilities_periods.loc[i+1,'coupon']/2"
   ]
  },
  {
   "cell_type": "code",
   "execution_count": 126,
   "metadata": {},
   "outputs": [],
   "source": [
    "'''Changing the CF matrix to a List of Lists just to be safe as PuLP may not use numpy arrays'''\n",
    "\n",
    "cf_matrix = cfs.tolist()"
   ]
  },
  {
   "cell_type": "code",
   "execution_count": 127,
   "metadata": {},
   "outputs": [
    {
     "data": {
      "text/plain": [
       "1"
      ]
     },
     "execution_count": 127,
     "metadata": {},
     "output_type": "execute_result"
    }
   ],
   "source": [
    "'''Solving for the dedicated portfolio'''\n",
    "'''PuLP time Bitches I am ripping from my answer in HW2 Prob 3a'''\n",
    "# Making variable list of strings\n",
    "bonds = ['$b_{}$'.format('{'+str(i)+'}') for i in range(1, len(cf_matrix)+1)]\n",
    "periods = [i for i in range(0,len(cf_matrix[0])+1)]\n",
    "# Must reverse both price vector and cashflow matrix\n",
    "cf_matrix.reverse()\n",
    "prices.reverse()\n",
    "\n",
    "# Dictionary of period constraints\n",
    "period_dict = {}\n",
    "for i in range(0,len(cf_matrix[0])):\n",
    "    period_dict['Period {}'.format(i+1)] = dict(zip(bonds,[cf_matrix[j][i] for j in range(0,len(cf_matrix))]))\n",
    "\n",
    "objective = dict(zip(bonds, prices))\n",
    "# Decision Vars\n",
    "quantity = LpVariable.dict('', bonds, lowBound=0)\n",
    "excess = LpVariable.dict('carryover', periods, lowBound=0)\n",
    "# Intializing the Problem\n",
    "dedication_1 = LpProblem('Dedicated', LpMinimize)\n",
    "# Objective function\n",
    "dedication_1 += excess[0]+lpSum([objective[i]*quantity[i] for i in bonds])\n",
    "# Constraints\n",
    "for i in range(0,len(cf_matrix[0])-1):\n",
    "    dedication_1 += lpSum([period_dict['Period {}'.format(i+1)][j]*quantity[j] for j in bonds]) + excess[i]- excess[i+1] == liabilities[i]\n",
    "\n",
    "dedication_1.solve()\n"
   ]
  },
  {
   "cell_type": "code",
   "execution_count": 128,
   "metadata": {},
   "outputs": [],
   "source": [
    "solutions_1 = [v.varValue for v in dedication_1.variables()][0:len(bonds)]\n",
    "solution_df_1 = pd.DataFrame(solutions_1,index=bonds,columns= ['Quantity'])\n",
    "\n",
    "cost_each_1 = [solutions_1[i]*prices[i] for i in range(0,len(bonds))]\n",
    "val_1 = sum(cost_each_1)"
   ]
  },
  {
   "cell_type": "code",
   "execution_count": 129,
   "metadata": {},
   "outputs": [],
   "source": [
    "solution_df_1.drop(index = [i for i in bonds if solution_df_1.loc[i,'Quantity'] == 0], inplace=True)"
   ]
  },
  {
   "cell_type": "code",
   "execution_count": 130,
   "metadata": {},
   "outputs": [
    {
     "data": {
      "text/markdown": [
       " \n",
       "##### <center> Dedication Portfolio Cost & Composition  </center>\n",
       "\n",
       "<center>\n",
       "\n",
       "Portfolio Cost $ = \\$105900.55 $ <br>\n",
       "\n",
       "</center>\n",
       "\n",
       "<center>\n",
       "\n",
       "|           |   Quantity |\n",
       "|----------:|-----------:|\n",
       "|  $b_{13}$ |    81.3914 |\n",
       "|  $b_{27}$ |    71.1246 |\n",
       "|  $b_{45}$ |    51.0608 |\n",
       "|  $b_{87}$ |    59.2105 |\n",
       "|  $b_{98}$ |    69.1241 |\n",
       "| $b_{122}$ |    86.1716 |\n",
       "| $b_{165}$ |    86.0064 |\n",
       "| $b_{177}$ |    65.2339 |\n",
       "| $b_{215}$ |    44.7306 |\n",
       "| $b_{231}$ |    52.9758 |\n",
       "| $b_{248}$ |    80.2668 |\n",
       "| $b_{254}$ |    79.3552 |\n",
       "| $b_{264}$ |   107.055  |\n",
       "| $b_{265}$ |    68.5413 |\n",
       "| $b_{281}$ |    74.4944 |\n",
       "\n"
      ],
      "text/plain": [
       "<IPython.core.display.Markdown object>"
      ]
     },
     "execution_count": 130,
     "metadata": {},
     "output_type": "execute_result"
    }
   ],
   "source": [
    "'''Printing Solutions'''\n",
    "\n",
    "md(''' \n",
    "##### <center> Dedication Portfolio Cost & Composition  </center>\n",
    "\n",
    "<center>\n",
    "\n",
    "Portfolio Cost $ = \\${:.2f} $ <br>\n",
    "\n",
    "</center>\n",
    "\n",
    "<center>\n",
    "\n",
    "{}\n",
    "\n",
    "'''.format(val_1,solution_df_1.to_markdown(colalign = (\"right\",))))"
   ]
  },
  {
   "cell_type": "code",
   "execution_count": 131,
   "metadata": {},
   "outputs": [
    {
     "data": {
      "text/plain": [
       "116739.2966512272"
      ]
     },
     "execution_count": 131,
     "metadata": {},
     "output_type": "execute_result"
    }
   ],
   "source": [
    "npv"
   ]
  },
  {
   "cell_type": "markdown",
   "metadata": {},
   "source": [
    "Possibily going wrong somewhere but do not know where. It is late. Should optimla cost be this far off from the NPV?"
   ]
  },
  {
   "cell_type": "markdown",
   "metadata": {},
   "source": [
    "# Part 4"
   ]
  },
  {
   "cell_type": "code",
   "execution_count": 132,
   "metadata": {},
   "outputs": [
    {
     "data": {
      "text/plain": [
       "[0.021,\n",
       " 0.0273,\n",
       " 0.0273,\n",
       " 0.029300000000000003,\n",
       " 0.029300000000000003,\n",
       " 0.0301,\n",
       " 0.0301,\n",
       " 0.0301,\n",
       " 0.0301,\n",
       " 0.0304,\n",
       " 0.0304,\n",
       " 0.0304,\n",
       " 0.0304,\n",
       " 0.029900000000000003,\n",
       " 0.029900000000000003]"
      ]
     },
     "execution_count": 132,
     "metadata": {},
     "output_type": "execute_result"
    }
   ],
   "source": [
    "rates_for_periods[0:15]"
   ]
  },
  {
   "cell_type": "code",
   "execution_count": 133,
   "metadata": {},
   "outputs": [
    {
     "data": {
      "text/markdown": [
       " \n",
       "##### <center> Sensitivity & Rates </center>\n",
       "\n",
       "<center>\n",
       "\n",
       "|   Period |   shadow price |   implied rates |   actual rates |\n",
       "|---------:|---------------:|----------------:|---------------:|\n",
       "|        1 |       0.977023 |       0.0235174 |         0.021  |\n",
       "|        2 |       0.970186 |       0.0203833 |         0.0273 |\n",
       "|        3 |       0.95231  |       0.0247332 |         0.0273 |\n",
       "|        4 |       0.937843 |       0.0260012 |         0.0293 |\n",
       "|        5 |       0.924583 |       0.0264822 |         0.0293 |\n",
       "|        6 |       0.906067 |       0.0285843 |         0.0301 |\n",
       "|        7 |       0.895403 |       0.0280054 |         0.0301 |\n",
       "|        8 |       0.879163 |       0.0290324 |         0.0301 |\n",
       "|        9 |       0.862658 |       0.0299882 |         0.0301 |\n",
       "|       10 |       0.849548 |       0.0300895 |         0.0304 |\n",
       "|       11 |       0.840671 |       0.0293482 |         0.0304 |\n",
       "|       12 |       0.827461 |       0.0295662 |         0.0304 |\n",
       "|       13 |       0.812954 |       0.030025  |         0.0304 |\n",
       "|       14 |       0.804787 |       0.0293803 |         0.0299 |\n",
       "|       15 |       0.795397 |       0.0290275 |         0.0299 |\n",
       "\n"
      ],
      "text/plain": [
       "<IPython.core.display.Markdown object>"
      ]
     },
     "execution_count": 133,
     "metadata": {},
     "output_type": "execute_result"
    },
    {
     "data": {
      "application/vnd.jupyter.widget-view+json": {
       "model_id": "53e5f564f10e40bb840889786e29fdeb",
       "version_major": 2,
       "version_minor": 0
      },
      "image/png": "[encoded data removed]",
      "text/html": [
       "\n",
       "            <div style=\"display: inline-block;\">\n",
       "                <div class=\"jupyter-widgets widget-label\" style=\"text-align: center;\">\n",
       "                    Figure\n",
       "                </div>\n",
       "                <img src='data:image/png;base64,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' width=1000.0/>\n",
       "            </div>\n",
       "        "
      ],
      "text/plain": [
       "Canvas(toolbar=Toolbar(toolitems=[('Home', 'Reset original view', 'home', 'home'), ('Back', 'Back to previous …"
      ]
     },
     "metadata": {},
     "output_type": "display_data"
    }
   ],
   "source": [
    "o = [{'name':name, 'shadow price':c.pi}\n",
    "    for name, c in dedication_1.constraints.items()]\n",
    "shadow_prices = pd.DataFrame(o, index=[1,2,3,4,5,6,7,8,9,10,11,12,13,14,15])\n",
    "shadow_prices.drop(columns=['name'],axis= 1, inplace=True)\n",
    "shadow_prices.index.name = 'Period'\n",
    "shadow_prices['implied rates'] = [1/shadow_prices['shadow price'][i]**(1/(i/2+0.5))-1 for i in shadow_prices.index.to_list()]\n",
    "shadow_prices['actual rates'] = rates_for_periods[0:15]\n",
    "\n",
    "with plt.style.context('fivethirtyeight'):\n",
    "    fig = plt.subplots(figsize=(10,5))\n",
    "    plt.plot(shadow_prices['implied rates'], label = 'implied rates')\n",
    "    plt.plot(shadow_prices['actual rates'], label = 'actual rates')\n",
    "    plt.title('Implied vs Actual Term Structure')\n",
    "    plt.ylabel('Yield')\n",
    "    plt.xlabel('Years')\n",
    "    plt.legend()\n",
    "\n",
    "md(''' \n",
    "##### <center> Sensitivity & Rates </center>\n",
    "\n",
    "<center>\n",
    "\n",
    "{}\n",
    "\n",
    "'''.format(shadow_prices.to_markdown())\n",
    ")"
   ]
  },
  {
   "cell_type": "markdown",
   "metadata": {},
   "source": [
    "# Stopped Here"
   ]
  },
  {
   "cell_type": "markdown",
   "metadata": {},
   "source": [
    "I have to finish some docstringing and review with you both as well as double checking some calcs.\n",
    "\n",
    "Clean up/Making Pretty will happen later "
   ]
  }
 ],
 "metadata": {
  "interpreter": {
   "hash": "9ab69a8e833d1a5c790df8c0f70c84ff45849265da420fa40dcf3811b61444a6"
  },
  "kernelspec": {
   "display_name": "Python 3.9.7 64-bit",
   "language": "python",
   "name": "python3"
  },
  "language_info": {
   "codemirror_mode": {
    "name": "ipython",
    "version": 3
   },
   "file_extension": ".py",
   "mimetype": "text/x-python",
   "name": "python",
   "nbconvert_exporter": "python",
   "pygments_lexer": "ipython3",
   "version": "3.9.7"
  },
  "orig_nbformat": 4
 },
 "nbformat": 4,
 "nbformat_minor": 2
}
