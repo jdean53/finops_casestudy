{
 "cells": [
  {
   "cell_type": "markdown",
   "metadata": {},
   "source": [
    "\\begin{center}\n",
    "  \\vfill\n",
    "  A case study using real world data to formulate optimized dedication, immunization, and other bond portfolios. \n",
    "  \\vspace{0.8cm}\n",
    "\n",
    "\n",
    "  \\includegraphics[width=0.4\\textwidth]{lehigh-logo-print}\n",
    "\\end{center}\n",
    "\\pagebreak\n",
    "\\tableofcontents \n",
    "\\pagebreak"
   ]
  },
  {
   "cell_type": "code",
   "execution_count": 619,
   "metadata": {},
   "outputs": [],
   "source": [
    "# Hide\n",
    "'''\n",
    "Package Imports\n",
    "'''\n",
    "import pandas as pd\n",
    "import numpy as np\n",
    "import pulp\n",
    "from pulp import *\n",
    "import datetime\n",
    "import matplotlib.pyplot as plt\n",
    "\n",
    "import FinOpsCodeDeck as finops\n",
    "\n",
    "from IPython.display import Markdown as md\n"
   ]
  },
  {
   "cell_type": "markdown",
   "metadata": {},
   "source": [
    "# Term Structure\n",
    "\n",
    "Determine the current term structure of treasury rates (see textbook Section 3.4 or other resources that you can find), and find the present value, duration, and convexity of the stream of liabilities. Please explain the main steps followed in your calculations.  Use real world data."
   ]
  },
  {
   "cell_type": "markdown",
   "metadata": {},
   "source": [
    "## Deriving Term Structure\n",
    "\n",
    "In this section, we describe our derivation of the term structure of interest rates.  Specifically, we outline our data gathering and transformation techniques and then move to explaining bootstrapping.\n",
    "\n",
    "### Data and Transformations\n",
    "\n",
    "We begin by pulling current US Treasury issued Bonds and Notes from The [Wall Street Journal](https://www.wsj.com/market-data/bonds/treasuries).  We transform this data so we can understand each bonds market.  Specifically, we create a bid and ask price for each bond called `'px_bid'` or `'px_ask'`.  We also take the maturity of the bond less today's date to get a time to maturity field called `'ttm'`.  This time to maturity is a float datatype which represents the years to maturity according to an actual/365 day calendar, the standard calendar of US Treasury Bonds.  For sake of simplicity, we use this calendar for the notes as well despite these operating on a 30/360 calendar.  Having completed these transformations, we can move to bootstrapping the curve.\n",
    "\n",
    "### Bootstrapping\n",
    "\n",
    "[Bootstrapping](https://en.wikipedia.org/wiki/Bootstrapping_(finance)) is a technique used to find continuous annualized interest rates across all time to maturities.  Due to the nature of fixed income securities paying intermediate coupons, bootstrapping is necessary to value a cashflow from one specific point in time to any other.  To better understand this, consider the following example.\n",
    "\n",
    "*Example*  \n",
    "Let the current market only consist of 2 risk-free bonds that were issued today:  \n",
    "* 1-year zero-coupon bond trading at 99c on the dollar  \n",
    "* 2-year 1.5% annual coupon bond trading at par  \n",
    "To bootstrap the curve, we start with the 1-year zero.\n",
    "$$99=100\\mathrm{exp}\\{-r\\}\\implies r=-\\mathrm{log}(0.99)\\approx0.01$$\n",
    "We then use this rate in our calculation with the coupon bond to find the 2-year rate.\n",
    "$$100 = 1.5\\mathrm{exp}\\{-0.01(1)\\} + 101.5\\mathrm{exp}\\{-2r\\} \\implies r\\approx0.0145$$\n",
    "In this example, we have found the term structure to be given by:  \n",
    "\n",
    "| Time to Maturity | Rate |  \n",
    "| -- | -- |  \n",
    "| 1 | 1.00% |  \n",
    "| 2 | 1.45% |  \n",
    "\n",
    "So, doing this over all cashflows of all bonds in our data will allow us to derive a term structure across all maturities.  This derived term structure will drive our analysis.\n",
    "\n",
    "**NOTE**: For sake of simplicity, we round all time to maturity to the nearest hundredth of a year.  From a bond trading perspective, this is essentially every 2.5 trading days representing 1 time period.  We do this for simplicity in later sections as not all dates marry exactly together.  In the event that a particular liability does not have a term structure rate associated with it, we use the closest prior known date.  Additionally, in the event there are multiple calculated  yields for a particular time to maturity, we take the arithmetic average of them for that time."
   ]
  },
  {
   "cell_type": "markdown",
   "metadata": {},
   "source": [
    "\\footnotesize"
   ]
  },
  {
   "cell_type": "code",
   "execution_count": 620,
   "metadata": {},
   "outputs": [],
   "source": [
    "# Hide\n",
    "'''\n",
    "Data Import for Current Term Structure\n",
    "---\n",
    "Imports all active treasury bonds data, time indexes them by year\n",
    "'''\n",
    "data_prompt = pd.read_excel('Table.xlsx', sheet_name='PromptUse', index_col = 'DateDue')\n",
    "data_prompt = data_prompt/1000\n",
    "term_structure_df = pd.read_excel('TableNew.xlsx', sheet_name='d')\n",
    "term_structure_df['px_ask'] = [i if i>=5 else 100 - i for i in term_structure_df['ASKED'].to_list()]\n",
    "term_structure_df['px_bid'] = [i if i>=5 else 100 - i for i in term_structure_df['BID'].to_list()]\n",
    "term_structure_df['ttm'] = [(i - datetime.datetime.now())/datetime.timedelta(days=365) for i in term_structure_df['MATURITY']]"
   ]
  },
  {
   "cell_type": "code",
   "execution_count": 621,
   "metadata": {},
   "outputs": [],
   "source": [
    "'''\n",
    "Bootstrap yield curve\n",
    "---\n",
    "begins with zero-coupon bonds to payout (ttm < 0.5 yrs) & calculates yield\n",
    "moves to coupon bonds and uses calculated yields to bootstrap further\n",
    "sorts all bonds into data frame indexed by ttm (by 100th of a year)\n",
    "NOTE: Averages yields for the same time period\n",
    "NOTE: assumes yield of period prior if yield for desired period does not exist\n",
    "'''\n",
    "\n",
    "'''short term rates'''\n",
    "mats = []\n",
    "round_to = 2\n",
    "for bond_tenor in term_structure_df[term_structure_df['ttm'] <= 0.5].index:\n",
    "    bond = term_structure_df.loc[bond_tenor]\n",
    "    cpn = bond['COUPON']/2\n",
    "    ttm = bond['ttm']\n",
    "    px = bond['px_ask']\n",
    "    mats.append([np.round(ttm,round_to),np.log((100 + cpn) / bond['px_ask']) / bond['ttm']])\n",
    "rates = pd.DataFrame(mats, columns=['ttm','rate']).set_index('ttm').groupby('ttm').mean()\n",
    "\n",
    "'''longer term rates'''\n",
    "for bond_tenor in term_structure_df[term_structure_df['ttm']>=0.5].index:\n",
    "    bond = term_structure_df.loc[bond_tenor]\n",
    "    px = bond['px_ask']\n",
    "    ttm = bond['ttm']\n",
    "    cpn = bond['COUPON']/2\n",
    "    pmts = int(np.ceil(ttm * 2))\n",
    "    cfs = [cpn if i+1<pmts else 100 + cpn for i in range(pmts)]\n",
    "    cfs_idx = [np.round(ttm-i*0.5, round_to) for i in reversed(range(pmts))]\n",
    "    known_rates = [rates[:cfs_idx[i]].iloc[-1,0] for i in range(pmts-1)]\n",
    "    val = px - sum([cpn * np.exp((-1) * known_rates[i] * cfs_idx[i]) for i in range(pmts-1)])\n",
    "    yld = (-1) * (np.log(val / (100+cpn)) / cfs_idx[pmts-1])\n",
    "    add_df = pd.DataFrame([np.round(ttm, round_to), yld], index=['ttm','rate']).transpose().set_index('ttm')\n",
    "    rates = pd.concat([rates,add_df],ignore_index=False)\n",
    "    rates = rates.groupby('ttm').mean()"
   ]
  },
  {
   "cell_type": "code",
   "execution_count": 622,
   "metadata": {},
   "outputs": [
    {
     "data": {
      "text/plain": [
       "<matplotlib.legend.Legend at 0x18757e411c0>"
      ]
     },
     "execution_count": 622,
     "metadata": {},
     "output_type": "execute_result"
    },
    {
     "data": {
      "image/png": "[encoded data removed]",
      "text/plain": [
       "<Figure size 432x288 with 1 Axes>"
      ]
     },
     "metadata": {
      "needs_background": "light"
     },
     "output_type": "display_data"
    }
   ],
   "source": [
    "'''\n",
    "plot yield curve\n",
    "---\n",
    "plots yield curve in percentage points\n",
    "'''\n",
    "plt.plot(rates[0.5:] * 100)\n",
    "plt.title('Bootstrapped Term Structure (rates per annum)')\n",
    "plt.xlabel('Tenor')\n",
    "plt.ylabel('Yield in Percentage Points')\n",
    "plt.legend(['Yield Curve'])"
   ]
  },
  {
   "cell_type": "code",
   "execution_count": 623,
   "metadata": {},
   "outputs": [],
   "source": [
    "'''\n",
    "Liability Stream Analysis\n",
    "---\n",
    "Calculates time to maturity (in years) of each obligation\n",
    "Calculates npv, duration, and convexity of liability stream\n",
    "Prints stats to markdown for viewing\n",
    "'''\n",
    "data_prompt['ttm'] = np.round((data_prompt.index - datetime.datetime.now()) / datetime.timedelta(days=365), round_to)\n",
    "r = [rates[:ttm].iloc[-1,0] for ttm in data_prompt['ttm']]\n",
    "data_prompt['rates'] = r\n",
    "\n",
    "npv = sum([data_prompt.iloc[i,0]*np.exp((-1)*data_prompt.iloc[i,1]*data_prompt.iloc[i,2]) for i in range(len(data_prompt))])\n",
    "dur = sum([data_prompt.iloc[i,0]*data_prompt.iloc[i,1]*np.exp((-1) * (data_prompt.iloc[i,1]+1)*data_prompt.iloc[i,2]) for i in range(len(data_prompt))])\n",
    "con = sum([data_prompt.iloc[i,0]*data_prompt.iloc[i,1]*(data_prompt.iloc[i,1]+1)*np.exp((-1)*(data_prompt.iloc[i,1]+2)*data_prompt.iloc[i,2]) for i in range(len(data_prompt))])\n",
    "\n"
   ]
  },
  {
   "cell_type": "markdown",
   "metadata": {},
   "source": [
    "\\normalsize"
   ]
  },
  {
   "cell_type": "code",
   "execution_count": 624,
   "metadata": {},
   "outputs": [
    {
     "data": {
      "text/markdown": [
       "\n",
       "<center>\n",
       "\n",
       "The Net Present Value of the Liabilities is $\\$117.66$ MM\n",
       "\n",
       "The Macauley Duration of the Liability stream is $3.83$ years\n",
       "\n",
       "The Convexity of the Liability stream is $23.31$\n",
       "\n",
       "</center>\n"
      ],
      "text/plain": [
       "<IPython.core.display.Markdown object>"
      ]
     },
     "execution_count": 624,
     "metadata": {},
     "output_type": "execute_result"
    }
   ],
   "source": [
    "md('''\n",
    "<center>\n",
    "\n",
    "The Net Present Value of the Liabilities is $\\${:.2f}$ MM\n",
    "\n",
    "The Macauley Duration of the Liability stream is ${:.2f}$ years\n",
    "\n",
    "The Convexity of the Liability stream is ${:.2f}$\n",
    "\n",
    "</center>\n",
    "'''.format(npv,dur/npv,con/npv))"
   ]
  },
  {
   "cell_type": "markdown",
   "metadata": {},
   "source": [
    "# Data\n",
    "\n",
    "Identify *at least* 30 fixed-income assets that are suitable to construct a dedicated bond portfolio for the municipality liabilities that you have been given. Use assets that are considered risk-free; for example, US government non-callable treasury bonds, treasury bills, or treasury notes. Display in an appropriate table the main characteristics of the bonds you choose. Namely, prices, coupon rates, maturity dates, face value)."
   ]
  },
  {
   "cell_type": "code",
   "execution_count": 625,
   "metadata": {},
   "outputs": [],
   "source": [
    "'''\n",
    "code block\n",
    "'''\n",
    "ref_data = ['T ' + '{:.3f}'.format(term_structure_df.iloc[bond,1]) + ' ' + term_structure_df.iloc[bond,0].strftime('%m/%d/%y') for bond in term_structure_df.index]\n",
    "term_structure_df['ref_data'] = ref_data\n",
    "\n",
    "bonds_clean = term_structure_df[['ref_data', 'px_ask', 'ASKED YIELD']]\n",
    "bonds_clean.columns = ['Bond', 'Price', 'Yield']\n",
    "# bonds_clean = bonds_clean.assign(ttm = term_structure_df.ttm.round(2))\n",
    "bonds_clean = bonds_clean.set_index('Bond')"
   ]
  },
  {
   "cell_type": "code",
   "execution_count": 626,
   "metadata": {},
   "outputs": [],
   "source": [
    "# Hide\n",
    "list_for_slice = bonds_clean.index.tolist()\n",
    "bond_dis1 = bonds_clean.loc[:list_for_slice[len(list_for_slice)//4-1],:].reset_index()\n",
    "bond_dis2 = bonds_clean.loc[list_for_slice[len(list_for_slice)//4]:list_for_slice[len(list_for_slice)//2-1],:].reset_index()\n",
    "bond_dis3 = bonds_clean.loc[list_for_slice[len(list_for_slice)//2]:list_for_slice[(3*len(list_for_slice))//4-1],:].reset_index()\n",
    "bond_dis4 = bonds_clean.loc[list_for_slice[(3*len(list_for_slice))//4]:,:].reset_index()\n",
    "multi_col = [(i, j) for i in range(1,5) for j in bond_dis4.columns.to_list()]\n",
    "side_by_side = pd.DataFrame(index=range(1,92), columns=pd.MultiIndex.from_tuples(multi_col))\n",
    "\n",
    "dis_dict = dict(zip(range(1,5), [bond_dis1, bond_dis2, bond_dis3, bond_dis4]))\n",
    "for i in range(1,5):\n",
    "    for j in bond_dis4.columns.to_list():\n",
    "        side_by_side.loc[:, (i, j)] = dis_dict[i][j].to_list()\n",
    "almost_dis = side_by_side.set_index((1, 'Bond'),).droplevel(level=0, axis=1)\n",
    "almost_dis\n",
    "almost_dis.index.name = 'Bond'\n",
    "almost_dis\n",
    "alignment = tuple(['center' for i in range(12)])"
   ]
  },
  {
   "cell_type": "markdown",
   "metadata": {},
   "source": [
    "\\scriptsize"
   ]
  },
  {
   "cell_type": "code",
   "execution_count": 627,
   "metadata": {},
   "outputs": [
    {
     "data": {
      "text/markdown": [
       "\n",
       "\n",
       "|       Bond       |  Price  |  Yield  |       Bond       |  Price  |  Yield  |       Bond       |  Price  |  Yield  |       Bond       |  Price  |  Yield  |\n",
       "|:----------------:|:-------:|:-------:|:----------------:|:-------:|:-------:|:----------------:|:-------:|:-------:|:----------------:|:-------:|:-------:|\n",
       "| T 1.750 05/15/22 | 100.01  | -1.9931 | T 1.625 04/30/23 |  99.19  |  2.056  | T 2.625 04/15/25 | 99.164  |  2.799  | T 5.250 11/15/28 | 113.192 |  2.935  |\n",
       "| T 2.125 05/15/22 | 100.012 | -2.5447 | T 2.750 04/30/23 | 100.206 |  2.061  | T 0.375 04/30/25 |  93.04  |  2.815  | T 1.500 11/30/28 | 91.112  |  2.964  |\n",
       "| T 0.000 05/17/22 | 99.352  |  0.657  | T 0.125 05/15/23 |  98.03  |  2.066  | T 2.875 04/30/25 | 100.066 |   2.8   | T 1.375 12/31/28 | 90.194  |  2.946  |\n",
       "| T 0.000 05/19/22 |  99.34  |  0.669  | T 1.750 05/15/23 |  99.22  |  2.068  | T 2.125 05/15/25 | 98.016  |  2.806  | T 1.750 01/31/29 | 92.234  |  2.951  |\n",
       "| T 0.000 05/24/22 |  99.32  |  0.69   | T 0.125 05/31/23 | 97.306  |  2.115  | T 2.750 05/15/25 | 99.282  |  2.791  | T 2.625 02/15/29 |  98.01  |  2.948  |\n",
       "| T 0.000 05/26/22 | 99.322  |  0.687  | T 1.625 05/31/23 | 99.156  |  2.12   | T 0.250 05/31/25 | 92.186  |  2.811  | T 5.250 02/15/29 | 114.03  |  2.933  |\n",
       "| T 0.125 05/31/22 | 99.312  | 0.6946  | T 2.750 05/31/23 | 100.204 |  2.124  | T 2.875 05/31/25 | 100.066 |  2.802  | T 1.875 02/28/29 | 93.152  |  2.942  |\n",
       "| T 1.750 05/31/22 | 100.014 |  0.608  | T 0.250 06/15/23 | 97.316  |  2.136  | T 0.250 06/30/25 | 92.116  |  2.819  | T 2.375 03/31/29 |  96.14  |  2.951  |\n",
       "| T 1.875 05/31/22 | 100.016 |  0.544  | T 0.125 06/30/23 |  97.23  |  2.19   | T 2.750 06/30/25 | 99.266  |  2.805  | T 2.875 04/30/29 | 99.172  |  2.949  |\n",
       "| T 0.000 05/31/22 | 99.307  |  0.702  | T 1.375 06/30/23 | 99.034  |  2.181  | T 0.250 07/31/25 | 92.046  |  2.826  | T 2.375 05/15/29 | 96.134  |  2.945  |\n",
       "| T 0.000 06/02/22 | 99.327  |  0.682  | T 2.625 06/30/23 | 100.156 |  2.178  | T 2.875 07/31/25 | 100.06  |  2.813  | T 1.625 08/15/29 | 91.192  |  2.918  |\n",
       "| T 0.000 06/07/22 | 99.352  |  0.657  | T 0.125 07/15/23 |  97.19  |  2.227  | T 2.000 08/15/25 | 97.136  |  2.833  | T 6.125 08/15/29 | 120.284 |  2.908  |\n",
       "| T 0.000 06/09/22 | 99.347  |  0.662  | T 0.125 07/31/23 | 97.144  |  2.271  | T 6.875 08/15/25 | 112.206 |  2.778  | T 1.750 11/15/29 | 92.076  |  2.909  |\n",
       "| T 0.000 06/14/22 |  99.35  |  0.659  | T 1.250 07/31/23 | 98.262  |  2.243  | T 0.250 08/31/25 |  91.29  |  2.844  | T 1.500 02/15/30 | 90.076  |  2.915  |\n",
       "| T 1.750 06/15/22 | 100.03  |  0.608  | T 2.750 07/31/23 | 100.19  |  2.248  | T 2.750 08/31/25 |  99.23  |  2.839  | T 0.625 05/15/30 |  83.23  |  2.923  |\n",
       "| T 0.000 06/16/22 | 99.372  |  0.637  | T 0.125 08/15/23 | 97.114  |  2.277  | T 0.250 09/30/25 | 91.224  |  2.846  | T 6.250 05/15/30 | 123.232 |  2.904  |\n",
       "| T 0.000 06/21/22 | 99.342  |  0.667  | T 2.500 08/15/23 | 100.094 |  2.257  | T 3.000 09/30/25 | 100.166 |  2.836  | T 0.625 08/15/30 |  83.09  |  2.92   |\n",
       "| T 0.000 06/23/22 | 99.307  |  0.703  | T 6.250 08/15/23 | 104.296 |  2.23   | T 0.250 10/31/25 |  91.16  |  2.85   | T 0.875 11/15/30 | 84.224  |  2.921  |\n",
       "| T 0.000 06/28/22 | 99.275  |  0.736  | T 0.125 08/31/23 | 97.062  |  2.344  | T 3.000 10/31/25 | 100.156 |  2.849  | T 1.125 02/15/31 | 86.076  |  2.918  |\n",
       "| T 0.125 06/30/22 | 99.294  |  0.755  | T 1.375 08/31/23 |  98.26  |  2.313  | T 2.250 11/15/25 | 98.004  |  2.85   | T 5.375 02/15/31 | 118.256 |  2.923  |\n",
       "| T 1.750 06/30/22 | 100.04  |  0.74   | T 2.750 08/31/23 | 100.176 |  2.31   | T 0.375 11/30/25 | 91.224  |  2.855  | T 1.625 05/15/31 |  89.25  |  2.925  |\n",
       "| T 2.125 06/30/22 | 100.052 |  0.799  | T 0.125 09/15/23 |  97.04  |  2.33   | T 2.875 11/30/25 | 100.026 |  2.849  | T 1.250 08/15/31 | 86.162  |  2.925  |\n",
       "| T 0.000 06/30/22 | 99.275  |  0.736  | T 0.250 09/30/23 | 97.056  |  2.347  | T 0.375 12/31/25 | 91.166  |  2.853  | T 1.375 11/15/31 | 87.046  |  2.935  |\n",
       "| T 0.000 07/05/22 |  99.26  |  0.751  | T 1.375 09/30/23 | 98.222  |  2.345  | T 2.625 12/31/25 |  99.09  |  2.835  | T 1.875 02/15/32 |  91.02  |  2.936  |\n",
       "| T 0.000 07/07/22 | 99.235  |  0.777  | T 2.875 09/30/23 | 100.23  |  2.339  | T 0.375 01/31/26 | 91.094  |  2.864  | T 2.875 05/15/32 | 99.176  |  2.927  |\n",
       "| T 0.000 07/12/22 | 99.237  |  0.774  | T 0.125 10/15/23 | 96.276  |  2.389  | T 2.625 01/31/26 | 99.062  |  2.855  | T 4.500 02/15/36 | 118.09  |  2.88   |\n",
       "| T 0.000 07/14/22 | 99.222  |  0.789  | T 0.375 10/31/23 | 97.032  |  2.412  | T 1.625 02/15/26 | 95.194  |  2.867  | T 4.750 02/15/37 | 121.096 |  2.957  |\n",
       "| T 1.750 07/15/22 | 100.052 |  0.756  | T 1.625 10/31/23 | 98.286  |  2.399  | T 6.000 02/15/26 | 111.052 |  2.84   | T 5.000 05/15/37 | 124.052 |  2.989  |\n",
       "| T 0.000 07/21/22 |  99.21  |  0.802  | T 2.875 10/31/23 | 100.21  |  2.413  | T 0.500 02/28/26 |  91.18  |  2.865  | T 4.375 02/15/38 | 116.29  |  3.018  |\n",
       "| T 0.000 07/28/22 | 99.205  |  0.807  | T 0.250 11/15/23 | 96.262  |  2.425  | T 2.500 02/28/26 | 98.232  |  2.856  | T 4.500 05/15/38 | 118.154 |  3.033  |\n",
       "| T 0.125 07/31/22 |  99.27  |  0.871  | T 2.750 11/15/23 | 100.156 |  2.413  | T 0.750 03/31/26 | 92.092  |  2.867  | T 3.500 02/15/39 | 105.026 |  3.108  |\n",
       "| T 1.875 07/31/22 | 100.064 |  0.902  | T 0.500 11/30/23 |  97.01  |  2.475  | T 2.250 03/31/26 |  97.24  |  2.867  | T 4.250 05/15/39 | 115.006 |  3.106  |\n",
       "| T 2.000 07/31/22 | 100.072 |  0.915  | T 2.125 11/30/23 | 99.172  |  2.431  | T 0.750 04/30/26 | 92.042  |  2.868  | T 4.500 08/15/39 | 118.124 |  3.114  |\n",
       "| T 0.000 08/04/22 | 99.085  |  0.93   | T 2.875 11/30/23 | 100.202 |  2.454  | T 2.375 04/30/26 | 98.062  |  2.861  | T 4.375 11/15/39 | 116.14  |  3.146  |\n",
       "| T 0.000 08/11/22 | 99.055  |  0.96   | T 0.125 12/15/23 | 96.126  |  2.46   | T 1.625 05/15/26 | 95.094  |  2.879  | T 4.625 02/15/40 | 120.014 |  3.143  |\n",
       "| T 1.500 08/15/22 | 100.04  |  0.999  | T 0.750 12/31/23 |  97.07  |  2.508  | T 0.750 05/31/26 | 91.292  |  2.884  | T 1.125 05/15/40 |  70.18  |  3.309  |\n",
       "| T 1.625 08/15/22 | 100.05  |  0.999  | T 2.250 12/31/23 | 99.202  |  2.481  | T 2.125 05/31/26 |  97.05  |  2.875  | T 4.375 05/15/40 |  116.1  |  3.178  |\n",
       "| T 7.250 08/15/22 | 101.184 |  0.942  | T 2.625 12/31/23 | 100.08  |  2.466  | T 0.875 06/30/26 | 92.074  |  2.886  | T 1.125 08/15/40 |  70.03  |  3.324  |\n",
       "| T 0.000 08/18/22 |  99.01  |  1.006  | T 0.125 01/15/24 | 96.046  |   2.5   | T 1.875 06/30/26 | 96.052  |  2.868  | T 3.875 08/15/40 | 108.282 |  3.227  |\n",
       "| T 0.000 08/25/22 |  99.01  |  1.007  | T 0.875 01/31/24 | 97.072  |  2.542  | T 0.625 07/31/26 | 91.024  |  2.891  | T 1.375 11/15/40 | 73.066  |  3.326  |\n",
       "| T 0.125 08/31/22 | 99.234  |  1.042  | T 2.500 01/31/24 | 99.302  |  2.532  | T 1.875 07/31/26 | 96.024  |  2.87   | T 4.250 11/15/40 | 113.294 |  3.243  |\n",
       "| T 1.625 08/31/22 | 100.052 |  1.057  | T 0.125 02/15/24 | 95.286  |  2.534  | T 1.500 08/15/26 | 94.144  |  2.896  | T 1.875 02/15/41 | 79.282  |  3.325  |\n",
       "| T 1.875 08/31/22 | 100.076 |  1.037  | T 2.750 02/15/24 | 100.112 |  2.542  | T 6.750 08/15/26 | 115.122 |  2.878  | T 4.750 02/15/41 | 121.106 |  3.225  |\n",
       "| T 0.000 09/01/22 | 98.957  |  1.06   | T 1.500 02/29/24 | 98.056  |  2.546  | T 0.750 08/31/26 | 91.134  |  2.89   | T 2.250 05/15/41 | 84.262  |  3.335  |\n",
       "| T 0.000 09/08/22 | 98.912  |  1.106  | T 2.125 02/29/24 | 99.092  |  2.533  | T 1.375 08/31/26 | 93.302  |  2.885  | T 4.375 05/15/41 | 115.164 |  3.272  |\n",
       "| T 1.500 09/15/22 | 100.03  |  1.214  | T 2.375 02/29/24 | 99.232  |  2.531  | T 0.875 09/30/26 | 91.246  |  2.89   | T 1.750 08/15/41 | 77.146  |  3.348  |\n",
       "| T 0.000 09/15/22 |  98.9   |  1.12   | T 0.250 03/15/24 | 95.286  |  2.556  | T 1.625 09/30/26 | 94.262  |  2.894  | T 3.750 08/15/41 | 106.144 |  3.294  |\n",
       "| T 0.000 09/22/22 | 98.885  |  1.135  | T 2.125 03/31/24 |  99.07  |  2.554  | T 1.125 10/31/26 |  92.21  |  2.893  | T 3.125 11/15/41 |  97.11  |  3.311  |\n",
       "| T 0.000 09/29/22 | 98.887  |  1.133  | T 2.250 03/31/24 |  99.13  |  2.576  | T 1.625 10/31/26 | 94.234  |  2.893  | T 2.000 11/30/41 | 80.292  |  3.34   |\n",
       "| T 0.125 09/30/22 | 99.184  |  1.258  | T 0.375 04/15/24 | 95.286  |  2.584  | T 2.000 11/15/26 |  96.07  |  2.903  | T 2.375 02/15/42 | 86.136  |  3.316  |\n",
       "| T 1.750 09/30/22 | 100.056 |  1.266  | T 2.000 04/30/24 | 98.286  |  2.581  | T 6.500 11/15/26 | 115.034 |  2.893  | T 3.125 02/15/42 | 97.094  |  3.312  |\n",
       "| T 1.875 09/30/22 | 100.074 |  1.244  | T 2.250 04/30/24 |  99.12  |  2.579  | T 1.250 11/30/26 | 93.032  |  2.882  | T 3.000 05/15/42 | 95.104  |  3.322  |\n",
       "| T 0.000 10/06/22 | 98.845  |  1.176  | T 2.500 04/30/24 |  99.27  |  2.582  | T 1.625 11/30/26 | 94.222  |  2.879  | T 2.750 08/15/42 | 91.074  |  3.349  |\n",
       "| T 0.000 10/13/22 | 98.757  |  1.266  | T 0.250 05/15/24 | 95.144  |  2.601  | T 1.250 12/31/26 | 92.304  |  2.889  | T 2.750 11/15/42 | 91.022  |  3.356  |\n",
       "| T 1.375 10/15/22 | 100.004 |  1.336  | T 2.500 05/15/24 |  99.25  |  2.613  | T 1.750 12/31/26 | 95.034  |  2.887  | T 3.125 02/15/43 | 96.232  |  3.345  |\n",
       "| T 0.000 10/20/22 | 98.732  |  1.292  | T 2.000 05/31/24 | 98.264  |  2.593  | T 1.500 01/31/27 | 93.292  |  2.891  | T 2.875 05/15/43 | 92.264  |  3.354  |\n",
       "| T 0.000 10/27/22 | 98.697  |  1.329  | T 0.250 06/15/24 | 95.066  |  2.628  | T 2.250 02/15/27 | 97.042  |   2.9   | T 3.625 08/15/43 | 104.124 |  3.335  |\n",
       "| T 0.125 10/31/22 |  99.14  |  1.365  | T 1.750 06/30/24 |  98.06  |  2.632  | T 6.625 02/15/27 | 116.114 |  2.912  | T 3.750 11/15/43 | 106.112 |  3.334  |\n",
       "| T 1.875 10/31/22 | 100.072 |  1.375  | T 2.000 06/30/24 | 98.214  |  2.647  | T 1.125 02/28/27 | 92.052  |  2.888  | T 3.625 02/15/44 | 104.09  |  3.346  |\n",
       "| T 2.000 10/31/22 | 100.09  |  1.379  | T 0.375 07/15/24 | 95.064  |  2.669  | T 1.875 02/28/27 | 95.172  |  2.878  | T 3.375 05/15/44 | 100.094 |  3.356  |\n",
       "| T 0.000 11/03/22 | 98.675  |  1.352  | T 1.750 07/31/24 | 98.014  |  2.665  | T 0.625 03/31/27 | 89.244  |  2.891  | T 3.125 08/15/44 |  96.11  |  3.359  |\n",
       "| T 0.000 11/10/22 | 98.605  |  1.424  | T 2.125 07/31/24 | 98.264  |  2.674  | T 2.500 03/31/27 |  98.09  |  2.88   | T 3.000 11/15/44 | 94.084  |  3.366  |\n",
       "| T 1.625 11/15/22 | 100.022 |  1.483  | T 0.375 08/15/24 |  94.31  |  2.693  | T 0.500 04/30/27 | 89.002  |  2.897  | T 2.500 02/15/45 | 86.084  |  3.369  |\n",
       "| T 7.625 11/15/22 | 103.032 |  1.346  | T 2.375 08/15/24 | 99.092  |  2.702  | T 2.750 04/30/27 | 99.126  |  2.881  | T 3.000 05/15/45 | 94.094  |  3.358  |\n",
       "| T 0.125 11/30/22 |  99.08  |  1.522  | T 1.250 08/31/24 |  96.25  |  2.708  | T 2.375 05/15/27 | 97.164  |  2.913  | T 2.875 08/15/45 | 92.116  |  3.35   |\n",
       "| T 2.000 11/30/22 | 100.084 |  1.505  | T 1.875 08/31/24 | 98.042  |  2.721  | T 0.500 05/31/27 |  88.24  |  2.916  | T 3.000 11/15/45 | 94.174  |  3.337  |\n",
       "| T 0.000 12/01/22 |  98.64  |  1.389  | T 0.375 09/15/24 | 94.224  |  2.735  | T 0.500 06/30/27 | 88.184  |  2.916  | T 2.500 02/15/46 | 86.076  |  3.344  |\n",
       "| T 1.625 12/15/22 | 100.012 |  1.557  | T 1.500 09/30/24 |  97.07  |  2.717  | T 0.375 07/31/27 | 87.274  |  2.903  | T 2.500 05/15/46 | 86.074  |  3.338  |\n",
       "| T 0.000 12/29/22 | 98.515  |  1.52   | T 2.125 09/30/24 |  98.21  |  2.713  | T 2.250 08/15/27 |  96.24  |  2.922  | T 2.250 08/15/46 | 82.016  |  3.335  |\n",
       "| T 0.137 12/31/22 | 99.016  |  1.653  | T 0.625 10/15/24 | 95.034  |  2.723  | T 6.375 08/15/27 | 116.224 |  2.92   | T 2.875 11/15/46 | 92.234  |  3.31   |\n",
       "| T 2.125 12/31/22 | 100.09  |  1.669  | T 1.500 10/31/24 |  97.02  |  2.745  | T 0.500 08/31/27 |  88.06  |  2.926  | T 3.000 02/15/47 | 94.266  |  3.307  |\n",
       "| T 1.500 01/15/23 | 99.274  |  1.712  | T 2.250 10/31/24 | 98.274  |  2.733  | T 0.500 10/31/27 | 87.262  |  2.932  | T 3.000 05/15/47 | 94.282  |  3.302  |\n",
       "| T 0.000 01/26/23 | 98.452  |  1.586  | T 0.750 11/15/24 | 95.054  |  2.752  | T 2.250 11/15/27 | 96.186  |  2.927  | T 2.750 08/15/47 | 90.276  |  3.285  |\n",
       "| T 0.125 01/31/23 |  98.27  |  1.771  | T 2.250 11/15/24 | 98.244  |  2.765  | T 6.125 11/15/27 | 116.04  |  2.928  | T 2.750 11/15/47 | 90.302  |  3.277  |\n",
       "| T 1.750 01/31/23 |   100   |  1.749  | T 7.500 11/15/24 | 111.176 |  2.685  | T 0.625 11/30/27 | 88.082  |  2.937  | T 3.000 02/15/48 |  95.21  |  3.25   |\n",
       "| T 2.375 01/31/23 | 100.142 |  1.739  | T 1.500 11/30/24 | 96.292  |  2.766  | T 0.625 12/31/27 |  88.02  |  2.944  | T 3.125 05/15/48 |  98.04  |  3.232  |\n",
       "| T 1.375 02/15/23 |  99.22  |  1.795  | T 2.125 11/30/24 | 98.142  |  2.763  | T 0.750 01/31/28 | 88.166  |  2.949  | T 3.000 08/15/48 | 95.242  |  3.241  |\n",
       "| T 2.000 02/15/23 | 100.05  |  1.788  | T 1.000 12/15/24 | 95.204  |  2.758  | T 2.750 02/15/28 | 99.004  |  2.937  | T 3.375 11/15/48 | 103.004 |  3.205  |\n",
       "| T 7.125 02/15/23 | 104.006 |  1.708  | T 1.750 12/31/24 | 97.134  |  2.775  | T 1.125 02/29/28 | 90.136  |  2.934  | T 3.000 02/15/49 | 96.142  |  3.199  |\n",
       "| T 0.000 02/23/23 | 98.332  |  1.713  | T 2.250 12/31/24 |  98.22  |  2.771  | T 1.250 03/31/28 | 90.284  |  2.95   | T 2.875 05/15/49 | 94.084  |  3.194  |\n",
       "| T 0.125 02/28/23 | 98.206  |  1.855  | T 1.125 01/15/25 |  95.25  |  2.777  | T 1.250 04/30/28 |  90.24  |  2.955  | T 2.250 08/15/49 | 82.304  |  3.191  |\n",
       "| T 1.500 02/28/23 | 99.232  |  1.849  | T 1.375 01/31/25 | 96.114  |  2.779  | T 2.875 05/15/28 | 99.192  |  2.948  | T 2.375 11/15/49 | 85.126  |  3.175  |\n",
       "| T 2.625 02/28/23 | 100.192 |  1.853  | T 2.500 01/31/25 |  99.09  |  2.776  | T 1.250 05/31/28 |  90.2   |  2.956  | T 2.000 02/15/50 | 78.066  |  3.189  |\n",
       "| T 0.500 03/15/23 | 98.276  |  1.879  | T 1.500 02/15/25 | 96.184  |  2.798  | T 1.250 06/30/28 | 90.146  |  2.965  | T 1.250 05/15/50 | 64.106  |  3.184  |\n",
       "| T 0.000 03/23/23 | 98.282  |  1.772  | T 2.000 02/15/25 | 97.296  |  2.786  | T 1.000 07/31/28 | 88.296  |  2.965  | T 1.375 08/15/50 | 66.176  |  3.177  |\n",
       "| T 0.125 03/31/23 | 98.134  |  1.954  | T 7.625 02/15/25 | 112.286 |  2.725  | T 2.875 08/15/28 | 99.162  |  2.961  | T 1.625 11/15/50 |  71.07  |  3.166  |\n",
       "| T 1.500 03/31/23 |  99.19  |  1.97   | T 1.125 02/28/25 | 95.186  |  2.779  | T 5.500 08/15/28 | 114.156 |  2.944  | T 1.875 02/15/51 |  75.31  |  3.152  |\n",
       "| T 2.500 03/31/23 | 100.146 |  1.964  | T 2.750 02/28/25 | 99.286  |  2.787  | T 1.125 08/31/28 | 89.164  |  2.964  | T 2.375 05/15/51 | 85.156  |  3.141  |\n",
       "| T 0.250 04/15/23 |  98.13  |  2.016  | T 1.750 03/15/25 | 97.052  |  2.798  | T 1.250 09/30/28 | 90.026  |  2.968  | T 2.000 08/15/51 | 78.106  |  3.137  |\n",
       "| T 0.000 04/20/23 | 98.127  |  1.933  | T 0.500 03/31/25 | 93.222  |  2.798  | T 1.375 10/31/28 | 90.226  |  2.966  | T 1.875 11/15/51 | 76.014  |  3.124  |\n",
       "| T 0.125 04/30/23 | 98.056  |  2.057  | T 2.625 03/31/25 | 99.176  |  2.787  | T 3.125 11/15/28 | 100.312 |  2.959  | T 2.250 02/15/52 | 83.134  |  3.108  | \n",
       "\n"
      ],
      "text/plain": [
       "<IPython.core.display.Markdown object>"
      ]
     },
     "execution_count": 627,
     "metadata": {},
     "output_type": "execute_result"
    }
   ],
   "source": [
    "# Hide\n",
    "md('''\n",
    "\n",
    "{} \n",
    "\n",
    "'''.format(almost_dis.to_markdown(colalign = alignment)))"
   ]
  },
  {
   "cell_type": "markdown",
   "metadata": {},
   "source": [
    "\\normalsize"
   ]
  },
  {
   "cell_type": "markdown",
   "metadata": {},
   "source": [
    "# Dedication Portfolio\n",
    "\n",
    "## Prompt\n",
    "\n",
    "Formulate a linear programming model to find the lowest cost bond dedicated portfolio that covers the stream of liabilities. To eliminate the possibility of any interest risk, assume that a 0% reinvestment rate on cash balances carried out from one date to the next. Assume no short selling of bonds is allowed. What is the cost of your portfolio? How does this cost compares with the NPV of the liabilities? What is the composition of the portfolio?"
   ]
  },
  {
   "cell_type": "markdown",
   "metadata": {},
   "source": [
    "## Mathematical Formulation\n",
    "\n",
    "$$\n",
    "\\begin{split}\n",
    "\\text{min} \\ \\ \\ &  z_0 + \\sum_{i=1}^NP_ix_i \\\\\n",
    "\\\\\n",
    "\\text{s.t.} \\ \\ \\ & \\sum_{i=1,\\dots, \\ n: \\ M_i > t-1}C_ix_i + \\sum_{i=1,\\dots, \\ n: \\ M_i = t}100x_i + (1+r_f) z_{t-1} -z_t = L_t \\ \\ \\ \\ \\text{for t} \\in \\{1,\\dots, 16 \\} \\\\\n",
    "\\text{where, }\\\\\n",
    "& P_i: \\text{Price of the bond } i = 1,\\dots,N \\\\\n",
    "& x_i: \\text{the amount purchased of bond }i = 1,\\dots,N \\\\\n",
    "& z_t: \\text{Excess cashflows after Liability as been paid for period }t = 1,\\dots,16  \\\\\n",
    "& C_{i}: \\text{The coupon payment from bond }i = 1,\\dots,N \\\\\n",
    "& L_t: \\text{Liability in period }t = 1,\\dots,16 \\\\\n",
    "& M_i: \\text{The maturity year of bond} i = 1,\\dots,N \\\\\n",
    "& r_f: \\text{the risk free rate that will be used as the carrying interest for our last period surplus} \\\\\n",
    "\\end{split}\n",
    "$$"
   ]
  },
  {
   "cell_type": "markdown",
   "metadata": {},
   "source": [
    "In a dedication protfolio we are \"cash matching\". By this we mean to match the sum total of Cash Flows from our pruchased fixed income assets for every and all period Liabilties. We must state that we are not allowed to take a short position in any stock therefore, we are trying minimize the cost of the purchases portfolio to meet our liabilities. We have a surplus term that will account for our excess cash flows after liabiltiies paid for a certain period. These funds may be used for a period in which the inflow from the bonds is not enough to cover liabilties. \n",
    "\n",
    "**NOTE**: The objective of this problem does have the risk-free rate as 0% on assumption. Thus the interest earned term is just  $\\ (1+r_f)z_{t-1} = z_{t-1}$\n",
    "\n"
   ]
  },
  {
   "cell_type": "markdown",
   "metadata": {},
   "source": [
    "## Code"
   ]
  },
  {
   "cell_type": "markdown",
   "metadata": {},
   "source": [
    "\\scriptsize"
   ]
  },
  {
   "cell_type": "code",
   "execution_count": 628,
   "metadata": {},
   "outputs": [],
   "source": [
    "'''\n",
    "Data Manipulation\n",
    "'''\n",
    "term_by_maturity = term_structure_df.set_index('MATURITY')\n",
    "possibilities = term_by_maturity.drop(\n",
    "    index=[i for i in term_by_maturity.index.to_list() if i > data_prompt.index.to_list()[-1]],\n",
    "    columns=['BID', 'ASKED', 'ASKED YIELD']\n",
    "    )\n",
    "\n",
    "'''List of bond maturities less than liability maturity'''\n",
    "date_lists_to_change_to_periods = [\n",
    "    [i for i in possibilities.index.to_list() if i <= t]\n",
    "    for t in data_prompt.index.tolist()\n",
    "    ]\n",
    "'''Removing the duplicates from each one'''\n",
    "for i in reversed(range(1,len(date_lists_to_change_to_periods))):\n",
    "    for j in range(0,len(date_lists_to_change_to_periods[i-1])):\n",
    "        date_lists_to_change_to_periods[i].remove(date_lists_to_change_to_periods[i-1][j])\n",
    "\n",
    "for i in range(0,len(date_lists_to_change_to_periods)):\n",
    "    possibilities.loc[date_lists_to_change_to_periods[i],'period'] = i+1\n",
    "\n",
    "possibilities['face'] = 100\n",
    "possibilities['bond#'] = range(1,len(possibilities)+1)\n",
    "possibilities = possibilities.set_index('bond#')\n",
    "\n",
    "'''for labeling later'''\n",
    "dec_var_names = possibilities['ref_data']"
   ]
  },
  {
   "cell_type": "code",
   "execution_count": 629,
   "metadata": {},
   "outputs": [],
   "source": [
    "'''Getting data ready for the solver'''\n",
    "\n",
    "'''Exmpty Array'''\n",
    "cfs = np.zeros((len(possibilities),len(date_lists_to_change_to_periods)))\n",
    "\n",
    "'''CF Matrix'''\n",
    "'''Will make function later'''\n",
    "for i in range(0, len(cfs)):\n",
    "    for j in range(1, len(cfs[0])+1):\n",
    "        if possibilities.loc[i+1,'period'] == j and possibilities.loc[i+1,'COUPON'] == 0:\n",
    "            cfs[i][j-1] = possibilities.loc[i+1,'face']\n",
    "        elif possibilities.loc[i+1,'period'] == j and possibilities.loc[i+1,'COUPON'] != 0:\n",
    "            cfs[i][0:j-1] = possibilities.loc[i+1,'COUPON']/2\n",
    "            cfs[i][j-1] = possibilities.loc[i+1,'face'] + possibilities.loc[i+1,'COUPON']/2\n",
    "\n",
    "cf_matrix = cfs.tolist()\n",
    "prices = possibilities['px_ask'].values.tolist()\n",
    "liabilities = data_prompt['Amount'].values.tolist()"
   ]
  },
  {
   "cell_type": "code",
   "execution_count": 630,
   "metadata": {},
   "outputs": [
    {
     "data": {
      "text/plain": [
       "1"
      ]
     },
     "execution_count": 630,
     "metadata": {},
     "output_type": "execute_result"
    }
   ],
   "source": [
    "'''Solving for the dedicated portfolio'''\n",
    "\n",
    "# Making variable list of strings\n",
    "periods = [i for i in range(0,len(cf_matrix[0])+1)]\n",
    "\n",
    "# Dictionary of period constraints\n",
    "period_dict = {}\n",
    "for i in range(0,len(cf_matrix[0])):\n",
    "    period_dict['Period {}'.format(i+1)] = dict(zip(dec_var_names,[cf_matrix[j][i] for j in range(0,len(cf_matrix))]))\n",
    "\n",
    "objective = dict(zip(dec_var_names, prices))\n",
    "\n",
    "# Decision Vars\n",
    "quantity = LpVariable.dict('', dec_var_names, lowBound=0)\n",
    "excess = LpVariable.dict('ExcessCF', periods, lowBound=0)\n",
    "\n",
    "# Intializing the Problem\n",
    "dedication_1 = LpProblem('Dedicated', LpMinimize)\n",
    "\n",
    "# Objective function\n",
    "dedication_1 += excess[0]+lpSum([objective[i]*quantity[i] for i in dec_var_names])\n",
    "\n",
    "# Constraints\n",
    "for i in range(0,len(cf_matrix[0])):\n",
    "    dedication_1 += lpSum([period_dict['Period {}'.format(i+1)][j]*quantity[j] for j in dec_var_names]) + excess[i]- excess[i+1] == liabilities[i]\n",
    "\n",
    "dedication_1.solve()"
   ]
  },
  {
   "cell_type": "markdown",
   "metadata": {},
   "source": [
    "\\normalsize"
   ]
  },
  {
   "cell_type": "markdown",
   "metadata": {},
   "source": [
    "## Cost and Composition"
   ]
  },
  {
   "cell_type": "code",
   "execution_count": 631,
   "metadata": {},
   "outputs": [
    {
     "data": {
      "text/markdown": [
       " \n",
       "\n",
       "<center> Portfolio Value of $117.77 MM  </center> <br>\n",
       "\n",
       "<center>\n",
       "\n",
       "|                  |  Quantity  |\n",
       "|-----------------:|:----------:|\n",
       "| T 7.250 08/15/22 | 0.0836671  |\n",
       "| T 7.125 02/15/23 |   0.0667   |\n",
       "| T 6.250 08/15/23 | 0.0590762  |\n",
       "| T 2.000 05/31/24 | 0.0509223  |\n",
       "| T 1.500 11/30/24 | 0.0714316  |\n",
       "| T 7.625 02/15/25 | 0.0819673  |\n",
       "| T 6.875 08/15/25 | 0.0750923  |\n",
       "| T 0.750 05/31/26 |  0.107674  |\n",
       "| T 6.750 08/15/26 | 0.0780774  |\n",
       "| T 6.625 02/15/27 | 0.0507125  |\n",
       "| T 6.375 08/15/27 | 0.0423924  |\n",
       "| T 1.250 05/31/28 | 0.0637436  |\n",
       "| T 5.500 08/15/28 |  0.084142  |\n",
       "| T 2.875 04/30/29 | 0.0664559  |\n",
       "| T 6.125 08/15/29 | 0.0774112  |\n",
       "| T 0.625 05/15/30 | 0.0697819  |\n",
       "\n"
      ],
      "text/plain": [
       "<IPython.core.display.Markdown object>"
      ]
     },
     "execution_count": 631,
     "metadata": {},
     "output_type": "execute_result"
    }
   ],
   "source": [
    "'''\n",
    "Print Solution to dedication_1 portfolio\n",
    "'''\n",
    "'''\n",
    "Print Solution to dedication_1 portfolio with dedication_1ing Limit\n",
    "'''\n",
    "ded_df = pd.DataFrame(\n",
    "    [v.varValue for v in dedication_1.variables() if v.varValue != 0],\n",
    "    index=[str(v.name[1:9].replace('_', ' ') + v.name[9:].replace('_', '/')) \n",
    "        if v.name[0] != 'E'\n",
    "        else str(r'$\\text{' + v.name[:-2] + '}' + v.name[-2:] + '$') for v in [g for g in dedication_1.variables() if g.varValue != 0]],\n",
    "    columns=['Quantity']\n",
    "    )\n",
    "mature = ['20'+ i[-2:] + '-'+i[-8:-6] + '-'+i[-5:-3]\n",
    "    if i[0] != 'E' \n",
    "    else '2100-01-01'\n",
    "    for i in ded_df.index.tolist()]\n",
    "bond_s_dis = ded_df.reset_index()\n",
    "bond_s_dis['m'] = mature\n",
    "bond_s_dis.set_index('m', inplace=True)\n",
    "bond_s_dis.sort_index(inplace=True)\n",
    "bond_s_dis.set_index('index', inplace=True)\n",
    "bond_s_dis.index.name = ''\n",
    "\n",
    "md(''' \n",
    "\n",
    "<center> Portfolio Value of ${:.2f} MM  </center> <br>\n",
    "\n",
    "<center>\n",
    "\n",
    "{}\n",
    "\n",
    "'''.format(value(dedication_1.objective), bond_s_dis.to_markdown(colalign = (\"right\", \"center\")))\n",
    ")"
   ]
  },
  {
   "cell_type": "markdown",
   "metadata": {},
   "source": [
    "From our results we can see the prtfolio cost is $ 0.1\\% $ more than the NPV of the Liabilties. Thus, we will be paying a premium to hold onto the treasuries to meet our liabilties. This premium is $ \\ \\$ .11MM $ as the NPV is $ \\$117.66$. This is to be expected as we are not actively trading this portfolio and holding all bonds till their maturities. "
   ]
  },
  {
   "cell_type": "markdown",
   "metadata": {},
   "source": [
    "# Sensitivity Analysis\n",
    "\n",
    "Use the linear programming sensitivity analysis information to determine the term structure of interest rates implied by the optimal bond portfolio you found in the previous question. Use a plot to compare these rates with the current term structure of treasury rates you found in the first question."
   ]
  },
  {
   "cell_type": "markdown",
   "metadata": {},
   "source": [
    "## Shadow Prices"
   ]
  },
  {
   "cell_type": "code",
   "execution_count": 632,
   "metadata": {},
   "outputs": [
    {
     "data": {
      "text/markdown": [
       " \n",
       "\n",
       "<center>\n",
       "\n",
       "|   DateDue |  shadow price  |\n",
       "|----------:|:--------------:|\n",
       "|  12/15/22 |    0.976444    |\n",
       "|  06/15/23 |    0.970693    |\n",
       "|  12/15/23 |    0.952351    |\n",
       "|  06/15/24 |    0.944203    |\n",
       "|  12/15/24 |    0.927139    |\n",
       "|  06/15/25 |    0.906415    |\n",
       "|  12/15/25 |    0.896101    |\n",
       "|  06/15/26 |    0.884951    |\n",
       "|  12/15/26 |    0.870135    |\n",
       "|  06/15/27 |    0.856877    |\n",
       "|  12/15/27 |     0.8426     |\n",
       "|  06/15/28 |    0.834112    |\n",
       "|  12/15/28 |    0.820296    |\n",
       "|  06/15/29 |    0.812113    |\n",
       "|  12/15/29 |    0.795826    |\n",
       "|  06/15/30 |    0.788304    |\n",
       "\n"
      ],
      "text/plain": [
       "<IPython.core.display.Markdown object>"
      ]
     },
     "execution_count": 632,
     "metadata": {},
     "output_type": "execute_result"
    }
   ],
   "source": [
    "'''\n",
    "Pull sensitivity analysis\n",
    "---\n",
    "https://s3.amazonaws.com/assets.datacamp.com/production/course_8835/slides/chapter4.pdf\n",
    "'''\n",
    "o = [{'name':name, 'shadow price':c.pi} for name, c in dedication_1.constraints.items()]\n",
    "shadow_px = pd.DataFrame(o).set_index(data_prompt.index).drop('name',axis=1)\n",
    "clean_shadow_px = pd.DataFrame(o).set_index(data_prompt.index.strftime('%m/%d/%y')).drop('name',axis=1)\n",
    "md(''' \n",
    "\n",
    "<center>\n",
    "\n",
    "{}\n",
    "\n",
    "'''.format(clean_shadow_px.to_markdown(colalign = (\"right\", 'center')))\n",
    ")"
   ]
  },
  {
   "cell_type": "markdown",
   "metadata": {},
   "source": [
    "## Term Structures (Actual vs Implied)"
   ]
  },
  {
   "cell_type": "code",
   "execution_count": 633,
   "metadata": {},
   "outputs": [
    {
     "data": {
      "text/plain": [
       "<matplotlib.legend.Legend at 0x18757cd73d0>"
      ]
     },
     "execution_count": 633,
     "metadata": {},
     "output_type": "execute_result"
    },
    {
     "data": {
      "image/png": "[encoded data removed]",
      "text/plain": [
       "<Figure size 432x288 with 1 Axes>"
      ]
     },
     "metadata": {
      "needs_background": "light"
     },
     "output_type": "display_data"
    }
   ],
   "source": [
    "'''\n",
    "Presents implied and actual yield curve as a plot\n",
    "'''\n",
    "shadow_ttm = ((shadow_px.index - datetime.datetime.now()) / datetime.timedelta(days=365)).to_list()\n",
    "shadow_factors = shadow_px['shadow price'].to_list()\n",
    "implied_rates = [-np.log(shadow_factors[i]) / shadow_ttm[i] for i in range(len(shadow_ttm))]\n",
    "\n",
    "implied_rates_df = pd.DataFrame(\n",
    "                        data = [shadow_ttm, implied_rates],\n",
    "                        index=['ttm','implied_rate']\n",
    "                    )\n",
    "\n",
    "implied_rates_df = (implied_rates_df\n",
    "                        .transpose()\n",
    "                        .round({'ttm':round_to})\n",
    "                        .set_index('ttm')\n",
    "                    )\n",
    "\n",
    "plt.plot(rates[0.5:8.5] * 100)\n",
    "plt.plot(implied_rates_df * 100)\n",
    "plt.title('Bootstrapped and Implied Yield Curve (rates per annum)')\n",
    "plt.xlabel('Tenor')\n",
    "plt.ylabel('Yield in Percentage Points')\n",
    "plt.legend(['Actual', 'Implied'])"
   ]
  },
  {
   "cell_type": "markdown",
   "metadata": {},
   "source": [
    "We can see how the dedication will match the term structure of interest as each can be a function of their cahsflows and if we are essentially investing in the bonds that make up the term structure, will be very close to it but not exactly. We will find the cheapest \"path\" through the term straucture, based on our liabilties."
   ]
  },
  {
   "cell_type": "markdown",
   "metadata": {},
   "source": [
    "## Implied Rates"
   ]
  },
  {
   "cell_type": "code",
   "execution_count": 634,
   "metadata": {},
   "outputs": [
    {
     "data": {
      "text/markdown": [
       " \n",
       "\n",
       "<center>\n",
       "\n",
       "|   ttm |   implied_rate |\n",
       "|------:|---------------:|\n",
       "|  0.58 |        4.12064 |\n",
       "|  1.08 |        2.76148 |\n",
       "|  1.58 |        3.09291 |\n",
       "|  2.08 |        2.76046 |\n",
       "|  2.58 |        2.93084 |\n",
       "|  3.08 |        3.19033 |\n",
       "|  3.58 |        3.06324 |\n",
       "|  4.08 |        2.99575 |\n",
       "|  4.58 |        3.03644 |\n",
       "|  5.08 |        3.04065 |\n",
       "|  5.58 |        3.06854 |\n",
       "|  6.08 |        2.98206 |\n",
       "|  6.58 |        3.00866 |\n",
       "|  7.08 |        2.93841 |\n",
       "|  7.58 |        3.01128 |\n",
       "|  8.08 |        2.943   |\n",
       "\n"
      ],
      "text/plain": [
       "<IPython.core.display.Markdown object>"
      ]
     },
     "execution_count": 634,
     "metadata": {},
     "output_type": "execute_result"
    }
   ],
   "source": [
    "md(''' \n",
    "\n",
    "<center>\n",
    "\n",
    "{}\n",
    "\n",
    "'''.format((implied_rates_df*100).to_markdown(colalign = (\"right\",)))\n",
    ")"
   ]
  },
  {
   "cell_type": "markdown",
   "metadata": {},
   "source": [
    "# Immunization Portfolio\n",
    "\n",
    "Formulate a linear programming model to find the lowest cost bond immunized portfolio that matches the present value, duration, and convexity of a stream of liabilities. Assume that no short rates are allowed. What is the cost of your portfolio? How much would you save by using this immunization strategy instead of the dedication one? Is your portfolio immunized against non-parallel shifts in the term structure? Explain why or why not."
   ]
  },
  {
   "cell_type": "markdown",
   "metadata": {},
   "source": [
    "Now, we will approach this problem from an Immunization perspective. This means that we are going to find a new portfolio of bonds that match the Net Present Value, Duration, and Convexity of the stream of Liabilities required, while still minimizing the cost of the actual portfolio. For the purposes of this portfolio, we will assume that short rates aren't allowed. \n",
    "\n",
    "To achieve this, we first calculated the NPV, Duration, and Convexity of each of the bonds cash flows'. Then, to be able to match them to the NPV, Duration, and Convexity of the Liabilities (previously calculated), we multiply them by the amount of bonds to be bought, and sum them. This is explicitly stated in the Mathematical Formulation. "
   ]
  },
  {
   "cell_type": "markdown",
   "metadata": {},
   "source": [
    "## Mathematical Formulation"
   ]
  },
  {
   "cell_type": "markdown",
   "metadata": {},
   "source": [
    "$$\n",
    "\\begin{split}\n",
    "\\text{min} \\ \\ \\ &  \\sum_{i=1}^NP_ix_i \\\\\n",
    "\\text{s.t.} \\ \\ \\ & \\sum_{i=1,...,n}NPV_i * x_i = NPV_{Liabilities}\\\\\n",
    "& \\sum_{i=1,...,n}Duration_i * x_i = Duration_{Liabilities}\\\\\n",
    "& \\sum_{i=1,...,n}Convexity_i * x_i = Convexity_{Liabilities}\\\\\n",
    "& x_i \\ge 0 \\\\\n",
    "& \\\\\n",
    "\\text{where,} \\\\\n",
    "& \\text{$x_i$: quantity purchased of bond i;} \\\\\n",
    "& \\text{$P_i$: ask price of bond i.} \\\\\n",
    "\\end{split}\n",
    "$$\n"
   ]
  },
  {
   "cell_type": "markdown",
   "metadata": {},
   "source": [
    "## Code"
   ]
  },
  {
   "cell_type": "code",
   "execution_count": 635,
   "metadata": {},
   "outputs": [],
   "source": [
    "'''\n",
    "Aggregates cashflow matrix and ref data for immunization\n",
    "---\n",
    "Puts cashflow matrix into a dataframe for merging\n",
    "merges possible bond ref data with cashflow matrix\n",
    "cleans resulting dataframe\n",
    "\n",
    "NOTE: MATH NEEDS WORK HERE BUT WE CAN FIGURE OUT\n",
    "from here: use ttm and col_num against calculated curve to find appropriate measure\n",
    "        pv_factor = exp{-rt} = exp{- () * (ttm)}\n",
    "'''\n",
    "cf_df = pd.DataFrame(cf_matrix, index=dec_var_names)\n",
    "\n",
    "cf_df = pd.merge(                                                           # Combines possible bonds with cashflow matrix\n",
    "    left = possibilities,                                                   # possible bonds - SAME DF AS DEDICATION\n",
    "    right = cf_df,                                                          # Cashflow matrix - NP ARRAY FROM DEDICATION AS DF FOR MERGING\n",
    "    how='inner',                                                            # Catches any missed bonds on merge\n",
    "    left_on='ref_data',                                                     \n",
    "    right_index=True                                                        # Casflow df indexed by bond name\n",
    ")\n",
    "\n",
    "cf_df = (cf_df\n",
    "            .drop(['COUPON','period','face'],axis=1)                        # Drops unnecessary ref data\n",
    "            .set_index('ref_data')                                          # Sets index to bond name\n",
    "            .round({'ttm':round_to})                                        # rounds time to maturity to 2 decimal places -- allows use of derived term structure (indexed by hundredths)\n",
    "        )\n",
    "\n"
   ]
  },
  {
   "cell_type": "code",
   "execution_count": 636,
   "metadata": {},
   "outputs": [],
   "source": [
    "'''\n",
    "Create Present Value, Duration, and Convexity factors for all possible time index based on derived rates curve\n",
    "'''\n",
    "t = rates.index\n",
    "r = rates['rate']\n",
    "npv_factor = np.exp(-r*t)\n",
    "dur_factor = t*np.exp(-r*(t+1))\n",
    "con_factor = t*(t+1)*np.exp(-r*(t+2))"
   ]
  },
  {
   "cell_type": "code",
   "execution_count": 637,
   "metadata": {},
   "outputs": [],
   "source": [
    "'''\n",
    "Calculates npv, duration, and convexity terms for all bonds consiuder in problem\n",
    "'''\n",
    "npvs=[]\n",
    "durs=[]\n",
    "cons=[]\n",
    "for bond in cf_df.index:\n",
    "    bond_df = cf_df.loc[bond]\n",
    "    bond_ttm = bond_df.loc['ttm']\n",
    "    bond_cf_stream = bond_df.loc[0:]\n",
    "    eo_cfs = bond_cf_stream.idxmax()\n",
    "    cpn_ttm = [(bond_ttm - 0.5*i).round(round_to) for i in range(eo_cfs+1)]\n",
    "    bond_cf_ttm = pd.Series(data=bond_df.loc[0:eo_cfs].to_list(), index=reversed(cpn_ttm))\n",
    "\n",
    "    bond_npv = sum([bond_cf_ttm.loc[i] * npv_factor.loc[:i].iloc[-1] for i in bond_cf_ttm.index])\n",
    "    bond_dur = sum([bond_cf_ttm.loc[i] * dur_factor.loc[:i].iloc[-1] for i in bond_cf_ttm.index])\n",
    "    bond_con = sum([bond_cf_ttm.loc[i] * con_factor.loc[:i].iloc[-1] for i in bond_cf_ttm.index])\n",
    "\n",
    "    npvs.append(bond_npv)\n",
    "    durs.append(bond_dur)\n",
    "    cons.append(bond_con)\n",
    "\n",
    "immunization_df = pd.DataFrame([npvs, durs, cons], columns=cf_df.index, index=['npv','duration','convexity']).transpose()"
   ]
  },
  {
   "cell_type": "code",
   "execution_count": 638,
   "metadata": {},
   "outputs": [
    {
     "data": {
      "text/plain": [
       "1"
      ]
     },
     "execution_count": 638,
     "metadata": {},
     "output_type": "execute_result"
    }
   ],
   "source": [
    "'''\n",
    "Solves immunization portfolio\n",
    "'''\n",
    "bond_count = LpVariable.dicts('Bonds',dec_var_names,lowBound=0)\n",
    "\n",
    "immunization = LpProblem('immunization', LpMinimize)\n",
    "\n",
    "immunization += lpSum([cf_df['px_ask'].loc[i] * bond_count[i] for i in dec_var_names])\n",
    "immunization += lpSum([immunization_df['npv'].loc[i] * bond_count[i] for i in dec_var_names]) == npv\n",
    "immunization += lpSum([immunization_df['duration'].loc[i] * bond_count[i] for i in dec_var_names]) == dur\n",
    "immunization += lpSum([immunization_df['convexity'].loc[i] * bond_count[i] for i in dec_var_names]) == con\n",
    "\n",
    "immunization.solve()"
   ]
  },
  {
   "cell_type": "code",
   "execution_count": 639,
   "metadata": {},
   "outputs": [],
   "source": [
    "ded_df = pd.DataFrame(\n",
    "    [v.varValue for v in immunization.variables() if v.varValue != 0],\n",
    "    index=[str(v.name[6:-8].replace('_', ' ') + v.name[-8:].replace('_', '/')) \n",
    "        if v.name[0] == 'B'\n",
    "        else str(r'$\\text{' + v.name[:-2] + '}' + v.name[-2:] + '$') for v in [g for g in immunization.variables() if g.varValue != 0]],\n",
    "    columns=['Quantity']\n",
    "    )\n",
    "mature = ['20'+ i[-2:] + '-'+i[-8:-6] + '-'+i[-5:-3]\n",
    "    if i[0] != 'B' \n",
    "    else '2100-01-01'\n",
    "    for i in ded_df.index.tolist()]\n",
    "bond_s_dis = ded_df.reset_index()\n",
    "bond_s_dis['m'] = mature\n",
    "bond_s_dis.set_index('m', inplace=True)\n",
    "bond_s_dis.sort_index(inplace=True)\n",
    "bond_s_dis.set_index('index', inplace=True)\n",
    "bond_s_dis.index.name = ''"
   ]
  },
  {
   "cell_type": "markdown",
   "metadata": {},
   "source": [
    "## Portfolio Allocation and Value"
   ]
  },
  {
   "cell_type": "code",
   "execution_count": 640,
   "metadata": {},
   "outputs": [
    {
     "data": {
      "text/markdown": [
       " \n",
       "\n",
       "<center> Immunized Portfolio Value of $116.99 MM  </center> <br>\n",
       "\n",
       "\n",
       "<center>\n",
       "\n",
       "|                  |   Quantity |\n",
       "|-----------------:|-----------:|\n",
       "| T 7.250 08/15/22 |   0.184073 |\n",
       "| T 6.625 02/15/27 |   0.612254 |\n",
       "| T 6.125 08/15/29 |   0.226722 |\n",
       "\n"
      ],
      "text/plain": [
       "<IPython.core.display.Markdown object>"
      ]
     },
     "execution_count": 640,
     "metadata": {},
     "output_type": "execute_result"
    }
   ],
   "source": [
    "md(''' \n",
    "\n",
    "<center> Immunized Portfolio Value of ${:.2f} MM  </center> <br>\n",
    "\n",
    "\n",
    "<center>\n",
    "\n",
    "{}\n",
    "\n",
    "'''.format(value(immunization.objective), bond_s_dis.to_markdown(colalign = (\"right\",)))\n",
    ")"
   ]
  },
  {
   "cell_type": "markdown",
   "metadata": {},
   "source": [
    "After solving the immunization problem, we find a portfolio with a lower cost than the Dedication one. This portfolio is $\\$790,000$ cheapear, which represents a $0.67\\%$ discount from the Dedication portfolio. \n",
    "\n",
    "A key consideration for this portfolio is the fact that given that the objective is only to match NPV, Duration, and Convexity, the Cash Flows don't match exactly to the liabilities. This means that even though the portfolio is cheaper, it involves certain money management. \n",
    "\n",
    "This portfolio is hedged against parallel interest rate moves, however it is still vulnerable to non-parallel shifts in the term structure. This is due to the fact that the actual cash flows don't match, and only the NPV, Duration, and Convexity. Therefore, if there were any non-parallel shifts, the NPV of the actual cash flows would be affected in a different manner than that of the Liabilities. "
   ]
  },
  {
   "cell_type": "markdown",
   "metadata": {},
   "source": [
    "# Dedication / Immunization Combined Strategy\n",
    "\n",
    "Combine a cash matching strategy (dedication) for the liabilities for the first three years and an immunization strategy based on matching present value, duration and convexity for the liabilities during the last five years. Compare the characteristics of the three bond portfolios you have obtained. Explain which one you think is the best one and why."
   ]
  },
  {
   "cell_type": "markdown",
   "metadata": {},
   "source": [
    "Now we will try to find a portfolio that uses both of the Dedication and Immunization techniques used previously. We are using a Dedication strategy for the first 3 years and an Immunization for the last 5 years. Given that each of the liabilities is needed every 6 months, this means that Dedication will cover 6 periods, and Immunuization will cover the remaining 10 periods. \n",
    "\n"
   ]
  },
  {
   "cell_type": "markdown",
   "metadata": {},
   "source": [
    "## Mathematical Formulation"
   ]
  },
  {
   "cell_type": "markdown",
   "metadata": {},
   "source": [
    "$$\n",
    "\\begin{split}\n",
    "\\text{min} \\ \\ \\ &  z_0 + \\sum_{i=1}^NP_ix_i \\\\\n",
    "\n",
    "\\text{s.t.} \\ \\ \\ & \\sum_{i=1,...,n:M_i \\ge t-1}C_{it}x_i + \\sum_{i=1,...,n:M_i \\ge t}100x_i + z_{t-1} -z_t = L_t  \\ \\ \\ \\ \\ \\  t=\\{1,\\dots,6\\}\\\\\n",
    " \n",
    "& \\sum_{i=1,...,n}NPV_i * x_i = NPV_{Liabilities} \\\\\n",
    "& \\sum_{i=1,...,n}Duration_i * x_i = Duration_{Liabilities} \\\\\n",
    "& \\sum_{i=1,...,n}Convexity_i * x_i = Convexity_{Liabilities} \\\\\n",
    "& x_i \\ge 0 \\\\\n",
    "& \\\\\n",
    "\\text{where,} \\\\\n",
    "& \\text{$z_t$: is the excess cash flow at the beginning of period t;} \\\\\n",
    "& \\text{$x_i$: quantity purchased of bond i;} \\\\\n",
    "& \\text{$P_i$: ask price of bond i.} \\\\\n",
    "& \\text{$C_i$: coupon paid by bond i at time t.} \\\\\n",
    "\\end{split}\n",
    "$$\n",
    "\n",
    "\n",
    "\n"
   ]
  },
  {
   "cell_type": "markdown",
   "metadata": {},
   "source": [
    "## Code"
   ]
  },
  {
   "cell_type": "code",
   "execution_count": 641,
   "metadata": {},
   "outputs": [],
   "source": [
    "'''\n",
    "Immunization part\n",
    "Calculates npv, duration, and convexity terms for all bonds considered in the problem\n",
    "FROM period 7-16\n",
    "'''\n",
    "\n",
    "ded_period = 6\n",
    "imm_period = 5\n",
    "imm_start_period = len(data_prompt) - imm_period*2\n",
    "imm_end_period = len(data_prompt)"
   ]
  },
  {
   "cell_type": "code",
   "execution_count": 642,
   "metadata": {},
   "outputs": [
    {
     "data": {
      "text/plain": [
       "1"
      ]
     },
     "execution_count": 642,
     "metadata": {},
     "output_type": "execute_result"
    }
   ],
   "source": [
    "'''\n",
    "Solves combined portfolio\n",
    "'''\n",
    "bond_q = LpVariable.dicts('',dec_var_names,lowBound=0)\n",
    "excess_cf = LpVariable.dicts('ExcessCF', periods[:ded_period+1], lowBound=0)\n",
    "\n",
    "\n",
    "combined = LpProblem('Combined', LpMinimize)\n",
    "\n",
    "combined += lpSum([cf_df['px_ask'][i] * bond_q[i] for i in dec_var_names]+ excess_cf[0]) \n",
    "\n",
    "for i in range(0,ded_period):\n",
    "    combined += lpSum([cf_df[i][j]*bond_q[j] for j in dec_var_names]) + excess_cf[i]- excess_cf[i+1] == liabilities[i]\n",
    "\n",
    "combined += lpSum([immunization_df['npv'][i] * bond_q[i] for i in dec_var_names]) == npv\n",
    "combined += lpSum([immunization_df['duration'][i] * bond_q[i] for i in dec_var_names]) == dur\n",
    "combined += lpSum([immunization_df['convexity'][i] * bond_q[i] for i in dec_var_names]) == con\n",
    "\n",
    "combined.solve()"
   ]
  },
  {
   "cell_type": "markdown",
   "metadata": {},
   "source": [
    "## Portfolio Allocation"
   ]
  },
  {
   "cell_type": "code",
   "execution_count": 643,
   "metadata": {},
   "outputs": [
    {
     "data": {
      "text/markdown": [
       " \n",
       "\n",
       "<center> Portfolio Value of $117.25 MM  </center> <br>\n",
       "\n",
       "<center>\n",
       "\n",
       "|                  |  Quantity  |\n",
       "|-----------------:|:----------:|\n",
       "| T 7.250 08/15/22 | 0.0875429  |\n",
       "| T 1.750 05/15/23 | 0.0707163  |\n",
       "| T 6.250 08/15/23 | 0.0613351  |\n",
       "| T 2.500 05/15/24 | 0.0532518  |\n",
       "| T 2.250 11/15/24 | 0.0739175  |\n",
       "| T 2.750 05/15/25 | 0.0847491  |\n",
       "| T 6.375 08/15/27 |  0.122323  |\n",
       "| T 2.250 11/15/27 |  0.380678  |\n",
       "| T 6.125 08/15/29 |  0.192783  |\n",
       "\n"
      ],
      "text/plain": [
       "<IPython.core.display.Markdown object>"
      ]
     },
     "execution_count": 643,
     "metadata": {},
     "output_type": "execute_result"
    }
   ],
   "source": [
    "'''\n",
    "Print Solution to Combined portfolio\n",
    "'''\n",
    "ded_df = pd.DataFrame(\n",
    "    [v.varValue for v in combined.variables() if v.varValue != 0],\n",
    "    index=[str(v.name[1:9].replace('_', ' ') + v.name[9:].replace('_', '/')) \n",
    "        if v.name[0] != 'E'\n",
    "        else str(r'$\\text{' + v.name[:-2] + '}' + v.name[-2:] + '$') for v in [g for g in combined.variables() if g.varValue != 0]],\n",
    "    columns=['Quantity']\n",
    "    )\n",
    "mature = ['20'+ i[-2:] + '-'+i[-8:-6] + '-'+i[-5:-3]\n",
    "    if i[0] != 'E' \n",
    "    else '2100-01-01'\n",
    "    for i in ded_df.index.tolist()]\n",
    "bond_s_dis = ded_df.reset_index()\n",
    "bond_s_dis['m'] = mature\n",
    "bond_s_dis.set_index('m', inplace=True)\n",
    "bond_s_dis.sort_index(inplace=True)\n",
    "bond_s_dis.set_index('index', inplace=True)\n",
    "bond_s_dis.index.name = ''\n",
    "\n",
    "md(''' \n",
    "\n",
    "<center> Portfolio Value of ${:.2f} MM  </center> <br>\n",
    "\n",
    "<center>\n",
    "\n",
    "{}\n",
    "\n",
    "'''.format(value(combined.objective), bond_s_dis.to_markdown(colalign = (\"right\", \"center\")))\n",
    "\n",
    ")\n",
    "\n"
   ]
  },
  {
   "cell_type": "markdown",
   "metadata": {},
   "source": [
    "The cost of this portfolio is in between the costs of the Dedication and the Immunization portfolios previously discussed at $\\$117.25$. \n",
    "\n",
    "The advantage here mostly lies in that the cash flows exactly meet the liabilities for the first 6 periods, and therefore, there is no need for any money management at first. For this period the portfolio is also protected against any interest rate changes (parallel or otherwise). This would give the municipality some time to be assured to meet their liabilities. However, for the latter part of the term, there would be a need to do some money managment and the municipality would have to take the risk of non-parallel interest rate changes. \n",
    "\n",
    "For the small premium over the Immunized portfolio we consider it to be a better option. "
   ]
  },
  {
   "cell_type": "markdown",
   "metadata": {},
   "source": [
    "# Dedication Portfolio with Short Selling\n",
    "## Prompt\n",
    "The municipality would like to make a second bid (find a different portfolio of bonds). What is your best dedicated portfolio of risk-free bonds you can create *if short sales are allowed*? Did you find arbitrage opportunities? Did you take into consideration the bid-ask spread of the bonds? How would you take them in consideration and what is the result? Did you set limits in the transaction amounts? Discuss the practical feasibility of your solutions."
   ]
  },
  {
   "cell_type": "markdown",
   "metadata": {},
   "source": [
    "## Without Transaction Limits"
   ]
  },
  {
   "cell_type": "markdown",
   "metadata": {},
   "source": [
    "### Mathematical Formulation\n",
    "\n",
    "$$\n",
    "\\begin{split}\n",
    "\\text{min} \\ \\ \\ &  z_0 + \\sum_{i=1}^NP^+_il_i - \\sum_{i=1}^NP^-_is_i \\\\\n",
    "\n",
    "\\text{s.t.} \\ \\ \\ & \\sum_{i=1,...,n:M_i \\ge t-1}[C_{it}l_i - C_{it}s_i] + \\sum_{i=1,...,n:M_i \\ge t} [100l_i - 100s_i] + (1+r_f)z_{t-1} -z_t = L_t  \\ \\ \\ \\ \\ \\  t=\\{1,\\dots,16\\} \\\\\n",
    " \n",
    "\n",
    "& l_i, s_i \\ge 0 \\\\\n",
    "& \\\\\n",
    "\\text{where,} \\\\\n",
    "& \\text{$L_t$: liability at time t;} \\\\\n",
    "& \\text{$z_t$: is the excess cash flow at the beginning of period t;} \\\\\n",
    "& \\text{$l_i$: quantity bought long of bond i;} \\\\\n",
    "& \\text{$s_i$: quantity sold short of bond i;} \\\\\n",
    "& \\text{$P^+_i$: ask price of bond i.} \\\\\n",
    "& \\text{$P^-_i$: bid price of bond i.} \\\\\n",
    "& \\text{$C_i$: coupon paid by bond i at time t.} \\\\\n",
    "\\end{split}\n",
    "$$\n",
    "\n",
    "\n",
    "\n"
   ]
  },
  {
   "cell_type": "markdown",
   "metadata": {},
   "source": [
    "Here we are minimizing the cost of the portfolio as our objective but bring into account the ability to short sell bonds. This causes us to use auxilary variables $l_i$ and $s_i$ where these two now account for long amounts and short amounts respectively. Seeing this to be the case, we naturally look for arbitrage opportunities with the bid-ask spreads. If we are allowed to use this extra cash obtained from the short to fund the pruchases of our long positions, and we are allowed to keep the difference when all $L_t$ have been paid for $t \\in \\{1,\\dots,16 \\}$, we are also maximizing profit.\n",
    "\n",
    "**NOTE**: Please remember a negative value or a value of 0 would imply a arbitrage opportunity because it would show a surplus from our short sell cashflows. Also, we are using the ask and bid for long and short position, repsectively.  "
   ]
  },
  {
   "cell_type": "markdown",
   "metadata": {},
   "source": [
    "### Code"
   ]
  },
  {
   "cell_type": "code",
   "execution_count": 644,
   "metadata": {},
   "outputs": [
    {
     "data": {
      "text/plain": [
       "1"
      ]
     },
     "execution_count": 644,
     "metadata": {},
     "output_type": "execute_result"
    }
   ],
   "source": [
    "'''\n",
    "Solves short portfolio\n",
    "'''\n",
    "short_limit = 0.5\n",
    "long_q = LpVariable.dicts('Long',dec_var_names,lowBound=0)\n",
    "short_q = LpVariable.dicts('Short',dec_var_names,lowBound=0)\n",
    "excess_cfs = LpVariable.dicts('ExcessCF', periods, lowBound=0)\n",
    "\n",
    "short = LpProblem('Short', LpMinimize)\n",
    "\n",
    "#Objective \n",
    "short += lpSum([cf_df['px_ask'][i] * long_q[i] - cf_df['px_bid'][i] * short_q[i] for i in dec_var_names]+ excess_cfs[0]) \n",
    "\n",
    "#Bounds Objective to be NonNegative - Municipality can't profit from short trading - At best they get their dedication portfolio free\n",
    "short += lpSum([cf_df['px_ask'][i] * long_q[i] - cf_df['px_bid'][i] * short_q[i] for i in dec_var_names]+ excess_cfs[0]) >= 0\n",
    "\n",
    "#Liabilities Constraints\n",
    "for i in range(0,len(cf_matrix[0])):\n",
    "    short += lpSum([cf_df[i][j]*long_q[j] - cf_df[i][j]*short_q[j] for j in dec_var_names]) + excess_cfs[i] - excess_cfs[i+1] == liabilities[i]\n",
    "\n",
    "short.solve()"
   ]
  },
  {
   "cell_type": "markdown",
   "metadata": {},
   "source": [
    "### Portfolio Allocation"
   ]
  },
  {
   "cell_type": "code",
   "execution_count": 645,
   "metadata": {},
   "outputs": [
    {
     "data": {
      "text/markdown": [
       " \n",
       "<center> Portfolio Value of $-0.00 MM  </center> <br>\n",
       "\n",
       "<center>\n",
       "\n",
       "|                        |   Quantity   |\n",
       "|-----------------------:|:------------:|\n",
       "| Short T 0.000 06/16/22 |   2.04863    |\n",
       "| Short T 0.137 12/31/22 |   63.2136    |\n",
       "|  Long T 7.125 02/15/23 |   61.1449    |\n",
       "|  Long T 6.250 08/15/23 |  0.0563529   |\n",
       "|  Long T 2.000 05/31/24 |  0.0481139   |\n",
       "|  Long T 1.500 11/30/24 |  0.0685951   |\n",
       "|  Long T 7.625 02/15/25 |   0.154094   |\n",
       "|  Long T 0.750 05/31/26 |   0.104984   |\n",
       "|  Long T 6.750 08/15/26 |  0.0753781   |\n",
       "|  Long T 6.625 02/15/27 |  0.0479221   |\n",
       "|  Long T 6.375 08/15/27 |  0.0395095   |\n",
       "|  Long T 2.875 05/15/28 |  0.0607689   |\n",
       "|  Long T 5.500 08/15/28 |  0.0816424   |\n",
       "|  Long T 5.250 02/15/29 |  0.0638876   |\n",
       "|  Long T 6.125 08/15/29 |  0.0755646   |\n",
       "|  Long T 6.250 05/15/30 |  0.0678788   |\n",
       "|    $\\text{ExcessCF}_6$ |   7.49844    |\n",
       "|    $\\text{ExcessCF}_3$ | -1.38988e-09 |\n",
       "\n",
       "\n"
      ],
      "text/plain": [
       "<IPython.core.display.Markdown object>"
      ]
     },
     "execution_count": 645,
     "metadata": {},
     "output_type": "execute_result"
    }
   ],
   "source": [
    "'''\n",
    "Print Solution to Short portfolio\n",
    "'''\n",
    "'''\n",
    "Print Solution to Short portfolio with Shorting Limit\n",
    "'''\n",
    "bonds_short_l = pd.DataFrame(\n",
    "    [v.varValue for v in short.variables() if v.varValue != 0],\n",
    "    index=[str(v.name[:-8].replace('_', ' ')+v.name[-8:].replace('_', '/')) \n",
    "        if v.name[0] == 'L' or v.name[0] =='S'\n",
    "        else str(r'$\\text{' + v.name[:-2] + '}' + v.name[-2:] + '$') for v in [g for g in short.variables() if g.varValue != 0]],\n",
    "    columns=['Quantity']\n",
    "    )\n",
    "mature = ['20'+ i[-2:] + '-'+i[-8:-6] + '-'+i[-5:-3]\n",
    "    if i[0] == 'L' or i[0] == 'S' \n",
    "    else '2100-01-01'\n",
    "    for i in bonds_short_l.index.tolist()]\n",
    "bond_s_dis = bonds_short_l.reset_index()\n",
    "bond_s_dis['m'] = mature\n",
    "bond_s_dis.set_index('m', inplace=True)\n",
    "bond_s_dis.sort_index(inplace=True)\n",
    "bond_s_dis.set_index('index', inplace=True)\n",
    "bond_s_dis.index.name = ''\n",
    "\n",
    "md(''' \n",
    "<center> Portfolio Value of ${:.2f} MM  </center> <br>\n",
    "\n",
    "<center>\n",
    "\n",
    "{}\n",
    "\n",
    "\n",
    "'''.format(value(short.objective), bond_s_dis.to_markdown(colalign = (\"right\", \"center\")))\n",
    ")\n"
   ]
  },
  {
   "cell_type": "markdown",
   "metadata": {},
   "source": [
    "### Discussion\n",
    "\n",
    "By the results above, we are able to see that there is an arbitrage opportunity and in the mathematical sense, is feasible, but for the fact that the 63+ MM is an extremely large transaction for any single issuance. The latter makes this solution infeasible in a real world application. Because of this we have created a formulation where the set a limit on the transaction amounts.  "
   ]
  },
  {
   "cell_type": "markdown",
   "metadata": {},
   "source": [
    "## With Transaction Limits"
   ]
  },
  {
   "cell_type": "markdown",
   "metadata": {},
   "source": [
    "By setting a transaction limit to the amount of bonds sold short, we eliminate the arbitrage opportunity found in the previous portfolio. We do this to generate a more realistic version of what a municipality can expect from a real life transaction that also involves the opportunity to sell bonds short. We assumed a transaction limit of $50\\%$, meaning that the total amount of short selling cannot be greater than $50\\%$ of the total amount bought long. "
   ]
  },
  {
   "cell_type": "markdown",
   "metadata": {},
   "source": [
    "### Mathematical Formulation\n",
    "\n",
    "$$\n",
    "\\begin{split}\n",
    "\\text{min} \\ \\ \\ &  z_0 + \\sum_{i=1}^N P^+_il_i - \\sum_{i=1}^N P^-_is_i \\\\\n",
    "\n",
    "\\text{s.t.} \\ \\ \\ & \\sum_{i=1,...,n:M_i \\ge t-1}[C_{it}l_i - C_{it}s_i] + \\sum_{i=1,...,n:M_i \\ge t} [100l_i - 100s_i] + z_{t-1} -z_t = L_t  \\ \\ \\ \\ \\ \\  t=\\{1,\\dots,16\\}\\\\\n",
    " \n",
    "& z_0 + \\sum_{i=1}^N P^+_il_i - \\sum_{i=1}^N P^-_is_i \\ge 0 \\\\\n",
    "\n",
    "& \\sum_{i=1}^NP^-_is_i \\le SL* \\sum_{i=1}^NP^+_il_i  \\\\\n",
    "\n",
    "\\\\\n",
    "\n",
    "\\text{where,} \\\\\n",
    "& \\text{$L_t$: liability at time t;} \\\\\n",
    "& \\text{$z_t$: is the excess cash flow at the beginning of period t;} \\\\\n",
    "& \\text{$l_i$: quantity bought long of bond i;} \\\\\n",
    "& \\text{$s_i$: quantity sold short of bond i;} \\\\\n",
    "& \\text{$P^+_i$: ask price of bond i.} \\\\\n",
    "& \\text{$P^-_i$: bid price of bond i.} \\\\\n",
    "& \\text{$C_i$: coupon paid by bond i at time t.} \\\\\n",
    "& \\text{$SL$: Short limit as a percentage of the amount bought long.} \\\\\n",
    "\\end{split}\n",
    "$$\n",
    "\n",
    "\n",
    "\n"
   ]
  },
  {
   "cell_type": "markdown",
   "metadata": {},
   "source": [
    "### Code"
   ]
  },
  {
   "cell_type": "markdown",
   "metadata": {},
   "source": [
    "\\scriptsize"
   ]
  },
  {
   "cell_type": "code",
   "execution_count": 646,
   "metadata": {},
   "outputs": [
    {
     "data": {
      "text/plain": [
       "1"
      ]
     },
     "execution_count": 646,
     "metadata": {},
     "output_type": "execute_result"
    }
   ],
   "source": [
    "'''\n",
    "Solves short portfolio with a Shorting Limit\n",
    "'''\n",
    "short_limit = 0.5\n",
    "long_q = LpVariable.dicts('Long',dec_var_names,lowBound=0)\n",
    "short_q = LpVariable.dicts('Short',dec_var_names,lowBound=0)\n",
    "excess_cfs = LpVariable.dicts('ExcessCF', periods, lowBound=0)\n",
    "\n",
    "short_l = LpProblem('Short', LpMinimize)\n",
    "\n",
    "#Objective \n",
    "short_l += lpSum([cf_df['px_ask'][i] * long_q[i] - cf_df['px_bid'][i] * short_q[i] for i in dec_var_names]+ excess_cfs[0]) \n",
    "\n",
    "#Bounds Objective to be Positive - Municipality can't profit from short trading - At best they get their dedication portfolio free\n",
    "short_l += lpSum([cf_df['px_ask'][i] * long_q[i] - cf_df['px_bid'][i] * short_q[i] for i in dec_var_names]+ excess_cfs[0]) >= 0\n",
    "\n",
    "#Adds a Short Limit as a % of the Total Amount invested in Long Bonds\n",
    "short_l += lpSum([cf_df['px_bid'][i] * short_q[i] for i in dec_var_names]) <= lpSum([cf_df['px_ask'][i] * long_q[i] for i in dec_var_names])*short_limit\n",
    "\n",
    "#Liabilities Constraints\n",
    "for i in range(0,len(cf_matrix[0])):\n",
    "    short_l += lpSum([cf_df[i][j]*long_q[j] - cf_df[i][j]*short_q[j] for j in dec_var_names]) + excess_cfs[i] - excess_cfs[i+1] == liabilities[i]\n",
    "\n",
    "short_l.solve()"
   ]
  },
  {
   "cell_type": "markdown",
   "metadata": {},
   "source": [
    "\\normalsize"
   ]
  },
  {
   "cell_type": "markdown",
   "metadata": {},
   "source": [
    "### Portfolio Allocation and Value"
   ]
  },
  {
   "cell_type": "code",
   "execution_count": 647,
   "metadata": {},
   "outputs": [
    {
     "data": {
      "text/markdown": [
       " \n",
       "\n",
       "<center> Portfolio Value of $115.62 MM  </center> <br>\n",
       "\n",
       "<center>\n",
       "\n",
       "|                        |   Quantity   |\n",
       "|-----------------------:|:------------:|\n",
       "|  Long T 7.250 08/15/22 |  0.0507575   |\n",
       "|  Long T 7.125 02/15/23 |  0.0325975   |\n",
       "| Short T 0.125 06/30/23 |   1.18926    |\n",
       "|  Long T 6.250 08/15/23 |   1.21302    |\n",
       "|  Long T 2.000 05/31/24 |  0.0509223   |\n",
       "|  Long T 1.500 11/30/24 |  0.0714316   |\n",
       "|  Long T 7.625 02/15/25 |  0.0819673   |\n",
       "|  Long T 6.875 08/15/25 |  0.0750923   |\n",
       "|  Long T 0.750 05/31/26 |   0.107674   |\n",
       "|  Long T 6.750 08/15/26 |  0.0780774   |\n",
       "|  Long T 6.625 02/15/27 |  0.0507125   |\n",
       "|  Long T 6.375 08/15/27 |  0.0423924   |\n",
       "|  Long T 1.250 05/31/28 |  0.0637436   |\n",
       "|  Long T 5.500 08/15/28 |   0.084142   |\n",
       "|  Long T 2.875 04/30/29 |  0.0664559   |\n",
       "|  Long T 6.125 08/15/29 |  0.0774112   |\n",
       "|  Long T 0.625 05/15/30 |  0.0697819   |\n",
       "|    $\\text{ExcessCF}_3$ | -1.38988e-09 |\n"
      ],
      "text/plain": [
       "<IPython.core.display.Markdown object>"
      ]
     },
     "execution_count": 647,
     "metadata": {},
     "output_type": "execute_result"
    }
   ],
   "source": [
    "'''\n",
    "Print Solution to Short portfolio with Shorting Limit\n",
    "'''\n",
    "bonds_short_l = pd.DataFrame(\n",
    "    [v.varValue for v in short_l.variables() if v.varValue != 0],\n",
    "    index=[str(v.name[:-8].replace('_', ' ')+v.name[-8:].replace('_', '/')) \n",
    "        if v.name[0] == 'L' or v.name[0] =='S'\n",
    "        else str(r'$\\text{' + v.name[:-2] + '}' + v.name[-2:] + '$') for v in [g for g in short_l.variables() if g.varValue != 0]],\n",
    "    columns=['Quantity']\n",
    "    )\n",
    "mature = ['20'+ i[-2:] + '-'+i[-8:-6] + '-'+i[-5:-3]\n",
    "    if i[0] == 'L' or i[0] == 'S' \n",
    "    else '2100-01-01'\n",
    "    for i in bonds_short_l.index.tolist()]\n",
    "bond_s_dis = bonds_short_l.reset_index()\n",
    "bond_s_dis['m'] = mature\n",
    "bond_s_dis.set_index('m', inplace=True)\n",
    "bond_s_dis.sort_index(inplace=True)\n",
    "bond_s_dis.set_index('index', inplace=True)\n",
    "bond_s_dis.index.name = ''\n",
    "md(''' \n",
    "\n",
    "<center> Portfolio Value of ${:.2f} MM  </center> <br>\n",
    "\n",
    "<center>\n",
    "\n",
    "{}\n",
    "'''.format(value(short_l.objective), bond_s_dis.to_markdown(colalign = (\"right\", \"center\")))\n",
    ")"
   ]
  },
  {
   "cell_type": "markdown",
   "metadata": {},
   "source": [
    "### Discussion\n",
    "\n",
    "By doing this we found a portfolio with a lower cost than the optimal found without the option of short selling. Even with the transaction limit set by us, and by taking into account the bid-ask spread, the cost of the portfolio decreases by close to $2\\%$ to $\\$115.62 M$. Even with the set transaction limits, we find this to be a better portfolio than without the opportunity to short sell. \n",
    "\n",
    "However, we consider the feasability of this portfolio to be low given that we are focusing on the needs of a Municipality, and it is not common for them to use short selling, considering the risk involved. "
   ]
  },
  {
   "cell_type": "markdown",
   "metadata": {},
   "source": [
    "# Immunization and Short Selling\n",
    "\n",
    "Consider proposing a new portfolio of bonds using any additional consideration or change to the model that you see fit. For example, can you do something to make your portfolio of bonds immune to nonparallel changes in the term structure. Is there a better way to combine the techniques you used before. Explain clearly what you do and your results."
   ]
  },
  {
   "cell_type": "markdown",
   "metadata": {},
   "source": [
    "Now we are going to try to find an even better portfolio in terms of cost by using the strategies mentioned before. We know that an immunization portfolio is cheaper than a dedication one, and we know that the opportunity to short sell bonds reduces the cost even more. Therefore we will now approach the problem from an Immunization perspective while allowing the opportunity to short sell some of the bonds with the same transaction limit as set before. This states that the total amount of short selling cannot be greater than $50\\%$ of the total amount bought long."
   ]
  },
  {
   "cell_type": "markdown",
   "metadata": {},
   "source": [
    "## Mathematical Formulation"
   ]
  },
  {
   "cell_type": "markdown",
   "metadata": {},
   "source": [
    "$$\n",
    "\\begin{split}\n",
    "\\text{min} \\ \\ \\ &  \\sum_{i=1}^NP^+_il_i - P^-_is_i \\\\\n",
    "\\text{s.t.} \\ \\ \\ & \\sum_{i=1,...,n}NPV_i * x_i = NPV_{Liabilities}\\\\\n",
    "& \\sum_{i=1,...,n}Duration_i * l_i - Duration_i * s_i = Duration_{Liabilities}\\\\\n",
    "& \\sum_{i=1,...,n}Convexity_i * l_i - Convexity_i * s_i = Convexity_{Liabilities}\\\\\n",
    "& \\sum_{i=1}^NP^-_is_i \\le SL*\\sum_{i=1}^NP^+_il_i  \\\\\n",
    "& l_i, s_i \\ge 0 \\\\\n",
    "& \\\\\n",
    "\\text{where,} \\\\\n",
    "& \\text{$l_i$: quantity bought long of bond i;} \\\\\n",
    "& \\text{$s_i$: quantity sold short of bond i;} \\\\\n",
    "& \\text{$P^+_i$: ask price of bond i.} \\\\\n",
    "& \\text{$P^-_i$: bid price of bond i.} \\\\\n",
    "& \\text{$SL$: Short limit as a percentage of the amount bought long} \\\\\n",
    "\\end{split}\n",
    "$$"
   ]
  },
  {
   "cell_type": "markdown",
   "metadata": {},
   "source": [
    "## Code"
   ]
  },
  {
   "cell_type": "markdown",
   "metadata": {},
   "source": [
    "\\scriptsize"
   ]
  },
  {
   "cell_type": "code",
   "execution_count": 648,
   "metadata": {},
   "outputs": [
    {
     "data": {
      "text/plain": [
       "1"
      ]
     },
     "execution_count": 648,
     "metadata": {},
     "output_type": "execute_result"
    }
   ],
   "source": [
    "'''\n",
    "Immunization With Shorting Available (Limited)\n",
    "'''\n",
    "\n",
    "long_q = LpVariable.dicts('Long',dec_var_names,lowBound=0)\n",
    "short_q = LpVariable.dicts('Short',dec_var_names,lowBound=0)\n",
    "\n",
    "\n",
    "imm_s = LpProblem('Immunized_Short', LpMinimize)\n",
    "\n",
    "imm_s += lpSum([cf_df['px_bid'][i] * short_q[i] for i in dec_var_names]) <= lpSum([cf_df['px_ask'][i] * long_q[i] for i in dec_var_names])*short_limit\n",
    "\n",
    "imm_s += lpSum([cf_df['px_ask'][i] * long_q[i] - cf_df['px_bid'][i] * short_q[i] for i in dec_var_names])\n",
    "imm_s += lpSum([immunization_df['npv'].loc[i] * long_q[i] - immunization_df['npv'].loc[i] * short_q[i] for i in dec_var_names]) == npv\n",
    "imm_s += lpSum([immunization_df['duration'].loc[i] * long_q[i] - immunization_df['duration'].loc[i] * short_q[i] for i in dec_var_names]) == dur\n",
    "imm_s += lpSum([immunization_df['convexity'].loc[i] * long_q[i] - immunization_df['convexity'].loc[i] * short_q[i] for i in dec_var_names]) == con\n",
    "\n",
    "imm_s.solve()"
   ]
  },
  {
   "cell_type": "markdown",
   "metadata": {},
   "source": [
    "\\normalsize"
   ]
  },
  {
   "cell_type": "markdown",
   "metadata": {},
   "source": [
    "## Portfolio Allocation"
   ]
  },
  {
   "cell_type": "code",
   "execution_count": 649,
   "metadata": {},
   "outputs": [
    {
     "data": {
      "text/markdown": [
       " \n",
       "\n",
       "<center> Portfolio Value of $114.24 MM  </center> <br>\n",
       "\n",
       "<center>\n",
       "\n",
       "|                        |   Quantity |\n",
       "|-----------------------:|-----------:|\n",
       "|  Long T 6.125 08/15/29 |   0.841719 |\n",
       "|  Long T 6.625 02/15/27 |   0.99287  |\n",
       "|  Long T 7.250 08/15/22 |   0.118032 |\n",
       "| Short T 5.250 11/15/28 |   1.00929  |\n",
       "\n"
      ],
      "text/plain": [
       "<IPython.core.display.Markdown object>"
      ]
     },
     "execution_count": 649,
     "metadata": {},
     "output_type": "execute_result"
    }
   ],
   "source": [
    "'''\n",
    "Print Solution to Short Immunized portfolio with Limits (Same Limit as Last Prob)\n",
    "'''\n",
    "imms_bonds = pd.DataFrame(\n",
    "    [v.varValue for v in imm_s.variables() if v.varValue != 0],\n",
    "    index=[str(v.name[:-8].replace('_', ' ')+v.name[-8:].replace('_', '/')) for v in imm_s.variables() if v.varValue != 0],\n",
    "    columns=['Quantity']\n",
    "    )\n",
    "\n",
    "md(''' \n",
    "\n",
    "<center> Portfolio Value of ${:.2f} MM  </center> <br>\n",
    "\n",
    "<center>\n",
    "\n",
    "{}\n",
    "\n",
    "'''.format(value(imm_s.objective), imms_bonds[imms_bonds['Quantity']!=0].to_markdown(colalign = (\"right\",)))\n",
    ")"
   ]
  },
  {
   "cell_type": "markdown",
   "metadata": {},
   "source": [
    "## Disscussion"
   ]
  },
  {
   "cell_type": "markdown",
   "metadata": {},
   "source": [
    "Using the tools we discussed throughout the entire report, we find that we can lower the cost slightly more. Therefore, if our focus is to minimize cost, we would recommend an Immunization strategy that considers the opportunity to short sell some of the bonds (for this particular portfolio, only one). \n",
    "\n",
    "This portfolio matches the NPV, Duration, and Convexity of the Libilities required, and is covered against parallel interest rate changes. And while it does need money management, the cost of this portfolio is $\\$114.24 M$. Which, not considering the arbitrage opportunity found in the dedication portfolio without shorting limits, is the lowest cost portfolio we could find. "
   ]
  }
 ],
 "metadata": {
  "interpreter": {
   "hash": "8377259de029fbe3469e5825885a3984679ef58677fe54558bfe80e0473ceee4"
  },
  "kernelspec": {
   "display_name": "Python 3.9.7 64-bit",
   "language": "python",
   "name": "python3"
  },
  "language_info": {
   "codemirror_mode": {
    "name": "ipython",
    "version": 3
   },
   "file_extension": ".py",
   "mimetype": "text/x-python",
   "name": "python",
   "nbconvert_exporter": "python",
   "pygments_lexer": "ipython3",
   "version": "3.9.7"
  },
  "orig_nbformat": 4
 },
 "nbformat": 4,
 "nbformat_minor": 2
}
