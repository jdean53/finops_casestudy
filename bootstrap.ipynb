{
 "cells": [
  {
   "cell_type": "code",
   "execution_count": 1,
   "metadata": {},
   "outputs": [],
   "source": [
    "import pandas as pd\n",
    "import numpy as np\n",
    "import datetime\n",
    "import matplotlib.pyplot as plt"
   ]
  },
  {
   "cell_type": "code",
   "execution_count": 2,
   "metadata": {},
   "outputs": [],
   "source": [
    "term_structure_df = pd.read_excel('Table.xlsx', sheet_name='Bills Bonds and Notes')\n",
    "term_structure_df['px_last'] = [i if i>=5 else 100 - i for i in term_structure_df['ASKED'].to_list()]\n",
    "term_structure_df['ttm'] = [(i - datetime.datetime.now())/datetime.timedelta(days=365) for i in term_structure_df['MATURITY']]"
   ]
  },
  {
   "cell_type": "code",
   "execution_count": 3,
   "metadata": {},
   "outputs": [],
   "source": [
    "mats = []\n",
    "\n",
    "round_to = 2\n",
    "\n",
    "for bond_tenor in term_structure_df[term_structure_df['ttm'] <= 0.5].index:\n",
    "    bond = term_structure_df.loc[bond_tenor]\n",
    "    cpn = bond['COUPON']/2\n",
    "    ttm = bond['ttm']\n",
    "    px = bond['px_last']\n",
    "    mats.append([np.round(ttm,round_to),np.log((100 + cpn) / bond['px_last']) / bond['ttm']])\n",
    "\n",
    "st_rates = pd.DataFrame(mats, columns=['ttm','rate']).set_index('ttm').groupby('ttm').mean()\n",
    "\n",
    "for bond_tenor in term_structure_df[term_structure_df['ttm']>=0.5].index:\n",
    "    bond = term_structure_df.loc[bond_tenor]\n",
    "    px = bond['px_last']\n",
    "    ttm = bond['ttm']\n",
    "    cpn = bond['COUPON']/2\n",
    "    pmts = int(np.ceil(ttm * 2))\n",
    "    cfs = [cpn if i+1<pmts else 100 + cpn for i in range(pmts)]\n",
    "    cfs_idx = [np.round(ttm-i*0.5, round_to) for i in reversed(range(pmts))]\n",
    "    known_rates = [st_rates[:cfs_idx[i]].iloc[-1,0] for i in range(pmts-1)]\n",
    "    val = px - sum([cpn * np.exp((-1) * known_rates[i] * cfs_idx[i]) for i in range(pmts-1)])\n",
    "    yld = (-1) * (np.log(val / (100+cpn)) / cfs_idx[pmts-1])\n",
    "    add_df = pd.DataFrame([np.round(ttm, round_to), yld], index=['ttm','rate']).transpose().set_index('ttm')\n",
    "    st_rates = pd.concat([st_rates,add_df],ignore_index=False)\n",
    "    st_rates = st_rates.groupby('ttm').mean()"
   ]
  },
  {
   "cell_type": "code",
   "execution_count": 4,
   "metadata": {},
   "outputs": [
    {
     "data": {
      "text/plain": [
       "[<matplotlib.lines.Line2D at 0x28e1c56f040>]"
      ]
     },
     "execution_count": 4,
     "metadata": {},
     "output_type": "execute_result"
    },
    {
     "data": {
      "image/png": "[encoded data removed]",
      "text/plain": [
       "<Figure size 432x288 with 1 Axes>"
      ]
     },
     "metadata": {
      "needs_background": "light"
     },
     "output_type": "display_data"
    }
   ],
   "source": [
    "plt.plot(st_rates[0.5:] * 100 )"
   ]
  },
  {
   "cell_type": "code",
   "execution_count": null,
   "metadata": {},
   "outputs": [],
   "source": []
  }
 ],
 "metadata": {
  "interpreter": {
   "hash": "702e518b60c67dbd3b0638a510bff2830380600f50d13e8fcb105f9ecc05fb71"
  },
  "kernelspec": {
   "display_name": "Python 3.9.6 64-bit",
   "language": "python",
   "name": "python3"
  },
  "language_info": {
   "codemirror_mode": {
    "name": "ipython",
    "version": 3
   },
   "file_extension": ".py",
   "mimetype": "text/x-python",
   "name": "python",
   "nbconvert_exporter": "python",
   "pygments_lexer": "ipython3",
   "version": "3.9.7"
  },
  "orig_nbformat": 4
 },
 "nbformat": 4,
 "nbformat_minor": 2
}
