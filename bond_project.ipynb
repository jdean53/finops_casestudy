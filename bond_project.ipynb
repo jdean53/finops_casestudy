{
 "cells": [
  {
   "cell_type": "markdown",
   "metadata": {},
   "source": [
    "\\begin{center}\n",
    "  \\vfill\n",
    "  A case study using real world data to formulate optimized dedication, immunization, and other bond portfolios. \n",
    "  \\vspace{0.8cm}\n",
    "\n",
    "\n",
    "  \\includegraphics[width=0.4\\textwidth]{lehigh-logo-print}\n",
    "\\end{center}\n",
    "\\pagebreak\n",
    "\\tableofcontents \n",
    "\\pagebreak"
   ]
  },
  {
   "cell_type": "markdown",
   "metadata": {},
   "source": [
    "# Case Study\n",
    "\n",
    "Jack Dean, Charles Dotson, and Rodrigo Petricioli  \n",
    "ISE 447 - Financial Optimization  \n",
    "Lehigh Univerisity"
   ]
  },
  {
   "cell_type": "code",
   "execution_count": 31,
   "metadata": {},
   "outputs": [],
   "source": [
    "'''\n",
    "Package Imports\n",
    "'''\n",
    "import pandas as pd\n",
    "import numpy as np\n",
    "import pulp\n",
    "from pulp import *\n",
    "import datetime\n",
    "import matplotlib.pyplot as plt\n",
    "\n",
    "import FinOpsCodeDeck as finops\n",
    "\n",
    "from IPython.display import Markdown as md\n",
    "# %matplotlib widget"
   ]
  },
  {
   "cell_type": "markdown",
   "metadata": {},
   "source": [
    "# Term Structure\n",
    "\n",
    "Determine the current term structure of treasury rates (see textbook Section 3.4 or other resources that you can find), and find the present value, duration, and convexity of the stream of liabilities. Please explain the main steps followed in your calculations.  Use real world data."
   ]
  },
  {
   "cell_type": "markdown",
   "metadata": {},
   "source": [
    "## Deriving Term Structure\n",
    "\n",
    "In this section, we describe our derivation of the term structure of interest rates.  Specifically, we outline our data gathering and transformation techniques and then move to explaining bootstrapping.\n",
    "\n",
    "### Data and Transformations\n",
    "\n",
    "We begin by pulling current US Treasury issued Bonds and Notes from The [Wall Street Journal](https://www.wsj.com/market-data/bonds/treasuries).  We transform this data so we can understand each bonds market.  Specifically, we create a bid and ask price for each bond called `'px_bid'` or `'px_ask'`.  We also take the maturity of the bond less today's date to get a time to maturity field called `'ttm'`.  This time to maturity is a float datatype which represents the years to maturity according to an actual/365 day calendar, the standard calendar of US Treasury Bonds.  For sake of simplicity, we use this calendar for the notes as well despite these operating on a 30/360 calendar.  Having completed these transformations, we can move to bootstrapping the curve.\n",
    "\n",
    "### Bootstrapping\n",
    "\n",
    "[Bootstrapping](https://en.wikipedia.org/wiki/Bootstrapping_(finance)) is a technique used to find continuous annualized interest rates across all time to maturities.  Due to the nature of fixed income securities paying intermediate coupons, bootstrapping is necessary to value a cashflow from one specific point in time to any other.  To better understand this, consider the following example.\n",
    "\n",
    "*Example*  \n",
    "Let the current market only consist of 2 risk-free bonds that were issued today:  \n",
    "* 1-year zero-coupon bond trading at 99c on the dollar  \n",
    "* 2-year 1.5% annual coupon bond trading at par  \n",
    "To bootstrap the curve, we start with the 1-year zero.\n",
    "$$99=100\\mathrm{exp}\\{-r\\}\\implies r=-\\mathrm{log}(0.99)\\approx0.01$$\n",
    "We then use this rate in our calculation with the coupon bond to find the 2-year rate.\n",
    "$$100 = 1.5\\mathrm{exp}\\{-0.01(1)\\} + 101.5\\mathrm{exp}\\{-2r\\} \\implies r\\approx0.0145$$\n",
    "In this example, we have found the term structure to be given by:  \n",
    "| Time to Maturity | Rate |  \n",
    "| -- | -- |  \n",
    "| 1 | 1.00% |\n",
    "| 2 | 1.45% |\n",
    "\n",
    "So, doing this over all cashflows of all bonds in our data will allow us to derive a term structure across all maturities.  This derived term structure will drive our analysis.\n",
    "\n",
    "**NOTE**: For sake of simplicity, we round all time to maturity to the nearest hundredth of a year.  From a bond trading perspective, this is essentially every 2.5 trading days representing 1 time period.  We do this for simplicity in later sections as not all dates marry exactly together.  In the event that a particular liability does not have a term structure rate associated with it, we use the closest prior known date.  Additionally, in the event there are multiple calculated  yields for a particular time to maturity, we take the arithmetic average of them for that time."
   ]
  },
  {
   "cell_type": "code",
   "execution_count": 32,
   "metadata": {},
   "outputs": [],
   "source": [
    "'''\n",
    "Data Import for Current Term Structure\n",
    "---\n",
    "Imports all active treasury bonds data, time indexes them by year\n",
    "'''\n",
    "data_prompt = pd.read_excel('Table.xlsx', sheet_name='PromptUse', index_col = 'DateDue')\n",
    "data_prompt = data_prompt/1000\n",
    "term_structure_df = pd.read_excel('TableNew.xlsx', sheet_name='d')\n",
    "term_structure_df['px_ask'] = [i if i>=5 else 100 - i for i in term_structure_df['ASKED'].to_list()]\n",
    "term_structure_df['px_bid'] = [i if i>=5 else 100 - i for i in term_structure_df['BID'].to_list()]\n",
    "term_structure_df['ttm'] = [(i - datetime.datetime.now())/datetime.timedelta(days=365) for i in term_structure_df['MATURITY']]"
   ]
  },
  {
   "cell_type": "code",
   "execution_count": 33,
   "metadata": {},
   "outputs": [],
   "source": [
    "'''\n",
    "Bootstrap yield curve\n",
    "---\n",
    "begins with zero-coupon bonds to payout (ttm < 0.5 yrs) & calculates yield\n",
    "moves to coupon bonds and uses calculated yields to bootstrap further\n",
    "sorts all bonds into data frame indexed by ttm (by 100th of a year)\n",
    "NOTE: Averages yields for the same time period\n",
    "NOTE: assumes yield of period prior if yield for desired period does not exist\n",
    "'''\n",
    "\n",
    "'''short term rates'''\n",
    "mats = []\n",
    "round_to = 2\n",
    "for bond_tenor in term_structure_df[term_structure_df['ttm'] <= 0.5].index:\n",
    "    bond = term_structure_df.loc[bond_tenor]\n",
    "    cpn = bond['COUPON']/2\n",
    "    ttm = bond['ttm']\n",
    "    px = bond['px_ask']\n",
    "    mats.append([np.round(ttm,round_to),np.log((100 + cpn) / bond['px_ask']) / bond['ttm']])\n",
    "rates = pd.DataFrame(mats, columns=['ttm','rate']).set_index('ttm').groupby('ttm').mean()\n",
    "\n",
    "'''longer term rates'''\n",
    "for bond_tenor in term_structure_df[term_structure_df['ttm']>=0.5].index:\n",
    "    bond = term_structure_df.loc[bond_tenor]\n",
    "    px = bond['px_ask']\n",
    "    ttm = bond['ttm']\n",
    "    cpn = bond['COUPON']/2\n",
    "    pmts = int(np.ceil(ttm * 2))\n",
    "    cfs = [cpn if i+1<pmts else 100 + cpn for i in range(pmts)]\n",
    "    cfs_idx = [np.round(ttm-i*0.5, round_to) for i in reversed(range(pmts))]\n",
    "    known_rates = [rates[:cfs_idx[i]].iloc[-1,0] for i in range(pmts-1)]\n",
    "    val = px - sum([cpn * np.exp((-1) * known_rates[i] * cfs_idx[i]) for i in range(pmts-1)])\n",
    "    yld = (-1) * (np.log(val / (100+cpn)) / cfs_idx[pmts-1])\n",
    "    add_df = pd.DataFrame([np.round(ttm, round_to), yld], index=['ttm','rate']).transpose().set_index('ttm')\n",
    "    rates = pd.concat([rates,add_df],ignore_index=False)\n",
    "    rates = rates.groupby('ttm').mean()"
   ]
  },
  {
   "cell_type": "code",
   "execution_count": 34,
   "metadata": {},
   "outputs": [
    {
     "data": {
      "text/plain": [
       "<matplotlib.legend.Legend at 0x19440d14fd0>"
      ]
     },
     "execution_count": 34,
     "metadata": {},
     "output_type": "execute_result"
    },
    {
     "data": {
      "image/png": "[encoded data removed]",
      "text/plain": [
       "<Figure size 432x288 with 1 Axes>"
      ]
     },
     "metadata": {
      "needs_background": "light"
     },
     "output_type": "display_data"
    }
   ],
   "source": [
    "'''\n",
    "plot yield curve\n",
    "---\n",
    "plots yield curve in percentage points\n",
    "'''\n",
    "plt.plot(rates[0.5:] * 100)\n",
    "plt.title('Bootstrapped Term Structure (rates per annum)')\n",
    "plt.xlabel('Tenor')\n",
    "plt.ylabel('Yield in Percentage Points')\n",
    "plt.legend(['Yield Curve'])"
   ]
  },
  {
   "cell_type": "code",
   "execution_count": 35,
   "metadata": {},
   "outputs": [
    {
     "data": {
      "text/markdown": [
       "\n",
       "<center>\n",
       "\n",
       "### Solutions\n",
       "\n",
       "The Net Present Value of the Liabilities is $\\$117.68$ MM\n",
       "\n",
       "The Macauley Duration of the Liability stream is $3.83$ years\n",
       "\n",
       "The Convexity of the Liability stream is $23.32$\n",
       "\n",
       "\n"
      ],
      "text/plain": [
       "<IPython.core.display.Markdown object>"
      ]
     },
     "execution_count": 35,
     "metadata": {},
     "output_type": "execute_result"
    }
   ],
   "source": [
    "'''\n",
    "Liability Stream Analysis\n",
    "---\n",
    "Calculates time to maturity (in years) of each obligation\n",
    "Calculates npv, duration, and convexity of liability stream\n",
    "Prints stats to markdown for viewing\n",
    "'''\n",
    "data_prompt['ttm'] = np.round((data_prompt.index - datetime.datetime.now()) / datetime.timedelta(days=365), round_to)\n",
    "r = [rates[:ttm].iloc[-1,0] for ttm in data_prompt['ttm']]\n",
    "data_prompt['rates'] = r\n",
    "\n",
    "npv = sum([data_prompt.iloc[i,0]*np.exp((-1)*data_prompt.iloc[i,1]*data_prompt.iloc[i,2]) for i in range(len(data_prompt))])\n",
    "dur = sum([data_prompt.iloc[i,0]*data_prompt.iloc[i,1]*np.exp((-1) * (data_prompt.iloc[i,1]+1)*data_prompt.iloc[i,2]) for i in range(len(data_prompt))])\n",
    "con = sum([data_prompt.iloc[i,0]*data_prompt.iloc[i,1]*(data_prompt.iloc[i,1]+1)*np.exp((-1)*(data_prompt.iloc[i,1]+2)*data_prompt.iloc[i,2]) for i in range(len(data_prompt))])\n",
    "\n",
    "md('''\n",
    "<center>\n",
    "\n",
    "### Solutions\n",
    "\n",
    "The Net Present Value of the Liabilities is $\\${:.2f}$ MM\n",
    "\n",
    "The Macauley Duration of the Liability stream is ${:.2f}$ years\n",
    "\n",
    "The Convexity of the Liability stream is ${:.2f}$\n",
    "\n",
    "\n",
    "'''.format(npv,dur/npv,con/npv))"
   ]
  },
  {
   "cell_type": "markdown",
   "metadata": {},
   "source": [
    "# Data\n",
    "\n",
    "Identify *at least* 30 fixed-income assets that are suitable to construct a dedicated bond portfolio for the municipality liabilities that you have been given. Use assets that are considered risk-free; for example, US government non-callable treasury bonds, treasury bills, or treasury notes. Display in an appropriate table the main characteristics of the bonds you choose. Namely, prices, coupon rates, maturity dates, face value)."
   ]
  },
  {
   "cell_type": "code",
   "execution_count": 36,
   "metadata": {},
   "outputs": [],
   "source": [
    "'''\n",
    "code block\n",
    "'''\n",
    "ref_data = ['T ' + str(term_structure_df.iloc[bond,1]) + ' ' + term_structure_df.iloc[bond,0].strftime('%m/%d/%y') for bond in term_structure_df.index]\n",
    "term_structure_df['ref_data'] = ref_data\n",
    "\n",
    "bonds_clean = term_structure_df[['ref_data', 'px_ask', 'ASKED YIELD']]\n",
    "bonds_clean.columns = ['Bond', 'Price', 'Yield']\n",
    "# bonds_clean = bonds_clean.assign(ttm = term_structure_df.ttm.round(2))\n",
    "bonds_clean = bonds_clean.set_index('Bond')"
   ]
  },
  {
   "cell_type": "code",
   "execution_count": 37,
   "metadata": {},
   "outputs": [
    {
     "data": {
      "text/markdown": [
       "\n",
       "<center>\n",
       "\n",
       "Listed below are all bonds considered in this analysis.  All trade on a face value of 100 and pay coupons semiannually\n",
       "\n",
       "|       Bond       |   Price |   Yield |\n",
       "|:----------------:|--------:|--------:|\n",
       "| T 1.75 05/15/22  | 100.01  | -1.9931 |\n",
       "| T 2.125 05/15/22 | 100.012 | -2.5447 |\n",
       "|  T 0.0 05/17/22  |  99.352 |  0.657  |\n",
       "|  T 0.0 05/19/22  |  99.34  |  0.669  |\n",
       "|  T 0.0 05/24/22  |  99.32  |  0.69   |\n",
       "|  T 0.0 05/26/22  |  99.322 |  0.687  |\n",
       "| T 0.125 05/31/22 |  99.312 |  0.6946 |\n",
       "| T 1.75 05/31/22  | 100.014 |  0.608  |\n",
       "| T 1.875 05/31/22 | 100.016 |  0.544  |\n",
       "|  T 0.0 05/31/22  |  99.307 |  0.702  |\n",
       "|  T 0.0 06/02/22  |  99.327 |  0.682  |\n",
       "|  T 0.0 06/07/22  |  99.352 |  0.657  |\n",
       "|  T 0.0 06/09/22  |  99.347 |  0.662  |\n",
       "|  T 0.0 06/14/22  |  99.35  |  0.659  |\n",
       "| T 1.75 06/15/22  | 100.03  |  0.608  |\n",
       "|  T 0.0 06/16/22  |  99.372 |  0.637  |\n",
       "|  T 0.0 06/21/22  |  99.342 |  0.667  |\n",
       "|  T 0.0 06/23/22  |  99.307 |  0.703  |\n",
       "|  T 0.0 06/28/22  |  99.275 |  0.736  |\n",
       "| T 0.125 06/30/22 |  99.294 |  0.755  |\n",
       "| T 1.75 06/30/22  | 100.04  |  0.74   |\n",
       "| T 2.125 06/30/22 | 100.052 |  0.799  |\n",
       "|  T 0.0 06/30/22  |  99.275 |  0.736  |\n",
       "|  T 0.0 07/05/22  |  99.26  |  0.751  |\n",
       "|  T 0.0 07/07/22  |  99.235 |  0.777  |\n",
       "|  T 0.0 07/12/22  |  99.237 |  0.774  |\n",
       "|  T 0.0 07/14/22  |  99.222 |  0.789  |\n",
       "| T 1.75 07/15/22  | 100.052 |  0.756  |\n",
       "|  T 0.0 07/21/22  |  99.21  |  0.802  |\n",
       "|  T 0.0 07/28/22  |  99.205 |  0.807  |\n",
       "| T 0.125 07/31/22 |  99.27  |  0.871  |\n",
       "| T 1.875 07/31/22 | 100.064 |  0.902  |\n",
       "|  T 2.0 07/31/22  | 100.072 |  0.915  |\n",
       "|  T 0.0 08/04/22  |  99.085 |  0.93   |\n",
       "|  T 0.0 08/11/22  |  99.055 |  0.96   |\n",
       "|  T 1.5 08/15/22  | 100.04  |  0.999  |\n",
       "| T 1.625 08/15/22 | 100.05  |  0.999  |\n",
       "| T 7.25 08/15/22  | 101.184 |  0.942  |\n",
       "|  T 0.0 08/18/22  |  99.01  |  1.006  |\n",
       "|  T 0.0 08/25/22  |  99.01  |  1.007  |\n",
       "| T 0.125 08/31/22 |  99.234 |  1.042  |\n",
       "| T 1.625 08/31/22 | 100.052 |  1.057  |\n",
       "| T 1.875 08/31/22 | 100.076 |  1.037  |\n",
       "|  T 0.0 09/01/22  |  98.957 |  1.06   |\n",
       "|  T 0.0 09/08/22  |  98.912 |  1.106  |\n",
       "|  T 1.5 09/15/22  | 100.03  |  1.214  |\n",
       "|  T 0.0 09/15/22  |  98.9   |  1.12   |\n",
       "|  T 0.0 09/22/22  |  98.885 |  1.135  |\n",
       "|  T 0.0 09/29/22  |  98.887 |  1.133  |\n",
       "| T 0.125 09/30/22 |  99.184 |  1.258  |\n",
       "| T 1.75 09/30/22  | 100.056 |  1.266  |\n",
       "| T 1.875 09/30/22 | 100.074 |  1.244  |\n",
       "|  T 0.0 10/06/22  |  98.845 |  1.176  |\n",
       "|  T 0.0 10/13/22  |  98.757 |  1.266  |\n",
       "| T 1.375 10/15/22 | 100.004 |  1.336  |\n",
       "|  T 0.0 10/20/22  |  98.732 |  1.292  |\n",
       "|  T 0.0 10/27/22  |  98.697 |  1.329  |\n",
       "| T 0.125 10/31/22 |  99.14  |  1.365  |\n",
       "| T 1.875 10/31/22 | 100.072 |  1.375  |\n",
       "|  T 2.0 10/31/22  | 100.09  |  1.379  |\n",
       "|  T 0.0 11/03/22  |  98.675 |  1.352  |\n",
       "|  T 0.0 11/10/22  |  98.605 |  1.424  |\n",
       "| T 1.625 11/15/22 | 100.022 |  1.483  |\n",
       "| T 7.625 11/15/22 | 103.032 |  1.346  |\n",
       "| T 0.125 11/30/22 |  99.08  |  1.522  |\n",
       "|  T 2.0 11/30/22  | 100.084 |  1.505  |\n",
       "|  T 0.0 12/01/22  |  98.64  |  1.389  |\n",
       "| T 1.625 12/15/22 | 100.012 |  1.557  |\n",
       "|  T 0.0 12/29/22  |  98.515 |  1.52   |\n",
       "| T 0.137 12/31/22 |  99.016 |  1.653  |\n",
       "| T 2.125 12/31/22 | 100.09  |  1.669  |\n",
       "|  T 1.5 01/15/23  |  99.274 |  1.712  |\n",
       "|  T 0.0 01/26/23  |  98.452 |  1.586  |\n",
       "| T 0.125 01/31/23 |  98.27  |  1.771  |\n",
       "| T 1.75 01/31/23  | 100     |  1.749  |\n",
       "| T 2.375 01/31/23 | 100.142 |  1.739  |\n",
       "| T 1.375 02/15/23 |  99.22  |  1.795  |\n",
       "|  T 2.0 02/15/23  | 100.05  |  1.788  |\n",
       "| T 7.125 02/15/23 | 104.006 |  1.708  |\n",
       "|  T 0.0 02/23/23  |  98.332 |  1.713  |\n",
       "| T 0.125 02/28/23 |  98.206 |  1.855  |\n",
       "|  T 1.5 02/28/23  |  99.232 |  1.849  |\n",
       "| T 2.625 02/28/23 | 100.192 |  1.853  |\n",
       "|  T 0.5 03/15/23  |  98.276 |  1.879  |\n",
       "|  T 0.0 03/23/23  |  98.282 |  1.772  |\n",
       "| T 0.125 03/31/23 |  98.134 |  1.954  |\n",
       "|  T 1.5 03/31/23  |  99.19  |  1.97   |\n",
       "|  T 2.5 03/31/23  | 100.146 |  1.964  |\n",
       "| T 0.25 04/15/23  |  98.13  |  2.016  |\n",
       "|  T 0.0 04/20/23  |  98.127 |  1.933  |\n",
       "| T 0.125 04/30/23 |  98.056 |  2.057  |\n",
       "| T 1.625 04/30/23 |  99.19  |  2.056  |\n",
       "| T 2.75 04/30/23  | 100.206 |  2.061  |\n",
       "| T 0.125 05/15/23 |  98.03  |  2.066  |\n",
       "| T 1.75 05/15/23  |  99.22  |  2.068  |\n",
       "| T 0.125 05/31/23 |  97.306 |  2.115  |\n",
       "| T 1.625 05/31/23 |  99.156 |  2.12   |\n",
       "| T 2.75 05/31/23  | 100.204 |  2.124  |\n",
       "| T 0.25 06/15/23  |  97.316 |  2.136  |\n",
       "| T 0.125 06/30/23 |  97.23  |  2.19   |\n",
       "| T 1.375 06/30/23 |  99.034 |  2.181  |\n",
       "| T 2.625 06/30/23 | 100.156 |  2.178  |\n",
       "| T 0.125 07/15/23 |  97.19  |  2.227  |\n",
       "| T 0.125 07/31/23 |  97.144 |  2.271  |\n",
       "| T 1.25 07/31/23  |  98.262 |  2.243  |\n",
       "| T 2.75 07/31/23  | 100.19  |  2.248  |\n",
       "| T 0.125 08/15/23 |  97.114 |  2.277  |\n",
       "|  T 2.5 08/15/23  | 100.094 |  2.257  |\n",
       "| T 6.25 08/15/23  | 104.296 |  2.23   |\n",
       "| T 0.125 08/31/23 |  97.062 |  2.344  |\n",
       "| T 1.375 08/31/23 |  98.26  |  2.313  |\n",
       "| T 2.75 08/31/23  | 100.176 |  2.31   |\n",
       "| T 0.125 09/15/23 |  97.04  |  2.33   |\n",
       "| T 0.25 09/30/23  |  97.056 |  2.347  |\n",
       "| T 1.375 09/30/23 |  98.222 |  2.345  |\n",
       "| T 2.875 09/30/23 | 100.23  |  2.339  |\n",
       "| T 0.125 10/15/23 |  96.276 |  2.389  |\n",
       "| T 0.375 10/31/23 |  97.032 |  2.412  |\n",
       "| T 1.625 10/31/23 |  98.286 |  2.399  |\n",
       "| T 2.875 10/31/23 | 100.21  |  2.413  |\n",
       "| T 0.25 11/15/23  |  96.262 |  2.425  |\n",
       "| T 2.75 11/15/23  | 100.156 |  2.413  |\n",
       "|  T 0.5 11/30/23  |  97.01  |  2.475  |\n",
       "| T 2.125 11/30/23 |  99.172 |  2.431  |\n",
       "| T 2.875 11/30/23 | 100.202 |  2.454  |\n",
       "| T 0.125 12/15/23 |  96.126 |  2.46   |\n",
       "| T 0.75 12/31/23  |  97.07  |  2.508  |\n",
       "| T 2.25 12/31/23  |  99.202 |  2.481  |\n",
       "| T 2.625 12/31/23 | 100.08  |  2.466  |\n",
       "| T 0.125 01/15/24 |  96.046 |  2.5    |\n",
       "| T 0.875 01/31/24 |  97.072 |  2.542  |\n",
       "|  T 2.5 01/31/24  |  99.302 |  2.532  |\n",
       "| T 0.125 02/15/24 |  95.286 |  2.534  |\n",
       "| T 2.75 02/15/24  | 100.112 |  2.542  |\n",
       "|  T 1.5 02/29/24  |  98.056 |  2.546  |\n",
       "| T 2.125 02/29/24 |  99.092 |  2.533  |\n",
       "| T 2.375 02/29/24 |  99.232 |  2.531  |\n",
       "| T 0.25 03/15/24  |  95.286 |  2.556  |\n",
       "| T 2.125 03/31/24 |  99.07  |  2.554  |\n",
       "| T 2.25 03/31/24  |  99.13  |  2.576  |\n",
       "| T 0.375 04/15/24 |  95.286 |  2.584  |\n",
       "|  T 2.0 04/30/24  |  98.286 |  2.581  |\n",
       "| T 2.25 04/30/24  |  99.12  |  2.579  |\n",
       "|  T 2.5 04/30/24  |  99.27  |  2.582  |\n",
       "| T 0.25 05/15/24  |  95.144 |  2.601  |\n",
       "|  T 2.5 05/15/24  |  99.25  |  2.613  |\n",
       "|  T 2.0 05/31/24  |  98.264 |  2.593  |\n",
       "| T 0.25 06/15/24  |  95.066 |  2.628  |\n",
       "| T 1.75 06/30/24  |  98.06  |  2.632  |\n",
       "|  T 2.0 06/30/24  |  98.214 |  2.647  |\n",
       "| T 0.375 07/15/24 |  95.064 |  2.669  |\n",
       "| T 1.75 07/31/24  |  98.014 |  2.665  |\n",
       "| T 2.125 07/31/24 |  98.264 |  2.674  |\n",
       "| T 0.375 08/15/24 |  94.31  |  2.693  |\n",
       "| T 2.375 08/15/24 |  99.092 |  2.702  |\n",
       "| T 1.25 08/31/24  |  96.25  |  2.708  |\n",
       "| T 1.875 08/31/24 |  98.042 |  2.721  |\n",
       "| T 0.375 09/15/24 |  94.224 |  2.735  |\n",
       "|  T 1.5 09/30/24  |  97.07  |  2.717  |\n",
       "| T 2.125 09/30/24 |  98.21  |  2.713  |\n",
       "| T 0.625 10/15/24 |  95.034 |  2.723  |\n",
       "|  T 1.5 10/31/24  |  97.02  |  2.745  |\n",
       "| T 2.25 10/31/24  |  98.274 |  2.733  |\n",
       "| T 0.75 11/15/24  |  95.054 |  2.752  |\n",
       "| T 2.25 11/15/24  |  98.244 |  2.765  |\n",
       "|  T 7.5 11/15/24  | 111.176 |  2.685  |\n",
       "|  T 1.5 11/30/24  |  96.292 |  2.766  |\n",
       "| T 2.125 11/30/24 |  98.142 |  2.763  |\n",
       "|  T 1.0 12/15/24  |  95.204 |  2.758  |\n",
       "| T 1.75 12/31/24  |  97.134 |  2.775  |\n",
       "| T 2.25 12/31/24  |  98.22  |  2.771  |\n",
       "| T 1.125 01/15/25 |  95.25  |  2.777  |\n",
       "| T 1.375 01/31/25 |  96.114 |  2.779  |\n",
       "|  T 2.5 01/31/25  |  99.09  |  2.776  |\n",
       "|  T 1.5 02/15/25  |  96.184 |  2.798  |\n",
       "|  T 2.0 02/15/25  |  97.296 |  2.786  |\n",
       "| T 7.625 02/15/25 | 112.286 |  2.725  |\n",
       "| T 1.125 02/28/25 |  95.186 |  2.779  |\n",
       "| T 2.75 02/28/25  |  99.286 |  2.787  |\n",
       "| T 1.75 03/15/25  |  97.052 |  2.798  |\n",
       "|  T 0.5 03/31/25  |  93.222 |  2.798  |\n",
       "| T 2.625 03/31/25 |  99.176 |  2.787  |\n",
       "| T 2.625 04/15/25 |  99.164 |  2.799  |\n",
       "| T 0.375 04/30/25 |  93.04  |  2.815  |\n",
       "| T 2.875 04/30/25 | 100.066 |  2.8    |\n",
       "| T 2.125 05/15/25 |  98.016 |  2.806  |\n",
       "| T 2.75 05/15/25  |  99.282 |  2.791  |\n",
       "| T 0.25 05/31/25  |  92.186 |  2.811  |\n",
       "| T 2.875 05/31/25 | 100.066 |  2.802  |\n",
       "| T 0.25 06/30/25  |  92.116 |  2.819  |\n",
       "| T 2.75 06/30/25  |  99.266 |  2.805  |\n",
       "| T 0.25 07/31/25  |  92.046 |  2.826  |\n",
       "| T 2.875 07/31/25 | 100.06  |  2.813  |\n",
       "|  T 2.0 08/15/25  |  97.136 |  2.833  |\n",
       "| T 6.875 08/15/25 | 112.206 |  2.778  |\n",
       "| T 0.25 08/31/25  |  91.29  |  2.844  |\n",
       "| T 2.75 08/31/25  |  99.23  |  2.839  |\n",
       "| T 0.25 09/30/25  |  91.224 |  2.846  |\n",
       "|  T 3.0 09/30/25  | 100.166 |  2.836  |\n",
       "| T 0.25 10/31/25  |  91.16  |  2.85   |\n",
       "|  T 3.0 10/31/25  | 100.156 |  2.849  |\n",
       "| T 2.25 11/15/25  |  98.004 |  2.85   |\n",
       "| T 0.375 11/30/25 |  91.224 |  2.855  |\n",
       "| T 2.875 11/30/25 | 100.026 |  2.849  |\n",
       "| T 0.375 12/31/25 |  91.166 |  2.853  |\n",
       "| T 2.625 12/31/25 |  99.09  |  2.835  |\n",
       "| T 0.375 01/31/26 |  91.094 |  2.864  |\n",
       "| T 2.625 01/31/26 |  99.062 |  2.855  |\n",
       "| T 1.625 02/15/26 |  95.194 |  2.867  |\n",
       "|  T 6.0 02/15/26  | 111.052 |  2.84   |\n",
       "|  T 0.5 02/28/26  |  91.18  |  2.865  |\n",
       "|  T 2.5 02/28/26  |  98.232 |  2.856  |\n",
       "| T 0.75 03/31/26  |  92.092 |  2.867  |\n",
       "| T 2.25 03/31/26  |  97.24  |  2.867  |\n",
       "| T 0.75 04/30/26  |  92.042 |  2.868  |\n",
       "| T 2.375 04/30/26 |  98.062 |  2.861  |\n",
       "| T 1.625 05/15/26 |  95.094 |  2.879  |\n",
       "| T 0.75 05/31/26  |  91.292 |  2.884  |\n",
       "| T 2.125 05/31/26 |  97.05  |  2.875  |\n",
       "| T 0.875 06/30/26 |  92.074 |  2.886  |\n",
       "| T 1.875 06/30/26 |  96.052 |  2.868  |\n",
       "| T 0.625 07/31/26 |  91.024 |  2.891  |\n",
       "| T 1.875 07/31/26 |  96.024 |  2.87   |\n",
       "|  T 1.5 08/15/26  |  94.144 |  2.896  |\n",
       "| T 6.75 08/15/26  | 115.122 |  2.878  |\n",
       "| T 0.75 08/31/26  |  91.134 |  2.89   |\n",
       "| T 1.375 08/31/26 |  93.302 |  2.885  |\n",
       "| T 0.875 09/30/26 |  91.246 |  2.89   |\n",
       "| T 1.625 09/30/26 |  94.262 |  2.894  |\n",
       "| T 1.125 10/31/26 |  92.21  |  2.893  |\n",
       "| T 1.625 10/31/26 |  94.234 |  2.893  |\n",
       "|  T 2.0 11/15/26  |  96.07  |  2.903  |\n",
       "|  T 6.5 11/15/26  | 115.034 |  2.893  |\n",
       "| T 1.25 11/30/26  |  93.032 |  2.882  |\n",
       "| T 1.625 11/30/26 |  94.222 |  2.879  |\n",
       "| T 1.25 12/31/26  |  92.304 |  2.889  |\n",
       "| T 1.75 12/31/26  |  95.034 |  2.887  |\n",
       "|  T 1.5 01/31/27  |  93.292 |  2.891  |\n",
       "| T 2.25 02/15/27  |  97.042 |  2.9    |\n",
       "| T 6.625 02/15/27 | 116.114 |  2.912  |\n",
       "| T 1.125 02/28/27 |  92.052 |  2.888  |\n",
       "| T 1.875 02/28/27 |  95.172 |  2.878  |\n",
       "| T 0.625 03/31/27 |  89.244 |  2.891  |\n",
       "|  T 2.5 03/31/27  |  98.09  |  2.88   |\n",
       "|  T 0.5 04/30/27  |  89.002 |  2.897  |\n",
       "| T 2.75 04/30/27  |  99.126 |  2.881  |\n",
       "| T 2.375 05/15/27 |  97.164 |  2.913  |\n",
       "|  T 0.5 05/31/27  |  88.24  |  2.916  |\n",
       "|  T 0.5 06/30/27  |  88.184 |  2.916  |\n",
       "| T 0.375 07/31/27 |  87.274 |  2.903  |\n",
       "| T 2.25 08/15/27  |  96.24  |  2.922  |\n",
       "| T 6.375 08/15/27 | 116.224 |  2.92   |\n",
       "|  T 0.5 08/31/27  |  88.06  |  2.926  |\n",
       "|  T 0.5 10/31/27  |  87.262 |  2.932  |\n",
       "| T 2.25 11/15/27  |  96.186 |  2.927  |\n",
       "| T 6.125 11/15/27 | 116.04  |  2.928  |\n",
       "| T 0.625 11/30/27 |  88.082 |  2.937  |\n",
       "| T 0.625 12/31/27 |  88.02  |  2.944  |\n",
       "| T 0.75 01/31/28  |  88.166 |  2.949  |\n",
       "| T 2.75 02/15/28  |  99.004 |  2.937  |\n",
       "| T 1.125 02/29/28 |  90.136 |  2.934  |\n",
       "| T 1.25 03/31/28  |  90.284 |  2.95   |\n",
       "| T 1.25 04/30/28  |  90.24  |  2.955  |\n",
       "| T 2.875 05/15/28 |  99.192 |  2.948  |\n",
       "| T 1.25 05/31/28  |  90.2   |  2.956  |\n",
       "| T 1.25 06/30/28  |  90.146 |  2.965  |\n",
       "|  T 1.0 07/31/28  |  88.296 |  2.965  |\n",
       "| T 2.875 08/15/28 |  99.162 |  2.961  |\n",
       "|  T 5.5 08/15/28  | 114.156 |  2.944  |\n",
       "| T 1.125 08/31/28 |  89.164 |  2.964  |\n",
       "| T 1.25 09/30/28  |  90.026 |  2.968  |\n",
       "| T 1.375 10/31/28 |  90.226 |  2.966  |\n",
       "| T 3.125 11/15/28 | 100.312 |  2.959  |\n",
       "| T 5.25 11/15/28  | 113.192 |  2.935  |\n",
       "|  T 1.5 11/30/28  |  91.112 |  2.964  |\n",
       "| T 1.375 12/31/28 |  90.194 |  2.946  |\n",
       "| T 1.75 01/31/29  |  92.234 |  2.951  |\n",
       "| T 2.625 02/15/29 |  98.01  |  2.948  |\n",
       "| T 5.25 02/15/29  | 114.03  |  2.933  |\n",
       "| T 1.875 02/28/29 |  93.152 |  2.942  |\n",
       "| T 2.375 03/31/29 |  96.14  |  2.951  |\n",
       "| T 2.875 04/30/29 |  99.172 |  2.949  |\n",
       "| T 2.375 05/15/29 |  96.134 |  2.945  |\n",
       "| T 1.625 08/15/29 |  91.192 |  2.918  |\n",
       "| T 6.125 08/15/29 | 120.284 |  2.908  |\n",
       "| T 1.75 11/15/29  |  92.076 |  2.909  |\n",
       "|  T 1.5 02/15/30  |  90.076 |  2.915  |\n",
       "| T 0.625 05/15/30 |  83.23  |  2.923  |\n",
       "| T 6.25 05/15/30  | 123.232 |  2.904  |\n",
       "| T 0.625 08/15/30 |  83.09  |  2.92   |\n",
       "| T 0.875 11/15/30 |  84.224 |  2.921  |\n",
       "| T 1.125 02/15/31 |  86.076 |  2.918  |\n",
       "| T 5.375 02/15/31 | 118.256 |  2.923  |\n",
       "| T 1.625 05/15/31 |  89.25  |  2.925  |\n",
       "| T 1.25 08/15/31  |  86.162 |  2.925  |\n",
       "| T 1.375 11/15/31 |  87.046 |  2.935  |\n",
       "| T 1.875 02/15/32 |  91.02  |  2.936  |\n",
       "| T 2.875 05/15/32 |  99.176 |  2.927  |\n",
       "|  T 4.5 02/15/36  | 118.09  |  2.88   |\n",
       "| T 4.75 02/15/37  | 121.096 |  2.957  |\n",
       "|  T 5.0 05/15/37  | 124.052 |  2.989  |\n",
       "| T 4.375 02/15/38 | 116.29  |  3.018  |\n",
       "|  T 4.5 05/15/38  | 118.154 |  3.033  |\n",
       "|  T 3.5 02/15/39  | 105.026 |  3.108  |\n",
       "| T 4.25 05/15/39  | 115.006 |  3.106  |\n",
       "|  T 4.5 08/15/39  | 118.124 |  3.114  |\n",
       "| T 4.375 11/15/39 | 116.14  |  3.146  |\n",
       "| T 4.625 02/15/40 | 120.014 |  3.143  |\n",
       "| T 1.125 05/15/40 |  70.18  |  3.309  |\n",
       "| T 4.375 05/15/40 | 116.1   |  3.178  |\n",
       "| T 1.125 08/15/40 |  70.03  |  3.324  |\n",
       "| T 3.875 08/15/40 | 108.282 |  3.227  |\n",
       "| T 1.375 11/15/40 |  73.066 |  3.326  |\n",
       "| T 4.25 11/15/40  | 113.294 |  3.243  |\n",
       "| T 1.875 02/15/41 |  79.282 |  3.325  |\n",
       "| T 4.75 02/15/41  | 121.106 |  3.225  |\n",
       "| T 2.25 05/15/41  |  84.262 |  3.335  |\n",
       "| T 4.375 05/15/41 | 115.164 |  3.272  |\n",
       "| T 1.75 08/15/41  |  77.146 |  3.348  |\n",
       "| T 3.75 08/15/41  | 106.144 |  3.294  |\n",
       "| T 3.125 11/15/41 |  97.11  |  3.311  |\n",
       "|  T 2.0 11/30/41  |  80.292 |  3.34   |\n",
       "| T 2.375 02/15/42 |  86.136 |  3.316  |\n",
       "| T 3.125 02/15/42 |  97.094 |  3.312  |\n",
       "|  T 3.0 05/15/42  |  95.104 |  3.322  |\n",
       "| T 2.75 08/15/42  |  91.074 |  3.349  |\n",
       "| T 2.75 11/15/42  |  91.022 |  3.356  |\n",
       "| T 3.125 02/15/43 |  96.232 |  3.345  |\n",
       "| T 2.875 05/15/43 |  92.264 |  3.354  |\n",
       "| T 3.625 08/15/43 | 104.124 |  3.335  |\n",
       "| T 3.75 11/15/43  | 106.112 |  3.334  |\n",
       "| T 3.625 02/15/44 | 104.09  |  3.346  |\n",
       "| T 3.375 05/15/44 | 100.094 |  3.356  |\n",
       "| T 3.125 08/15/44 |  96.11  |  3.359  |\n",
       "|  T 3.0 11/15/44  |  94.084 |  3.366  |\n",
       "|  T 2.5 02/15/45  |  86.084 |  3.369  |\n",
       "|  T 3.0 05/15/45  |  94.094 |  3.358  |\n",
       "| T 2.875 08/15/45 |  92.116 |  3.35   |\n",
       "|  T 3.0 11/15/45  |  94.174 |  3.337  |\n",
       "|  T 2.5 02/15/46  |  86.076 |  3.344  |\n",
       "|  T 2.5 05/15/46  |  86.074 |  3.338  |\n",
       "| T 2.25 08/15/46  |  82.016 |  3.335  |\n",
       "| T 2.875 11/15/46 |  92.234 |  3.31   |\n",
       "|  T 3.0 02/15/47  |  94.266 |  3.307  |\n",
       "|  T 3.0 05/15/47  |  94.282 |  3.302  |\n",
       "| T 2.75 08/15/47  |  90.276 |  3.285  |\n",
       "| T 2.75 11/15/47  |  90.302 |  3.277  |\n",
       "|  T 3.0 02/15/48  |  95.21  |  3.25   |\n",
       "| T 3.125 05/15/48 |  98.04  |  3.232  |\n",
       "|  T 3.0 08/15/48  |  95.242 |  3.241  |\n",
       "| T 3.375 11/15/48 | 103.004 |  3.205  |\n",
       "|  T 3.0 02/15/49  |  96.142 |  3.199  |\n",
       "| T 2.875 05/15/49 |  94.084 |  3.194  |\n",
       "| T 2.25 08/15/49  |  82.304 |  3.191  |\n",
       "| T 2.375 11/15/49 |  85.126 |  3.175  |\n",
       "|  T 2.0 02/15/50  |  78.066 |  3.189  |\n",
       "| T 1.25 05/15/50  |  64.106 |  3.184  |\n",
       "| T 1.375 08/15/50 |  66.176 |  3.177  |\n",
       "| T 1.625 11/15/50 |  71.07  |  3.166  |\n",
       "| T 1.875 02/15/51 |  75.31  |  3.152  |\n",
       "| T 2.375 05/15/51 |  85.156 |  3.141  |\n",
       "|  T 2.0 08/15/51  |  78.106 |  3.137  |\n",
       "| T 1.875 11/15/51 |  76.014 |  3.124  |\n",
       "| T 2.25 02/15/52  |  83.134 |  3.108  |\n",
       "\n",
       "    \n"
      ],
      "text/plain": [
       "<IPython.core.display.Markdown object>"
      ]
     },
     "execution_count": 37,
     "metadata": {},
     "output_type": "execute_result"
    }
   ],
   "source": [
    "# You cannot tabe anything within the string literal for the markdown output, See the cell titled \"BAD MARKDOWN OUTPUT\"\n",
    "# Also when we finally convert to PDF I plan on using the metadata and hiding the markdown output cell because it takes up to much space and is ugly\n",
    "# Because of this, have all output cells in their own cell as done here\n",
    "md('''\n",
    "<center>\n",
    "\n",
    "Listed below are all bonds considered in this analysis.  All trade on a face value of 100 and pay coupons semiannually\n",
    "\n",
    "{}\n",
    "\n",
    "    \n",
    "'''.format(bonds_clean.to_markdown(colalign = (\"center\",)))\n",
    ")"
   ]
  },
  {
   "cell_type": "markdown",
   "metadata": {},
   "source": [
    "# Dedication Portfolio\n",
    "\n",
    "Formulate a linear programming model to find the lowest cost bond dedicated portfolio that covers the stream of liabilities. To eliminate the possibility of any interest risk, assume that a 0% reinvestment rate on cash balances carried out from one date to the next. Assume no short selling of bonds is allowed. What is the cost of your portfolio? How does this cost compares with the NPV of the liabilities? What is the composition of the portfolio?"
   ]
  },
  {
   "cell_type": "markdown",
   "metadata": {},
   "source": [
    "## Mathematical Formulation\n",
    "\n",
    "$$\n",
    "\\begin{split}\n",
    "\\text{min} \\ \\ \\ &  z_0 + \\sum_{i=1}^NP_ix_i \\\\\n",
    "\\text{s.t.} \\ \\ \\ & \\sum_{i=1,...,n:M_i \\ge t-1}C_ix_i + \\sum_{i=1,...,n:M_i \\ge t}100x_i + z_{t-1} -z_t = L_t\\\\\n",
    "& \\text{All variables are non-negative} \\\\\n",
    "\\end{split}\n",
    "$$"
   ]
  },
  {
   "cell_type": "markdown",
   "metadata": {},
   "source": [
    "## Code"
   ]
  },
  {
   "cell_type": "code",
   "execution_count": 38,
   "metadata": {},
   "outputs": [],
   "source": [
    "'''\n",
    "Data Manipulation\n",
    "'''\n",
    "term_by_maturity = term_structure_df.set_index('MATURITY')\n",
    "possibilities = term_by_maturity.drop(\n",
    "    index=[i for i in term_by_maturity.index.to_list() if i > data_prompt.index.to_list()[-1]],\n",
    "    columns=['BID', 'ASKED', 'ASKED YIELD']\n",
    "    )\n",
    "\n",
    "'''List of bond maturities less than liability maturity'''\n",
    "date_lists_to_change_to_periods = [\n",
    "    [i for i in possibilities.index.to_list() if i <= t]\n",
    "    for t in data_prompt.index.tolist()\n",
    "    ]\n",
    "'''Removing the duplicates from each one'''\n",
    "for i in reversed(range(1,len(date_lists_to_change_to_periods))):\n",
    "    for j in range(0,len(date_lists_to_change_to_periods[i-1])):\n",
    "        date_lists_to_change_to_periods[i].remove(date_lists_to_change_to_periods[i-1][j])\n",
    "\n",
    "for i in range(0,len(date_lists_to_change_to_periods)):\n",
    "    possibilities.loc[date_lists_to_change_to_periods[i],'period'] = i+1\n",
    "\n",
    "possibilities['face'] = 100\n",
    "possibilities['bond#'] = range(1,len(possibilities)+1)\n",
    "possibilities = possibilities.set_index('bond#')\n",
    "\n",
    "'''for labeling later'''\n",
    "dec_var_names = possibilities['ref_data']"
   ]
  },
  {
   "cell_type": "code",
   "execution_count": 39,
   "metadata": {},
   "outputs": [],
   "source": [
    "'''Getting data ready for the solver'''\n",
    "\n",
    "'''Exmpty Array'''\n",
    "cfs = np.zeros((len(possibilities),len(date_lists_to_change_to_periods)))\n",
    "\n",
    "'''CF Matrix'''\n",
    "'''Will make function later'''\n",
    "for i in range(0, len(cfs)):\n",
    "    for j in range(1, len(cfs[0])+1):\n",
    "        if possibilities.loc[i+1,'period'] == j and possibilities.loc[i+1,'COUPON'] == 0:\n",
    "            cfs[i][j-1] = possibilities.loc[i+1,'face']\n",
    "        elif possibilities.loc[i+1,'period'] == j and possibilities.loc[i+1,'COUPON'] != 0:\n",
    "            cfs[i][0:j-1] = possibilities.loc[i+1,'COUPON']/2\n",
    "            cfs[i][j-1] = possibilities.loc[i+1,'face'] + possibilities.loc[i+1,'COUPON']/2\n",
    "\n",
    "cf_matrix = cfs.tolist()\n",
    "prices = possibilities['px_ask'].values.tolist()\n",
    "liabilities = data_prompt['Amount'].values.tolist()"
   ]
  },
  {
   "cell_type": "code",
   "execution_count": 40,
   "metadata": {},
   "outputs": [
    {
     "data": {
      "text/plain": [
       "1"
      ]
     },
     "execution_count": 40,
     "metadata": {},
     "output_type": "execute_result"
    }
   ],
   "source": [
    "'''Solving for the dedicated portfolio'''\n",
    "\n",
    "# Making variable list of strings\n",
    "periods = [i for i in range(0,len(cf_matrix[0])+1)]\n",
    "\n",
    "# Dictionary of period constraints\n",
    "period_dict = {}\n",
    "for i in range(0,len(cf_matrix[0])):\n",
    "    period_dict['Period {}'.format(i+1)] = dict(zip(dec_var_names,[cf_matrix[j][i] for j in range(0,len(cf_matrix))]))\n",
    "\n",
    "objective = dict(zip(dec_var_names, prices))\n",
    "\n",
    "# Decision Vars\n",
    "quantity = LpVariable.dict('', dec_var_names, lowBound=0)\n",
    "excess = LpVariable.dict('carryover', periods, lowBound=0)\n",
    "\n",
    "# Intializing the Problem\n",
    "dedication_1 = LpProblem('Dedicated', LpMinimize)\n",
    "\n",
    "# Objective function\n",
    "dedication_1 += excess[0]+lpSum([objective[i]*quantity[i] for i in dec_var_names])\n",
    "\n",
    "# Constraints\n",
    "for i in range(0,len(cf_matrix[0])):\n",
    "    dedication_1 += lpSum([period_dict['Period {}'.format(i+1)][j]*quantity[j] for j in dec_var_names]) + excess[i]- excess[i+1] == liabilities[i]\n",
    "\n",
    "dedication_1.solve()"
   ]
  },
  {
   "cell_type": "code",
   "execution_count": 41,
   "metadata": {},
   "outputs": [],
   "source": [
    "composition = pd.DataFrame(\n",
    "    [v.varValue for v in dedication_1.variables() if v.name[0] != 'c' and v.varValue > 0],\n",
    "    index=[v.name[1:] for v in dedication_1.variables() if v.name[0] != 'c' and v.varValue > 0],\n",
    "    columns=['Quantity']\n",
    "    )"
   ]
  },
  {
   "cell_type": "markdown",
   "metadata": {},
   "source": [
    "## Results"
   ]
  },
  {
   "cell_type": "code",
   "execution_count": 42,
   "metadata": {},
   "outputs": [
    {
     "data": {
      "text/markdown": [
       " \n",
       "##### <center> Dedication Portfolio Cost & Composition  </center>\n",
       "\n",
       "<center>\n",
       "\n",
       "Portfolio Cost $ = \\$117.77 $ MM <br>\n",
       "\n",
       "</center>\n",
       "\n",
       "<center>\n",
       "\n",
       "|                  |   Quantity |\n",
       "|-----------------:|-----------:|\n",
       "| T_0.625_05_15_30 |  0.0697819 |\n",
       "|  T_0.75_05_31_26 |  0.107674  |\n",
       "|  T_1.25_05_31_28 |  0.0637436 |\n",
       "|   T_1.5_11_30_24 |  0.0714316 |\n",
       "|   T_2.0_05_31_24 |  0.0509223 |\n",
       "| T_2.875_04_30_29 |  0.0664559 |\n",
       "|   T_5.5_08_15_28 |  0.084142  |\n",
       "| T_6.125_08_15_29 |  0.0774112 |\n",
       "|  T_6.25_08_15_23 |  0.0590762 |\n",
       "| T_6.375_08_15_27 |  0.0423924 |\n",
       "| T_6.625_02_15_27 |  0.0507125 |\n",
       "|  T_6.75_08_15_26 |  0.0780774 |\n",
       "| T_6.875_08_15_25 |  0.0750923 |\n",
       "| T_7.125_02_15_23 |  0.0667    |\n",
       "|  T_7.25_08_15_22 |  0.0836671 |\n",
       "| T_7.625_02_15_25 |  0.0819673 |\n",
       "\n"
      ],
      "text/plain": [
       "<IPython.core.display.Markdown object>"
      ]
     },
     "execution_count": 42,
     "metadata": {},
     "output_type": "execute_result"
    }
   ],
   "source": [
    "# Just have to match bonds with the tickers Jack created instead\n",
    "\n",
    "'''Printing Solutions'''\n",
    "\n",
    "md(''' \n",
    "##### <center> Dedication Portfolio Cost & Composition  </center>\n",
    "\n",
    "<center>\n",
    "\n",
    "Portfolio Cost $ = \\${:.2f} $ MM <br>\n",
    "\n",
    "</center>\n",
    "\n",
    "<center>\n",
    "\n",
    "{}\n",
    "\n",
    "'''.format(dedication_1.objective.value(),composition.to_markdown(colalign = (\"right\",))))"
   ]
  },
  {
   "cell_type": "markdown",
   "metadata": {},
   "source": [
    "# Sensitivity Analysis\n",
    "\n",
    "Use the linear programming sensitivity analysis information to determine the term structure of interest rates implied by the optimal bond portfolio you found in the previous question. Use a plot to compare these rates with the current term structure of treasury rates you found in the first question."
   ]
  },
  {
   "cell_type": "markdown",
   "metadata": {},
   "source": [
    "## Shadow Prices"
   ]
  },
  {
   "cell_type": "code",
   "execution_count": 43,
   "metadata": {},
   "outputs": [
    {
     "data": {
      "text/markdown": [
       " \n",
       "\n",
       "<center>\n",
       "\n",
       "|   DateDue |   shadow price |\n",
       "|----------:|---------------:|\n",
       "|  12/15/22 |       0.976444 |\n",
       "|  06/15/23 |       0.970693 |\n",
       "|  12/15/23 |       0.952351 |\n",
       "|  06/15/24 |       0.944203 |\n",
       "|  12/15/24 |       0.927139 |\n",
       "|  06/15/25 |       0.906415 |\n",
       "|  12/15/25 |       0.896101 |\n",
       "|  06/15/26 |       0.884951 |\n",
       "|  12/15/26 |       0.870135 |\n",
       "|  06/15/27 |       0.856877 |\n",
       "|  12/15/27 |       0.8426   |\n",
       "|  06/15/28 |       0.834112 |\n",
       "|  12/15/28 |       0.820296 |\n",
       "|  06/15/29 |       0.812113 |\n",
       "|  12/15/29 |       0.795826 |\n",
       "|  06/15/30 |       0.788304 |\n",
       "\n"
      ],
      "text/plain": [
       "<IPython.core.display.Markdown object>"
      ]
     },
     "execution_count": 43,
     "metadata": {},
     "output_type": "execute_result"
    }
   ],
   "source": [
    "'''\n",
    "Pull sensitivity analysis\n",
    "---\n",
    "https://s3.amazonaws.com/assets.datacamp.com/production/course_8835/slides/chapter4.pdf\n",
    "'''\n",
    "o = [{'name':name, 'shadow price':c.pi} for name, c in dedication_1.constraints.items()]\n",
    "shadow_px = pd.DataFrame(o).set_index(data_prompt.index).drop('name',axis=1)\n",
    "clean_shadow_px = pd.DataFrame(o).set_index(data_prompt.index.strftime('%m/%d/%y')).drop('name',axis=1)\n",
    "md(''' \n",
    "\n",
    "<center>\n",
    "\n",
    "{}\n",
    "\n",
    "'''.format(clean_shadow_px.to_markdown(colalign = (\"right\",)))\n",
    ")"
   ]
  },
  {
   "cell_type": "code",
   "execution_count": 44,
   "metadata": {},
   "outputs": [
    {
     "data": {
      "text/plain": [
       "<matplotlib.legend.Legend at 0x19440c09d30>"
      ]
     },
     "execution_count": 44,
     "metadata": {},
     "output_type": "execute_result"
    },
    {
     "data": {
      "image/png": "[encoded data removed]",
      "text/plain": [
       "<Figure size 432x288 with 1 Axes>"
      ]
     },
     "metadata": {
      "needs_background": "light"
     },
     "output_type": "display_data"
    }
   ],
   "source": [
    "'''\n",
    "Presents implied and actual yield curve as a plot\n",
    "'''\n",
    "shadow_ttm = ((shadow_px.index - datetime.datetime.now()) / datetime.timedelta(days=365)).to_list()\n",
    "shadow_factors = shadow_px['shadow price'].to_list()\n",
    "implied_rates = [-np.log(shadow_factors[i]) / shadow_ttm[i] for i in range(len(shadow_ttm))]\n",
    "\n",
    "implied_rates_df = pd.DataFrame(\n",
    "                        data = [shadow_ttm, implied_rates],\n",
    "                        index=['ttm','implied_rate']\n",
    "                    )\n",
    "\n",
    "implied_rates_df = (implied_rates_df\n",
    "                        .transpose()\n",
    "                        .round({'ttm':round_to})\n",
    "                        .set_index('ttm')\n",
    "                    )\n",
    "\n",
    "plt.plot(rates[0.5:8.5] * 100)\n",
    "plt.plot(implied_rates_df * 100)\n",
    "plt.title('Bootstrapped and Implied Yield Curve (rates per annum)')\n",
    "plt.xlabel('Tenor')\n",
    "plt.ylabel('Yield in Percentage Points')\n",
    "plt.legend(['Actual', 'Implied'])"
   ]
  },
  {
   "cell_type": "markdown",
   "metadata": {},
   "source": [
    "## Implied Rates"
   ]
  },
  {
   "cell_type": "code",
   "execution_count": 45,
   "metadata": {},
   "outputs": [
    {
     "data": {
      "text/markdown": [
       " \n",
       "\n",
       "\n",
       "<center>\n",
       "\n",
       "|   ttm |   implied_rate |\n",
       "|------:|---------------:|\n",
       "|  0.58 |        4.11341 |\n",
       "|  1.08 |        2.75888 |\n",
       "|  1.58 |        3.09092 |\n",
       "|  2.08 |        2.75911 |\n",
       "|  2.58 |        2.92969 |\n",
       "|  3.08 |        3.18928 |\n",
       "|  3.58 |        3.06237 |\n",
       "|  4.08 |        2.995   |\n",
       "|  4.58 |        3.03576 |\n",
       "|  5.08 |        3.04005 |\n",
       "|  5.58 |        3.06798 |\n",
       "|  6.08 |        2.98156 |\n",
       "|  6.58 |        3.0082  |\n",
       "|  7.08 |        2.93799 |\n",
       "|  7.58 |        3.01088 |\n",
       "|  8.08 |        2.94262 |\n",
       "\n"
      ],
      "text/plain": [
       "<IPython.core.display.Markdown object>"
      ]
     },
     "execution_count": 45,
     "metadata": {},
     "output_type": "execute_result"
    }
   ],
   "source": [
    "md(''' \n",
    "\n",
    "\n",
    "<center>\n",
    "\n",
    "{}\n",
    "\n",
    "'''.format((implied_rates_df*100).to_markdown(colalign = (\"right\",)))\n",
    ")"
   ]
  },
  {
   "cell_type": "markdown",
   "metadata": {},
   "source": [
    "# Immunization Portfolios\n",
    "\n",
    "Formulate a linear programming model to find the lowest cost bond immunized portfolio that matches the present value, duration, and convexity of a stream of liabilities. Assume that no short rates are allowed. What is the cost of your portfolio? How much would you save by using this immunization strategy instead of the dedication one? Is your portfolio immunized against non-parallel shifts in the term structure? Explain why or why not."
   ]
  },
  {
   "cell_type": "markdown",
   "metadata": {},
   "source": [
    "## Mathematical Formulation"
   ]
  },
  {
   "cell_type": "markdown",
   "metadata": {},
   "source": [
    "## Code"
   ]
  },
  {
   "cell_type": "code",
   "execution_count": 46,
   "metadata": {},
   "outputs": [
    {
     "data": {
      "text/html": [
       "<div>\n",
       "<style scoped>\n",
       "    .dataframe tbody tr th:only-of-type {\n",
       "        vertical-align: middle;\n",
       "    }\n",
       "\n",
       "    .dataframe tbody tr th {\n",
       "        vertical-align: top;\n",
       "    }\n",
       "\n",
       "    .dataframe thead th {\n",
       "        text-align: right;\n",
       "    }\n",
       "</style>\n",
       "<table border=\"1\" class=\"dataframe\">\n",
       "  <thead>\n",
       "    <tr style=\"text-align: right;\">\n",
       "      <th></th>\n",
       "      <th>px_ask</th>\n",
       "      <th>px_bid</th>\n",
       "      <th>ttm</th>\n",
       "      <th>0</th>\n",
       "      <th>1</th>\n",
       "      <th>2</th>\n",
       "      <th>3</th>\n",
       "      <th>4</th>\n",
       "      <th>5</th>\n",
       "      <th>6</th>\n",
       "      <th>7</th>\n",
       "      <th>8</th>\n",
       "      <th>9</th>\n",
       "      <th>10</th>\n",
       "      <th>11</th>\n",
       "      <th>12</th>\n",
       "      <th>13</th>\n",
       "      <th>14</th>\n",
       "      <th>15</th>\n",
       "    </tr>\n",
       "    <tr>\n",
       "      <th>ref_data</th>\n",
       "      <th></th>\n",
       "      <th></th>\n",
       "      <th></th>\n",
       "      <th></th>\n",
       "      <th></th>\n",
       "      <th></th>\n",
       "      <th></th>\n",
       "      <th></th>\n",
       "      <th></th>\n",
       "      <th></th>\n",
       "      <th></th>\n",
       "      <th></th>\n",
       "      <th></th>\n",
       "      <th></th>\n",
       "      <th></th>\n",
       "      <th></th>\n",
       "      <th></th>\n",
       "      <th></th>\n",
       "      <th></th>\n",
       "    </tr>\n",
       "  </thead>\n",
       "  <tbody>\n",
       "    <tr>\n",
       "      <th>T 1.75 05/15/22</th>\n",
       "      <td>100.010</td>\n",
       "      <td>100.004</td>\n",
       "      <td>-0.01</td>\n",
       "      <td>100.8750</td>\n",
       "      <td>0.0000</td>\n",
       "      <td>0.0000</td>\n",
       "      <td>0.0000</td>\n",
       "      <td>0.0000</td>\n",
       "      <td>0.0000</td>\n",
       "      <td>0.0000</td>\n",
       "      <td>0.0000</td>\n",
       "      <td>0.0000</td>\n",
       "      <td>0.0000</td>\n",
       "      <td>0.0000</td>\n",
       "      <td>0.0000</td>\n",
       "      <td>0.0000</td>\n",
       "      <td>0.0000</td>\n",
       "      <td>0.0000</td>\n",
       "      <td>0.0000</td>\n",
       "    </tr>\n",
       "    <tr>\n",
       "      <th>T 2.125 05/15/22</th>\n",
       "      <td>100.012</td>\n",
       "      <td>100.006</td>\n",
       "      <td>-0.01</td>\n",
       "      <td>101.0625</td>\n",
       "      <td>0.0000</td>\n",
       "      <td>0.0000</td>\n",
       "      <td>0.0000</td>\n",
       "      <td>0.0000</td>\n",
       "      <td>0.0000</td>\n",
       "      <td>0.0000</td>\n",
       "      <td>0.0000</td>\n",
       "      <td>0.0000</td>\n",
       "      <td>0.0000</td>\n",
       "      <td>0.0000</td>\n",
       "      <td>0.0000</td>\n",
       "      <td>0.0000</td>\n",
       "      <td>0.0000</td>\n",
       "      <td>0.0000</td>\n",
       "      <td>0.0000</td>\n",
       "    </tr>\n",
       "    <tr>\n",
       "      <th>T 0.0 05/17/22</th>\n",
       "      <td>99.352</td>\n",
       "      <td>99.342</td>\n",
       "      <td>-0.00</td>\n",
       "      <td>100.0000</td>\n",
       "      <td>0.0000</td>\n",
       "      <td>0.0000</td>\n",
       "      <td>0.0000</td>\n",
       "      <td>0.0000</td>\n",
       "      <td>0.0000</td>\n",
       "      <td>0.0000</td>\n",
       "      <td>0.0000</td>\n",
       "      <td>0.0000</td>\n",
       "      <td>0.0000</td>\n",
       "      <td>0.0000</td>\n",
       "      <td>0.0000</td>\n",
       "      <td>0.0000</td>\n",
       "      <td>0.0000</td>\n",
       "      <td>0.0000</td>\n",
       "      <td>0.0000</td>\n",
       "    </tr>\n",
       "    <tr>\n",
       "      <th>T 0.0 05/19/22</th>\n",
       "      <td>99.340</td>\n",
       "      <td>99.330</td>\n",
       "      <td>0.00</td>\n",
       "      <td>100.0000</td>\n",
       "      <td>0.0000</td>\n",
       "      <td>0.0000</td>\n",
       "      <td>0.0000</td>\n",
       "      <td>0.0000</td>\n",
       "      <td>0.0000</td>\n",
       "      <td>0.0000</td>\n",
       "      <td>0.0000</td>\n",
       "      <td>0.0000</td>\n",
       "      <td>0.0000</td>\n",
       "      <td>0.0000</td>\n",
       "      <td>0.0000</td>\n",
       "      <td>0.0000</td>\n",
       "      <td>0.0000</td>\n",
       "      <td>0.0000</td>\n",
       "      <td>0.0000</td>\n",
       "    </tr>\n",
       "    <tr>\n",
       "      <th>T 0.0 05/24/22</th>\n",
       "      <td>99.320</td>\n",
       "      <td>99.310</td>\n",
       "      <td>0.02</td>\n",
       "      <td>100.0000</td>\n",
       "      <td>0.0000</td>\n",
       "      <td>0.0000</td>\n",
       "      <td>0.0000</td>\n",
       "      <td>0.0000</td>\n",
       "      <td>0.0000</td>\n",
       "      <td>0.0000</td>\n",
       "      <td>0.0000</td>\n",
       "      <td>0.0000</td>\n",
       "      <td>0.0000</td>\n",
       "      <td>0.0000</td>\n",
       "      <td>0.0000</td>\n",
       "      <td>0.0000</td>\n",
       "      <td>0.0000</td>\n",
       "      <td>0.0000</td>\n",
       "      <td>0.0000</td>\n",
       "    </tr>\n",
       "    <tr>\n",
       "      <th>...</th>\n",
       "      <td>...</td>\n",
       "      <td>...</td>\n",
       "      <td>...</td>\n",
       "      <td>...</td>\n",
       "      <td>...</td>\n",
       "      <td>...</td>\n",
       "      <td>...</td>\n",
       "      <td>...</td>\n",
       "      <td>...</td>\n",
       "      <td>...</td>\n",
       "      <td>...</td>\n",
       "      <td>...</td>\n",
       "      <td>...</td>\n",
       "      <td>...</td>\n",
       "      <td>...</td>\n",
       "      <td>...</td>\n",
       "      <td>...</td>\n",
       "      <td>...</td>\n",
       "      <td>...</td>\n",
       "    </tr>\n",
       "    <tr>\n",
       "      <th>T 6.125 08/15/29</th>\n",
       "      <td>120.284</td>\n",
       "      <td>120.274</td>\n",
       "      <td>7.25</td>\n",
       "      <td>3.0625</td>\n",
       "      <td>3.0625</td>\n",
       "      <td>3.0625</td>\n",
       "      <td>3.0625</td>\n",
       "      <td>3.0625</td>\n",
       "      <td>3.0625</td>\n",
       "      <td>3.0625</td>\n",
       "      <td>3.0625</td>\n",
       "      <td>3.0625</td>\n",
       "      <td>3.0625</td>\n",
       "      <td>3.0625</td>\n",
       "      <td>3.0625</td>\n",
       "      <td>3.0625</td>\n",
       "      <td>3.0625</td>\n",
       "      <td>103.0625</td>\n",
       "      <td>0.0000</td>\n",
       "    </tr>\n",
       "    <tr>\n",
       "      <th>T 1.75 11/15/29</th>\n",
       "      <td>92.076</td>\n",
       "      <td>92.066</td>\n",
       "      <td>7.50</td>\n",
       "      <td>0.8750</td>\n",
       "      <td>0.8750</td>\n",
       "      <td>0.8750</td>\n",
       "      <td>0.8750</td>\n",
       "      <td>0.8750</td>\n",
       "      <td>0.8750</td>\n",
       "      <td>0.8750</td>\n",
       "      <td>0.8750</td>\n",
       "      <td>0.8750</td>\n",
       "      <td>0.8750</td>\n",
       "      <td>0.8750</td>\n",
       "      <td>0.8750</td>\n",
       "      <td>0.8750</td>\n",
       "      <td>0.8750</td>\n",
       "      <td>100.8750</td>\n",
       "      <td>0.0000</td>\n",
       "    </tr>\n",
       "    <tr>\n",
       "      <th>T 1.5 02/15/30</th>\n",
       "      <td>90.076</td>\n",
       "      <td>90.066</td>\n",
       "      <td>7.75</td>\n",
       "      <td>0.7500</td>\n",
       "      <td>0.7500</td>\n",
       "      <td>0.7500</td>\n",
       "      <td>0.7500</td>\n",
       "      <td>0.7500</td>\n",
       "      <td>0.7500</td>\n",
       "      <td>0.7500</td>\n",
       "      <td>0.7500</td>\n",
       "      <td>0.7500</td>\n",
       "      <td>0.7500</td>\n",
       "      <td>0.7500</td>\n",
       "      <td>0.7500</td>\n",
       "      <td>0.7500</td>\n",
       "      <td>0.7500</td>\n",
       "      <td>0.7500</td>\n",
       "      <td>100.7500</td>\n",
       "    </tr>\n",
       "    <tr>\n",
       "      <th>T 0.625 05/15/30</th>\n",
       "      <td>83.230</td>\n",
       "      <td>83.220</td>\n",
       "      <td>8.00</td>\n",
       "      <td>0.3125</td>\n",
       "      <td>0.3125</td>\n",
       "      <td>0.3125</td>\n",
       "      <td>0.3125</td>\n",
       "      <td>0.3125</td>\n",
       "      <td>0.3125</td>\n",
       "      <td>0.3125</td>\n",
       "      <td>0.3125</td>\n",
       "      <td>0.3125</td>\n",
       "      <td>0.3125</td>\n",
       "      <td>0.3125</td>\n",
       "      <td>0.3125</td>\n",
       "      <td>0.3125</td>\n",
       "      <td>0.3125</td>\n",
       "      <td>0.3125</td>\n",
       "      <td>100.3125</td>\n",
       "    </tr>\n",
       "    <tr>\n",
       "      <th>T 6.25 05/15/30</th>\n",
       "      <td>123.232</td>\n",
       "      <td>123.222</td>\n",
       "      <td>8.00</td>\n",
       "      <td>3.1250</td>\n",
       "      <td>3.1250</td>\n",
       "      <td>3.1250</td>\n",
       "      <td>3.1250</td>\n",
       "      <td>3.1250</td>\n",
       "      <td>3.1250</td>\n",
       "      <td>3.1250</td>\n",
       "      <td>3.1250</td>\n",
       "      <td>3.1250</td>\n",
       "      <td>3.1250</td>\n",
       "      <td>3.1250</td>\n",
       "      <td>3.1250</td>\n",
       "      <td>3.1250</td>\n",
       "      <td>3.1250</td>\n",
       "      <td>3.1250</td>\n",
       "      <td>103.1250</td>\n",
       "    </tr>\n",
       "  </tbody>\n",
       "</table>\n",
       "<p>289 rows × 19 columns</p>\n",
       "</div>"
      ],
      "text/plain": [
       "                   px_ask   px_bid   ttm         0       1       2       3  \\\n",
       "ref_data                                                                     \n",
       "T 1.75 05/15/22   100.010  100.004 -0.01  100.8750  0.0000  0.0000  0.0000   \n",
       "T 2.125 05/15/22  100.012  100.006 -0.01  101.0625  0.0000  0.0000  0.0000   \n",
       "T 0.0 05/17/22     99.352   99.342 -0.00  100.0000  0.0000  0.0000  0.0000   \n",
       "T 0.0 05/19/22     99.340   99.330  0.00  100.0000  0.0000  0.0000  0.0000   \n",
       "T 0.0 05/24/22     99.320   99.310  0.02  100.0000  0.0000  0.0000  0.0000   \n",
       "...                   ...      ...   ...       ...     ...     ...     ...   \n",
       "T 6.125 08/15/29  120.284  120.274  7.25    3.0625  3.0625  3.0625  3.0625   \n",
       "T 1.75 11/15/29    92.076   92.066  7.50    0.8750  0.8750  0.8750  0.8750   \n",
       "T 1.5 02/15/30     90.076   90.066  7.75    0.7500  0.7500  0.7500  0.7500   \n",
       "T 0.625 05/15/30   83.230   83.220  8.00    0.3125  0.3125  0.3125  0.3125   \n",
       "T 6.25 05/15/30   123.232  123.222  8.00    3.1250  3.1250  3.1250  3.1250   \n",
       "\n",
       "                       4       5       6       7       8       9      10  \\\n",
       "ref_data                                                                   \n",
       "T 1.75 05/15/22   0.0000  0.0000  0.0000  0.0000  0.0000  0.0000  0.0000   \n",
       "T 2.125 05/15/22  0.0000  0.0000  0.0000  0.0000  0.0000  0.0000  0.0000   \n",
       "T 0.0 05/17/22    0.0000  0.0000  0.0000  0.0000  0.0000  0.0000  0.0000   \n",
       "T 0.0 05/19/22    0.0000  0.0000  0.0000  0.0000  0.0000  0.0000  0.0000   \n",
       "T 0.0 05/24/22    0.0000  0.0000  0.0000  0.0000  0.0000  0.0000  0.0000   \n",
       "...                  ...     ...     ...     ...     ...     ...     ...   \n",
       "T 6.125 08/15/29  3.0625  3.0625  3.0625  3.0625  3.0625  3.0625  3.0625   \n",
       "T 1.75 11/15/29   0.8750  0.8750  0.8750  0.8750  0.8750  0.8750  0.8750   \n",
       "T 1.5 02/15/30    0.7500  0.7500  0.7500  0.7500  0.7500  0.7500  0.7500   \n",
       "T 0.625 05/15/30  0.3125  0.3125  0.3125  0.3125  0.3125  0.3125  0.3125   \n",
       "T 6.25 05/15/30   3.1250  3.1250  3.1250  3.1250  3.1250  3.1250  3.1250   \n",
       "\n",
       "                      11      12      13        14        15  \n",
       "ref_data                                                      \n",
       "T 1.75 05/15/22   0.0000  0.0000  0.0000    0.0000    0.0000  \n",
       "T 2.125 05/15/22  0.0000  0.0000  0.0000    0.0000    0.0000  \n",
       "T 0.0 05/17/22    0.0000  0.0000  0.0000    0.0000    0.0000  \n",
       "T 0.0 05/19/22    0.0000  0.0000  0.0000    0.0000    0.0000  \n",
       "T 0.0 05/24/22    0.0000  0.0000  0.0000    0.0000    0.0000  \n",
       "...                  ...     ...     ...       ...       ...  \n",
       "T 6.125 08/15/29  3.0625  3.0625  3.0625  103.0625    0.0000  \n",
       "T 1.75 11/15/29   0.8750  0.8750  0.8750  100.8750    0.0000  \n",
       "T 1.5 02/15/30    0.7500  0.7500  0.7500    0.7500  100.7500  \n",
       "T 0.625 05/15/30  0.3125  0.3125  0.3125    0.3125  100.3125  \n",
       "T 6.25 05/15/30   3.1250  3.1250  3.1250    3.1250  103.1250  \n",
       "\n",
       "[289 rows x 19 columns]"
      ]
     },
     "execution_count": 46,
     "metadata": {},
     "output_type": "execute_result"
    }
   ],
   "source": [
    "'''\n",
    "Aggregates cashflow matrix and ref data for immunization\n",
    "---\n",
    "Puts cashflow matrix into a dataframe for merging\n",
    "merges possible bond ref data with cashflow matrix\n",
    "cleans resulting dataframe\n",
    "\n",
    "NOTE: MATH NEEDS WORK HERE BUT WE CAN FIGURE OUT\n",
    "from here: use ttm and col_num against calculated curve to find appropriate measure\n",
    "        pv_factor = exp{-rt} = exp{- () * (ttm)}\n",
    "'''\n",
    "cf_df = pd.DataFrame(cf_matrix, index=dec_var_names)\n",
    "\n",
    "cf_df = pd.merge(                                                           # Combines possible bonds with cashflow matrix\n",
    "    left = possibilities,                                                   # possible bonds - SAME DF AS DEDICATION\n",
    "    right = cf_df,                                                          # Cashflow matrix - NP ARRAY FROM DEDICATION AS DF FOR MERGING\n",
    "    how='inner',                                                            # Catches any missed bonds on merge\n",
    "    left_on='ref_data',                                                     # possibilities not indexed by bond name - CHAZ IS THIS SOMETHING WE CAN ADJUST OR NO?????????????????????\n",
    "    right_index=True                                                        # Casflow df indexed by bond name\n",
    ")\n",
    "\n",
    "cf_df = (cf_df\n",
    "            .drop(['COUPON','period','face'],axis=1)                        # Drops unnecessary ref data\n",
    "            .set_index('ref_data')                                          # Sets index to bond name\n",
    "            .round({'ttm':round_to})                                        # rounds time to maturity to 2 decimal places -- allows use of derived term structure (indexed by hundredths)\n",
    "        )\n",
    "\n",
    "cf_df"
   ]
  },
  {
   "cell_type": "code",
   "execution_count": 47,
   "metadata": {},
   "outputs": [],
   "source": [
    "'''\n",
    "Create Present Value, Duration, and Convexity factors for all possible time index based on derived rates curve\n",
    "'''\n",
    "t = rates.index\n",
    "r = rates['rate']\n",
    "npv_factor = np.exp(-r*t)\n",
    "dur_factor = t*np.exp(-r*(t+1))\n",
    "con_factor = t*(t+1)*np.exp(-r*(t+2))"
   ]
  },
  {
   "cell_type": "code",
   "execution_count": 48,
   "metadata": {},
   "outputs": [],
   "source": [
    "'''\n",
    "Calculates npv, duration, and convexity terms for all bonds consiuder in problem\n",
    "'''\n",
    "npvs=[]\n",
    "durs=[]\n",
    "cons=[]\n",
    "for bond in cf_df.index:\n",
    "    bond_df = cf_df.loc[bond]\n",
    "    bond_ttm = bond_df.loc['ttm']\n",
    "    bond_cf_stream = bond_df.loc[0:]\n",
    "    eo_cfs = bond_cf_stream.idxmax()\n",
    "    cpn_ttm = [(bond_ttm - 0.5*i).round(round_to) for i in range(eo_cfs+1)]\n",
    "    bond_cf_ttm = pd.Series(data=bond_df.loc[0:eo_cfs].to_list(), index=reversed(cpn_ttm))\n",
    "\n",
    "    bond_npv = sum([bond_cf_ttm.loc[i] * npv_factor.loc[:i].iloc[-1] for i in bond_cf_ttm.index])\n",
    "    bond_dur = sum([bond_cf_ttm.loc[i] * dur_factor.loc[:i].iloc[-1] for i in bond_cf_ttm.index])\n",
    "    bond_con = sum([bond_cf_ttm.loc[i] * con_factor.loc[:i].iloc[-1] for i in bond_cf_ttm.index])\n",
    "\n",
    "    npvs.append(bond_npv)\n",
    "    durs.append(bond_dur)\n",
    "    cons.append(bond_con)\n",
    "\n",
    "immunization_df = pd.DataFrame([npvs, durs, cons], columns=cf_df.index, index=['npv','duration','convexity']).transpose()"
   ]
  },
  {
   "cell_type": "code",
   "execution_count": 49,
   "metadata": {},
   "outputs": [
    {
     "data": {
      "text/plain": [
       "1"
      ]
     },
     "execution_count": 49,
     "metadata": {},
     "output_type": "execute_result"
    }
   ],
   "source": [
    "'''\n",
    "Solves immunization portfolio\n",
    "'''\n",
    "bond_count = LpVariable.dicts('Bonds',dec_var_names,lowBound=0)\n",
    "\n",
    "immunization = LpProblem('immunization', LpMinimize)\n",
    "\n",
    "immunization += lpSum([cf_df['px_ask'].loc[i] * bond_count[i] for i in dec_var_names])\n",
    "immunization += lpSum([immunization_df['npv'].loc[i] * bond_count[i] for i in dec_var_names]) == npv\n",
    "immunization += lpSum([immunization_df['duration'].loc[i] * bond_count[i] for i in dec_var_names]) == dur\n",
    "immunization += lpSum([immunization_df['convexity'].loc[i] * bond_count[i] for i in dec_var_names]) == con\n",
    "\n",
    "immunization.solve()"
   ]
  },
  {
   "cell_type": "code",
   "execution_count": 50,
   "metadata": {},
   "outputs": [
    {
     "data": {
      "text/html": [
       "<div>\n",
       "<style scoped>\n",
       "    .dataframe tbody tr th:only-of-type {\n",
       "        vertical-align: middle;\n",
       "    }\n",
       "\n",
       "    .dataframe tbody tr th {\n",
       "        vertical-align: top;\n",
       "    }\n",
       "\n",
       "    .dataframe thead th {\n",
       "        text-align: right;\n",
       "    }\n",
       "</style>\n",
       "<table border=\"1\" class=\"dataframe\">\n",
       "  <thead>\n",
       "    <tr style=\"text-align: right;\">\n",
       "      <th></th>\n",
       "      <th>amt</th>\n",
       "    </tr>\n",
       "    <tr>\n",
       "      <th>bond</th>\n",
       "      <th></th>\n",
       "    </tr>\n",
       "  </thead>\n",
       "  <tbody>\n",
       "    <tr>\n",
       "      <th>T_6.125_08_15_29</th>\n",
       "      <td>0.227666</td>\n",
       "    </tr>\n",
       "    <tr>\n",
       "      <th>T_6.625_02_15_27</th>\n",
       "      <td>0.610606</td>\n",
       "    </tr>\n",
       "    <tr>\n",
       "      <th>T_7.25_08_15_22</th>\n",
       "      <td>0.184973</td>\n",
       "    </tr>\n",
       "  </tbody>\n",
       "</table>\n",
       "</div>"
      ],
      "text/plain": [
       "                       amt\n",
       "bond                      \n",
       "T_6.125_08_15_29  0.227666\n",
       "T_6.625_02_15_27  0.610606\n",
       "T_7.25_08_15_22   0.184973"
      ]
     },
     "execution_count": 50,
     "metadata": {},
     "output_type": "execute_result"
    }
   ],
   "source": [
    "'''\n",
    "Print Solution to Immunized portfolio\n",
    "'''\n",
    "bonds_fin = pd.DataFrame([[v.name[6:] for v in immunization.variables()], [v.varValue for v in immunization.variables()]], index=['bond','amt']).transpose().set_index('bond')\n",
    "bonds_fin[bonds_fin['amt']>0]\n",
    "\n"
   ]
  },
  {
   "cell_type": "markdown",
   "metadata": {},
   "source": [
    "## Portfolio Allocation"
   ]
  },
  {
   "cell_type": "code",
   "execution_count": 51,
   "metadata": {},
   "outputs": [
    {
     "data": {
      "text/markdown": [
       " \n",
       "\n",
       "<center> Immunized Portfolio Value of $117.00 MM  </center> <br>\n",
       "\n",
       "\n",
       "<center>\n",
       "\n",
       "|             bond |      amt |\n",
       "|-----------------:|---------:|\n",
       "| T_6.125_08_15_29 | 0.227666 |\n",
       "| T_6.625_02_15_27 | 0.610606 |\n",
       "|  T_7.25_08_15_22 | 0.184973 |\n",
       "\n"
      ],
      "text/plain": [
       "<IPython.core.display.Markdown object>"
      ]
     },
     "execution_count": 51,
     "metadata": {},
     "output_type": "execute_result"
    }
   ],
   "source": [
    "md(''' \n",
    "\n",
    "<center> Immunized Portfolio Value of ${:.2f} MM  </center> <br>\n",
    "\n",
    "\n",
    "<center>\n",
    "\n",
    "{}\n",
    "\n",
    "'''.format(value(immunization.objective), bonds_fin[bonds_fin['amt']>0].to_markdown(colalign = (\"right\",)))\n",
    ")"
   ]
  },
  {
   "cell_type": "markdown",
   "metadata": {},
   "source": [
    "## Immunization with Dedication Constraint\n",
    "\n",
    "Combine a cash matching strategy (dedication) for the liabilities for the first three years and an immunization strategy based on matching present value, duration and convexity for the liabilities during the last five years. Compare the characteristics of the three bond portfolios you have obtained. Explain which one you think is the best one and why."
   ]
  },
  {
   "cell_type": "markdown",
   "metadata": {},
   "source": [
    "## Mathematical Formulation"
   ]
  },
  {
   "cell_type": "markdown",
   "metadata": {},
   "source": [
    "## Code"
   ]
  },
  {
   "cell_type": "code",
   "execution_count": 52,
   "metadata": {},
   "outputs": [],
   "source": [
    "'''\n",
    "Immunization part\n",
    "Calculates npv, duration, and convexity terms for all bonds considered in the problem\n",
    "FROM period 7-16\n",
    "'''\n",
    "\n",
    "ded_period = 6\n",
    "imm_period = 5\n",
    "imm_start_period = len(data_prompt) - imm_period*2\n",
    "imm_end_period = len(data_prompt)"
   ]
  },
  {
   "cell_type": "code",
   "execution_count": 53,
   "metadata": {},
   "outputs": [
    {
     "data": {
      "text/plain": [
       "1"
      ]
     },
     "execution_count": 53,
     "metadata": {},
     "output_type": "execute_result"
    }
   ],
   "source": [
    "'''\n",
    "Solves combined portfolio\n",
    "'''\n",
    "bond_q = LpVariable.dicts('Bond',dec_var_names,lowBound=0)\n",
    "excess_cf = LpVariable.dicts('ExcessCf', periods[:ded_period+1], lowBound=0)\n",
    "\n",
    "\n",
    "combined = LpProblem('Combined', LpMinimize)\n",
    "\n",
    "combined += lpSum([cf_df['px_ask'][i] * bond_q[i] for i in dec_var_names]+ excess_cf[0]) \n",
    "\n",
    "for i in range(0,ded_period):\n",
    "    combined += lpSum([cf_df[i][j]*bond_q[j] for j in dec_var_names]) + excess_cf[i]- excess_cf[i+1] == liabilities[i]\n",
    "\n",
    "combined += lpSum([immunization_df['npv'][i] * bond_q[i] for i in dec_var_names]) == npv\n",
    "combined += lpSum([immunization_df['duration'][i] * bond_q[i] for i in dec_var_names]) == dur\n",
    "combined += lpSum([immunization_df['convexity'][i] * bond_q[i] for i in dec_var_names]) == con\n",
    "\n",
    "combined.solve()"
   ]
  },
  {
   "cell_type": "markdown",
   "metadata": {},
   "source": [
    "## Portfolio Allocation"
   ]
  },
  {
   "cell_type": "code",
   "execution_count": 54,
   "metadata": {},
   "outputs": [
    {
     "data": {
      "text/markdown": [
       " \n",
       "\n",
       "<center> Combined Portfolio Value of $117.28 MM  </center> <br>\n",
       "\n",
       "\n",
       "<center>\n",
       "\n",
       "|   Bonds/Excess Cashflows |   Quantity |\n",
       "|-------------------------:|-----------:|\n",
       "|          T 1.75 05/15/23 |  0.0657302 |\n",
       "|          T 2.25 10/31/24 |  0.0686657 |\n",
       "|           T 2.5 05/15/24 |  0.0480649 |\n",
       "|          T 2.75 05/15/25 |  0.0794382 |\n",
       "|           T 5.5 08/15/28 |  0.398787  |\n",
       "|         T 6.125 08/15/29 |  0.0674905 |\n",
       "|          T 6.25 08/15/23 |  0.0563053 |\n",
       "|         T 6.375 08/15/27 |  0.201915  |\n",
       "|          T 7.25 08/15/22 |  0.0827312 |\n",
       "\n"
      ],
      "text/plain": [
       "<IPython.core.display.Markdown object>"
      ]
     },
     "execution_count": 54,
     "metadata": {},
     "output_type": "execute_result"
    }
   ],
   "source": [
    "'''\n",
    "Print Solution to Combined portfolio\n",
    "'''\n",
    "bonds_comb = pd.DataFrame( \n",
    "            [v.varValue for v in combined.variables() if v.varValue > 0], \n",
    "            index=[str(v.name[:-8].replace('Bond', '').replace('_', ' ') + v.name[-8:].replace('_', '/'))\n",
    "            if v.name[0] == 'B' else str(r'$\\text{Excess}_' + v.name[-1] + '$')\n",
    "            for v in combined.variables() if v.varValue > 0], \n",
    "            columns=['Quantity'])\n",
    "\n",
    "bonds_comb.index.name = 'Bonds/Excess Cashflows'\n",
    "\n",
    "\n",
    "md(''' \n",
    "\n",
    "<center> Combined Portfolio Value of ${:.2f} MM  </center> <br>\n",
    "\n",
    "\n",
    "<center>\n",
    "\n",
    "{}\n",
    "\n",
    "'''.format(value(combined.objective), bonds_comb.to_markdown(colalign = (\"right\",)))\n",
    ")"
   ]
  },
  {
   "cell_type": "markdown",
   "metadata": {},
   "source": [
    "# Part 7: Dedication Portfolio with Short Selling\n",
    "\n",
    "The municipality would like to make a second bid (find a different portfolio of bonds). What is your best dedicated portfolio of risk-free bonds you can create *if short sales are allowed*? Did you find arbitrage opportunities? Did you take into consideration the bid-ask spread of the bonds? How would you take them in consideration and what is the result? Did you set limits in the transaction amounts? Discuss the practical feasibility of your solutions."
   ]
  },
  {
   "cell_type": "markdown",
   "metadata": {},
   "source": [
    "## Without Transaction Limits"
   ]
  },
  {
   "cell_type": "markdown",
   "metadata": {},
   "source": [
    "### Mathematical Formulation\n",
    "\n",
    "input here"
   ]
  },
  {
   "cell_type": "markdown",
   "metadata": {},
   "source": [
    "### Code"
   ]
  },
  {
   "cell_type": "code",
   "execution_count": 55,
   "metadata": {},
   "outputs": [
    {
     "data": {
      "text/plain": [
       "1"
      ]
     },
     "execution_count": 55,
     "metadata": {},
     "output_type": "execute_result"
    }
   ],
   "source": [
    "'''\n",
    "Solves short portfolio\n",
    "'''\n",
    "short_limit = 0.5\n",
    "long_q = LpVariable.dicts('Long',dec_var_names,lowBound=0)\n",
    "short_q = LpVariable.dicts('Short',dec_var_names,lowBound=0)\n",
    "excess_cfs = LpVariable.dicts('ExcessCf', periods, lowBound=0)\n",
    "\n",
    "short = LpProblem('Short', LpMinimize)\n",
    "\n",
    "#Objective \n",
    "short += lpSum([cf_df['px_ask'][i] * long_q[i] - cf_df['px_bid'][i] * short_q[i] for i in dec_var_names]+ excess_cfs[0]) \n",
    "\n",
    "#Bounds Objective to be NonNegative - Municipality can't profit from short trading - At best they get their dedication portfolio free\n",
    "short += lpSum([cf_df['px_ask'][i] * long_q[i] - cf_df['px_bid'][i] * short_q[i] for i in dec_var_names]+ excess_cfs[0]) >= 0\n",
    "\n",
    "#Liabilities Constraints\n",
    "for i in range(0,len(cf_matrix[0])):\n",
    "    short += lpSum([cf_df[i][j]*long_q[j] - cf_df[i][j]*short_q[j] for j in dec_var_names]) + excess_cfs[i] - excess_cfs[i+1] == liabilities[i]\n",
    "\n",
    "short.solve()"
   ]
  },
  {
   "cell_type": "markdown",
   "metadata": {},
   "source": [
    "### Portfolio Allocation"
   ]
  },
  {
   "cell_type": "code",
   "execution_count": 56,
   "metadata": {},
   "outputs": [
    {
     "data": {
      "text/markdown": [
       " \n",
       "\n",
       "<center> Portfolio Value of $-0.00 MM  </center> <br>\n",
       "\n",
       "<center>\n",
       "\n",
       "|                        |     Quantity |\n",
       "|-----------------------:|-------------:|\n",
       "|             ExcessCf/3 | -1.38988e-09 |\n",
       "|             ExcessCf/6 |  7.49844     |\n",
       "|   Long T 0.75 05/31/26 |  0.104984    |\n",
       "|    Long T 1.5 11/30/24 |  0.0685951   |\n",
       "|    Long T 2.0 05/31/24 |  0.0481139   |\n",
       "|  Long T 2.875 05/15/28 |  0.0607689   |\n",
       "|   Long T 5.25 02/15/29 |  0.0638876   |\n",
       "|    Long T 5.5 08/15/28 |  0.0816424   |\n",
       "|  Long T 6.125 08/15/29 |  0.0755646   |\n",
       "|   Long T 6.25 05/15/30 |  0.0678788   |\n",
       "|   Long T 6.25 08/15/23 |  0.0563529   |\n",
       "|  Long T 6.375 08/15/27 |  0.0395095   |\n",
       "|  Long T 6.625 02/15/27 |  0.0479221   |\n",
       "|   Long T 6.75 08/15/26 |  0.0753781   |\n",
       "|  Long T 7.125 02/15/23 | 61.1449      |\n",
       "|  Long T 7.625 02/15/25 |  0.154094    |\n",
       "|   Short T 0.0 06/16/22 |  2.04863     |\n",
       "| Short T 0.137 12/31/22 | 63.2136      |\n",
       "\n"
      ],
      "text/plain": [
       "<IPython.core.display.Markdown object>"
      ]
     },
     "execution_count": 56,
     "metadata": {},
     "output_type": "execute_result"
    }
   ],
   "source": [
    "'''\n",
    "Print Solution to Short portfolio\n",
    "'''\n",
    "bonds_short = pd.DataFrame(\n",
    "    [v.varValue for v in short.variables() if v.varValue != 0],\n",
    "    index=[str(v.name[:-8].replace('_', ' ')+v.name[-8:].replace('_', '/')) for v in short.variables() if v.varValue != 0],\n",
    "    columns=['Quantity']\n",
    "    )\n",
    "\n",
    "md(''' \n",
    "\n",
    "<center> Portfolio Value of ${:.2f} MM  </center> <br>\n",
    "\n",
    "<center>\n",
    "\n",
    "{}\n",
    "\n",
    "'''.format(value(short.objective), bonds_short[bonds_short['Quantity']!=0].to_markdown(colalign = (\"right\",)))\n",
    ")"
   ]
  },
  {
   "cell_type": "markdown",
   "metadata": {},
   "source": [
    "### Discussion\n",
    "\n",
    "Answer to questions here."
   ]
  },
  {
   "cell_type": "markdown",
   "metadata": {},
   "source": [
    "## With Transaction Limits"
   ]
  },
  {
   "cell_type": "markdown",
   "metadata": {},
   "source": [
    "### Mathematical Formulation"
   ]
  },
  {
   "cell_type": "markdown",
   "metadata": {},
   "source": [
    "### Code"
   ]
  },
  {
   "cell_type": "code",
   "execution_count": 57,
   "metadata": {},
   "outputs": [
    {
     "data": {
      "text/plain": [
       "1"
      ]
     },
     "execution_count": 57,
     "metadata": {},
     "output_type": "execute_result"
    }
   ],
   "source": [
    "'''\n",
    "Solves short portfolio with a Shorting Limit\n",
    "'''\n",
    "short_limit = 0.5\n",
    "long_q = LpVariable.dicts('Long',dec_var_names,lowBound=0)\n",
    "short_q = LpVariable.dicts('Short',dec_var_names,lowBound=0)\n",
    "excess_cfs = LpVariable.dicts('ExcessCf', periods, lowBound=0)\n",
    "\n",
    "short_l = LpProblem('Short', LpMinimize)\n",
    "\n",
    "#Objective \n",
    "short_l += lpSum([cf_df['px_ask'][i] * long_q[i] - cf_df['px_bid'][i] * short_q[i] for i in dec_var_names]+ excess_cfs[0]) \n",
    "\n",
    "#Bounds Objective to be Positive - Municipality can't profit from short trading - At best they get their dedication portfolio free\n",
    "short_l += lpSum([cf_df['px_ask'][i] * long_q[i] - cf_df['px_bid'][i] * short_q[i] for i in dec_var_names]+ excess_cfs[0]) >= 0\n",
    "\n",
    "#Adds a Short Limit as a % of the Total Amount invested in Long Bonds\n",
    "short_l += lpSum([cf_df['px_bid'][i] * short_q[i] for i in dec_var_names]) <= lpSum([cf_df['px_ask'][i] * long_q[i] for i in dec_var_names])*short_limit\n",
    "\n",
    "#Liabilities Constraints\n",
    "for i in range(0,len(cf_matrix[0])):\n",
    "    short_l += lpSum([cf_df[i][j]*long_q[j] - cf_df[i][j]*short_q[j] for j in dec_var_names]) + excess_cfs[i] - excess_cfs[i+1] == liabilities[i]\n",
    "\n",
    "short_l.solve()"
   ]
  },
  {
   "cell_type": "markdown",
   "metadata": {},
   "source": [
    "### Portfolio Allocation"
   ]
  },
  {
   "cell_type": "code",
   "execution_count": 58,
   "metadata": {},
   "outputs": [
    {
     "data": {
      "text/markdown": [
       " \n",
       "\n",
       "<center> Portfolio Value of $115.62 MM  </center> <br>\n",
       "\n",
       "<center>\n",
       "\n",
       "|                        |     Quantity |\n",
       "|-----------------------:|-------------:|\n",
       "|             ExcessCf/3 | -1.38988e-09 |\n",
       "|  Long T 0.625 05/15/30 |  0.0697819   |\n",
       "|   Long T 0.75 05/31/26 |  0.107674    |\n",
       "|   Long T 1.25 05/31/28 |  0.0637436   |\n",
       "|    Long T 1.5 11/30/24 |  0.0714316   |\n",
       "|    Long T 2.0 05/31/24 |  0.0509223   |\n",
       "|  Long T 2.875 04/30/29 |  0.0664559   |\n",
       "|    Long T 5.5 08/15/28 |  0.084142    |\n",
       "|  Long T 6.125 08/15/29 |  0.0774112   |\n",
       "|   Long T 6.25 08/15/23 |  1.21302     |\n",
       "|  Long T 6.375 08/15/27 |  0.0423924   |\n",
       "|  Long T 6.625 02/15/27 |  0.0507125   |\n",
       "|   Long T 6.75 08/15/26 |  0.0780774   |\n",
       "|  Long T 6.875 08/15/25 |  0.0750923   |\n",
       "|  Long T 7.125 02/15/23 |  0.0325975   |\n",
       "|   Long T 7.25 08/15/22 |  0.0507575   |\n",
       "|  Long T 7.625 02/15/25 |  0.0819673   |\n",
       "| Short T 0.125 06/30/23 |  1.18926     |\n",
       "\n"
      ],
      "text/plain": [
       "<IPython.core.display.Markdown object>"
      ]
     },
     "execution_count": 58,
     "metadata": {},
     "output_type": "execute_result"
    }
   ],
   "source": [
    "'''\n",
    "Print Solution to Short portfolio with Shorting Limit\n",
    "'''\n",
    "bonds_short_l = pd.DataFrame(\n",
    "    [v.varValue for v in short_l.variables() if v.varValue != 0],\n",
    "    index=[str(v.name[:-8].replace('_', ' ')+v.name[-8:].replace('_', '/')) for v in short_l.variables() if v.varValue != 0],\n",
    "    columns=['Quantity']\n",
    "    )\n",
    "\n",
    "md(''' \n",
    "\n",
    "<center> Portfolio Value of ${:.2f} MM  </center> <br>\n",
    "\n",
    "<center>\n",
    "\n",
    "{}\n",
    "\n",
    "'''.format(value(short_l.objective), bonds_short_l[bonds_short_l['Quantity']!=0].to_markdown(colalign = (\"right\",)))\n",
    ")"
   ]
  },
  {
   "cell_type": "markdown",
   "metadata": {},
   "source": [
    "### Discussion"
   ]
  },
  {
   "cell_type": "markdown",
   "metadata": {},
   "source": [
    "# Immunization, Short selling, and Dedication\n",
    "\n",
    "Consider proposing a new portfolio of bonds using any additional consideration or change to the model that you see fit. For example, can you do something to make your portfolio of bonds immune to nonparallel changes in the term structure. Is there a better way to combine the techniques you used before. Explain clearly what you do and your results."
   ]
  },
  {
   "cell_type": "markdown",
   "metadata": {},
   "source": [
    "## Mathematical Formulaation"
   ]
  },
  {
   "cell_type": "code",
   "execution_count": 59,
   "metadata": {},
   "outputs": [
    {
     "data": {
      "text/plain": [
       "1"
      ]
     },
     "execution_count": 59,
     "metadata": {},
     "output_type": "execute_result"
    }
   ],
   "source": [
    "'''\n",
    "Immunization With Shorting Available (Limited)\n",
    "'''\n",
    "\n",
    "long_q = LpVariable.dicts('Long',dec_var_names,lowBound=0)\n",
    "short_q = LpVariable.dicts('Short',dec_var_names,lowBound=0)\n",
    "\n",
    "\n",
    "imm_s = LpProblem('Immunized_Short', LpMinimize)\n",
    "\n",
    "imm_s += lpSum([cf_df['px_bid'][i] * short_q[i] for i in dec_var_names]) <= lpSum([cf_df['px_ask'][i] * long_q[i] for i in dec_var_names])*short_limit\n",
    "\n",
    "imm_s += lpSum([cf_df['px_ask'][i] * long_q[i] - cf_df['px_bid'][i] * short_q[i] for i in dec_var_names])\n",
    "imm_s += lpSum([immunization_df['npv'].loc[i] * long_q[i] - immunization_df['npv'].loc[i] * short_q[i] for i in dec_var_names]) == npv\n",
    "imm_s += lpSum([immunization_df['duration'].loc[i] * long_q[i] - immunization_df['duration'].loc[i] * short_q[i] for i in dec_var_names]) == dur\n",
    "imm_s += lpSum([immunization_df['convexity'].loc[i] * long_q[i] - immunization_df['convexity'].loc[i] * short_q[i] for i in dec_var_names]) == con\n",
    "\n",
    "imm_s.solve()"
   ]
  },
  {
   "cell_type": "markdown",
   "metadata": {},
   "source": [
    "## Portfolio Allocation"
   ]
  },
  {
   "cell_type": "code",
   "execution_count": 60,
   "metadata": {},
   "outputs": [
    {
     "data": {
      "text/markdown": [
       " \n",
       "\n",
       "<center> Portfolio Value of $113.44 MM  </center> <br>\n",
       "\n",
       "<center>\n",
       "\n",
       "|                       |   Quantity |\n",
       "|----------------------:|-----------:|\n",
       "|  Long T 2.75 06/30/25 |   0.378032 |\n",
       "| Long T 6.625 02/15/27 |   1.27248  |\n",
       "|  Long T 7.25 08/15/22 |   0.41118  |\n",
       "| Short T 0.75 11/15/24 |   1.19349  |\n",
       "\n"
      ],
      "text/plain": [
       "<IPython.core.display.Markdown object>"
      ]
     },
     "execution_count": 60,
     "metadata": {},
     "output_type": "execute_result"
    }
   ],
   "source": [
    "'''\n",
    "Print Solution to Short Immunized portfolio with Limits (Same Limit as Last Prob)\n",
    "'''\n",
    "imms_bonds = pd.DataFrame(\n",
    "    [v.varValue for v in imm_s.variables() if v.varValue != 0],\n",
    "    index=[str(v.name[:-8].replace('_', ' ')+v.name[-8:].replace('_', '/')) for v in imm_s.variables() if v.varValue != 0],\n",
    "    columns=['Quantity']\n",
    "    )\n",
    "\n",
    "md(''' \n",
    "\n",
    "<center> Portfolio Value of ${:.2f} MM  </center> <br>\n",
    "\n",
    "<center>\n",
    "\n",
    "{}\n",
    "\n",
    "'''.format(value(imm_s.objective), imms_bonds[imms_bonds['Quantity']!=0].to_markdown(colalign = (\"right\",)))\n",
    ")"
   ]
  },
  {
   "cell_type": "markdown",
   "metadata": {},
   "source": [
    "## Disscussion"
   ]
  }
 ],
 "metadata": {
  "interpreter": {
   "hash": "8377259de029fbe3469e5825885a3984679ef58677fe54558bfe80e0473ceee4"
  },
  "kernelspec": {
   "display_name": "Python 3.9.7 64-bit",
   "language": "python",
   "name": "python3"
  },
  "language_info": {
   "codemirror_mode": {
    "name": "ipython",
    "version": 3
   },
   "file_extension": ".py",
   "mimetype": "text/x-python",
   "name": "python",
   "nbconvert_exporter": "python",
   "pygments_lexer": "ipython3",
   "version": "3.9.7"
  },
  "orig_nbformat": 4
 },
 "nbformat": 4,
 "nbformat_minor": 2
}
