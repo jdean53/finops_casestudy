{
 "cells": [
  {
   "cell_type": "markdown",
   "metadata": {},
   "source": [
    "# Case Study\n",
    "\n",
    "Jack Dean, Charles Dotson, and Rodrigo Petricioli  \n",
    "ISE 447 - Financial Optimization  \n",
    "Lehigh Univerisity"
   ]
  },
  {
   "cell_type": "code",
   "execution_count": 424,
   "metadata": {},
   "outputs": [],
   "source": [
    "'''\n",
    "Package Imports\n",
    "'''\n",
    "import pandas as pd\n",
    "import numpy as np\n",
    "import pulp\n",
    "from pulp import *\n",
    "import datetime\n",
    "import matplotlib.pyplot as plt\n",
    "\n",
    "import FinOpsCodeDeck as finops\n",
    "\n",
    "from IPython.display import Markdown as md\n",
    "# %matplotlib widget"
   ]
  },
  {
   "cell_type": "markdown",
   "metadata": {},
   "source": [
    "## Provided Data\n",
    "\n",
    "A municipality sends the following liability stream (in millions of dollars)\n",
    "\n",
    "| Date Due | Amount |  \n",
    "| -- | -- |\n",
    "| 12/15/2022 | 11 |  \n",
    "|  6/15/2023 |  9 |  \n",
    "| 12/15/2023 |  8 |  \n",
    "|  6/15/2024 |  7 |  \n",
    "| 12/15/2024 |  9 |  \n",
    "|  6/15/2025 | 10 |  \n",
    "| 12/15/2025 |  9 |  \n",
    "|  6/15/2026 | 12 |  \n",
    "| 12/15/2026 |  9 |  \n",
    "|  6/15/2027 |  6 |  \n",
    "| 12/15/2027 |  5 |  \n",
    "|  6/15/2028 |  7 |  \n",
    "| 12/15/2028 |  9 |  \n",
    "|  6/15/2029 |  7 |  \n",
    "| 12/15/2029 |  8 |  \n",
    "|  6/15/2030 |  7 |  "
   ]
  },
  {
   "cell_type": "markdown",
   "metadata": {},
   "source": [
    "## Problem 1\n",
    "\n",
    "Determine the current term structure of treasury rates (see textbook Section 3.4 or other resources that you can find), and find the present value, duration, and convexity of the stream of liabilities. Please explain the main steps followed in your calculations.  Use real world data."
   ]
  },
  {
   "cell_type": "code",
   "execution_count": 425,
   "metadata": {},
   "outputs": [],
   "source": [
    "'''\n",
    "Data Import for Current Term Structure\n",
    "---\n",
    "Imports all active treasury bonds data, time indexes them by year\n",
    "'''\n",
    "data_prompt = pd.read_excel('Table.xlsx', sheet_name='PromptUse', index_col = 'DateDue')\n",
    "data_prompt = data_prompt/1000\n",
    "term_structure_df = pd.read_excel('Table.xlsx', sheet_name='Bills Bonds and Notes')\n",
    "term_structure_df['px_last'] = [i if i>=5 else 100 - i for i in term_structure_df['ASKED'].to_list()]\n",
    "term_structure_df['ttm'] = [(i - datetime.datetime.now())/datetime.timedelta(days=365) for i in term_structure_df['MATURITY']]"
   ]
  },
  {
   "cell_type": "code",
   "execution_count": 426,
   "metadata": {},
   "outputs": [],
   "source": [
    "'''\n",
    "Bootstrap yield curve\n",
    "---\n",
    "begins with zero-coupon bonds to payout (ttm < 0.5 yrs) & calculates yield\n",
    "moves to coupon bonds and uses calculated yields to bootstrap further\n",
    "sorts all bonds into data frame indexed by ttm (by 100th of a year)\n",
    "NOTE: Averages yields for the same time period\n",
    "NOTE: assumes yield of period prior if yield for desired period does not exist\n",
    "'''\n",
    "\n",
    "'''short term rates'''\n",
    "mats = []\n",
    "round_to = 2\n",
    "for bond_tenor in term_structure_df[term_structure_df['ttm'] <= 0.5].index:\n",
    "    bond = term_structure_df.loc[bond_tenor]\n",
    "    cpn = bond['COUPON']/2\n",
    "    ttm = bond['ttm']\n",
    "    px = bond['px_last']\n",
    "    mats.append([np.round(ttm,round_to),np.log((100 + cpn) / bond['px_last']) / bond['ttm']])\n",
    "rates = pd.DataFrame(mats, columns=['ttm','rate']).set_index('ttm').groupby('ttm').mean()\n",
    "\n",
    "'''longer term rates'''\n",
    "for bond_tenor in term_structure_df[term_structure_df['ttm']>=0.5].index:\n",
    "    bond = term_structure_df.loc[bond_tenor]\n",
    "    px = bond['px_last']\n",
    "    ttm = bond['ttm']\n",
    "    cpn = bond['COUPON']/2\n",
    "    pmts = int(np.ceil(ttm * 2))\n",
    "    cfs = [cpn if i+1<pmts else 100 + cpn for i in range(pmts)]\n",
    "    cfs_idx = [np.round(ttm-i*0.5, round_to) for i in reversed(range(pmts))]\n",
    "    known_rates = [rates[:cfs_idx[i]].iloc[-1,0] for i in range(pmts-1)]\n",
    "    val = px - sum([cpn * np.exp((-1) * known_rates[i] * cfs_idx[i]) for i in range(pmts-1)])\n",
    "    yld = (-1) * (np.log(val / (100+cpn)) / cfs_idx[pmts-1])\n",
    "    add_df = pd.DataFrame([np.round(ttm, round_to), yld], index=['ttm','rate']).transpose().set_index('ttm')\n",
    "    rates = pd.concat([rates,add_df],ignore_index=False)\n",
    "    rates = rates.groupby('ttm').mean()"
   ]
  },
  {
   "cell_type": "code",
   "execution_count": 427,
   "metadata": {},
   "outputs": [
    {
     "data": {
      "text/plain": [
       "Text(0, 0.5, 'Yield in Percentage Points')"
      ]
     },
     "execution_count": 427,
     "metadata": {},
     "output_type": "execute_result"
    },
    {
     "data": {
      "image/png": "[encoded data removed]",
      "text/plain": [
       "<Figure size 432x288 with 1 Axes>"
      ]
     },
     "metadata": {
      "needs_background": "light"
     },
     "output_type": "display_data"
    }
   ],
   "source": [
    "'''\n",
    "plot yield curve\n",
    "---\n",
    "plots yield curve in percentage points\n",
    "'''\n",
    "plt.plot(rates[0.5:] * 100)\n",
    "plt.title('Bootstrapped Yield Curve (rates per annum)')\n",
    "plt.xlabel('Tenor')\n",
    "plt.ylabel('Yield in Percentage Points')"
   ]
  },
  {
   "cell_type": "code",
   "execution_count": 428,
   "metadata": {},
   "outputs": [
    {
     "name": "stdout",
     "output_type": "stream",
     "text": [
      "The Net Present Value of the Liabilities is $116.94 million dollars\n",
      "The Macauley Duration of the Liability stream is 3.95 years\n",
      "The Convexity of the Liability stream is 23.24\n"
     ]
    }
   ],
   "source": [
    "data_prompt = pd.read_excel('Table.xlsx', sheet_name='PromptUse', index_col = 'DateDue')\n",
    "data_prompt['ttm'] = np.round((data_prompt.index - datetime.datetime.now()) / datetime.timedelta(days=365), round_to)\n",
    "\n",
    "r = []\n",
    "for ttm in data_prompt['ttm']:\n",
    "    r.append(rates[:ttm].iloc[-1,0])\n",
    "data_prompt['rates'] = r\n",
    "\n",
    "npv = sum([data_prompt.iloc[i,0]*np.exp((-1) * data_prompt.iloc[i,1] * data_prompt.iloc[i,2]) for i in range(len(data_prompt))])\n",
    "dur = sum([data_prompt.iloc[i,1]*data_prompt.iloc[i,0]*np.exp((-1) * data_prompt.iloc[i,1] * data_prompt.iloc[i,2]) for i in range(len(data_prompt))])\n",
    "con = sum([data_prompt.iloc[i,1]*(data_prompt.iloc[i,1]+1)*data_prompt.iloc[i,0]*np.exp((-1) * (data_prompt.iloc[i,1] + 2 ) * data_prompt.iloc[i,2]) for i in range(len(data_prompt))])\n",
    "\n",
    "print('The Net Present Value of the Liabilities is ${:.2f} million dollars'.format(npv/1000))\n",
    "print('The Macauley Duration of the Liability stream is {:.2f} years'.format(dur/npv))\n",
    "print('The Convexity of the Liability stream is {:.2f}'.format(con/npv))"
   ]
  },
  {
   "cell_type": "code",
   "execution_count": 429,
   "metadata": {},
   "outputs": [
    {
     "data": {
      "text/markdown": [
       "\n",
       "<center>\n",
       "\n",
       "### Solutions\n",
       "\n",
       "The Net Present Value of the Liabilities is $\\$116.94$ MM\n",
       "\n",
       "The Macauley Duration of the Liability stream is $3.95$ years\n",
       "\n",
       "The Convexity of the Liability stream is $23.24$\n",
       "\n",
       "\n"
      ],
      "text/plain": [
       "<IPython.core.display.Markdown object>"
      ]
     },
     "execution_count": 429,
     "metadata": {},
     "output_type": "execute_result"
    }
   ],
   "source": [
    "# Using markdown outputs instead of just printing\n",
    "\n",
    "md('''\n",
    "<center>\n",
    "\n",
    "### Solutions\n",
    "\n",
    "The Net Present Value of the Liabilities is $\\${:.2f}$ MM\n",
    "\n",
    "The Macauley Duration of the Liability stream is ${:.2f}$ years\n",
    "\n",
    "The Convexity of the Liability stream is ${:.2f}$\n",
    "\n",
    "\n",
    "'''.format(npv/1000,dur/npv,con/npv))\n"
   ]
  },
  {
   "cell_type": "markdown",
   "metadata": {},
   "source": [
    "## Problem 2\n",
    "\n",
    "Identify *at least* 30 fixed-income assets that are suitable to construct a dedicated bond portfolio for the municipality liabilities that you have been given. Use assets that are considered risk-free; for example, US government non-callable treasury bonds, treasury bills, or treasury notes. Display in an appropriate table the main characteristics of the bonds you choose. Namely, prices, coupon rates, maturity dates, face value)."
   ]
  },
  {
   "cell_type": "code",
   "execution_count": 430,
   "metadata": {},
   "outputs": [],
   "source": [
    "'''\n",
    "code block\n",
    "'''\n",
    "ref_data = ['T ' + str(term_structure_df.iloc[bond,1]) + ' ' + term_structure_df.iloc[bond,0].strftime('%m/%d/%y') for bond in term_structure_df.index]\n",
    "term_structure_df['ref_data'] = ref_data\n",
    "\n",
    "bonds_clean = term_structure_df[['ref_data', 'px_last', 'ASKED YIELD']]\n",
    "bonds_clean.columns = ['Bond', 'Price', 'Yield']\n",
    "# bonds_clean = bonds_clean.assign(ttm = term_structure_df.ttm.round(2))\n",
    "bonds_clean = bonds_clean.set_index('Bond')"
   ]
  },
  {
   "cell_type": "code",
   "execution_count": 431,
   "metadata": {},
   "outputs": [
    {
     "data": {
      "text/markdown": [
       "\n",
       "<center>\n",
       "\n",
       "|       Bond       |   Price |   Yield |\n",
       "|:----------------:|--------:|--------:|\n",
       "|  T 0.0 05/05/22  |  99.942 |  0.058  |\n",
       "|  T 0.0 05/10/22  |  99.925 |  0.076  |\n",
       "|  T 0.0 05/12/22  |  99.857 |  0.145  |\n",
       "| T 1.75 05/15/22  | 100.024 | -0.6005 |\n",
       "| T 2.125 05/15/22 | 100.03  | -0.6944 |\n",
       "|  T 0.0 05/17/22  |  99.815 |  0.188  |\n",
       "|  T 0.0 05/19/22  |  99.762 |  0.241  |\n",
       "|  T 0.0 05/24/22  |  99.68  |  0.325  |\n",
       "|  T 0.0 05/26/22  |  99.675 |  0.33   |\n",
       "|  T 0.0 05/31/22  |  99.63  |  0.375  |\n",
       "| T 0.125 05/31/22 | 100     |  0.125  |\n",
       "| T 1.75 05/31/22  | 100.04  |  0.124  |\n",
       "| T 1.875 05/31/22 | 100.034 |  0.45   |\n",
       "|  T 0.0 06/02/22  |  99.665 |  0.34   |\n",
       "|  T 0.0 06/07/22  |  99.597 |  0.408  |\n",
       "|  T 0.0 06/09/22  |  99.595 |  0.411  |\n",
       "|  T 0.0 06/14/22  |  99.577 |  0.429  |\n",
       "| T 1.75 06/15/22  | 100.046 |  0.49   |\n",
       "|  T 0.0 06/16/22  |  99.582 |  0.424  |\n",
       "|  T 0.0 06/21/22  |  99.48  |  0.528  |\n",
       "|  T 0.0 06/23/22  |  99.5   |  0.507  |\n",
       "|  T 0.0 06/28/22  |  99.337 |  0.672  |\n",
       "|  T 0.0 06/30/22  |  99.35  |  0.66   |\n",
       "| T 0.125 06/30/22 |  99.292 |  0.662  |\n",
       "| T 1.75 06/30/22  | 100.056 |  0.624  |\n",
       "| T 2.125 06/30/22 | 100.076 |  0.608  |\n",
       "|  T 0.0 07/07/22  |  99.29  |  0.721  |\n",
       "|  T 0.0 07/14/22  |  99.262 |  0.749  |\n",
       "| T 1.75 07/15/22  | 100.062 |  0.777  |\n",
       "|  T 0.0 07/21/22  |  99.232 |  0.78   |\n",
       "|  T 0.0 07/28/22  |  99.212 |  0.8    |\n",
       "| T 0.125 07/31/22 |  99.264 |  0.826  |\n",
       "| T 1.875 07/31/22 | 100.082 |  0.821  |\n",
       "|  T 2.0 07/31/22  | 100.092 |  0.819  |\n",
       "|  T 0.0 08/04/22  |  99.112 |  0.902  |\n",
       "|  T 0.0 08/11/22  |  99.055 |  0.961  |\n",
       "|  T 1.5 08/15/22  | 100.05  |  0.953  |\n",
       "| T 1.625 08/15/22 | 100.062 |  0.941  |\n",
       "| T 7.25 08/15/22  | 101.244 |  1.07   |\n",
       "|  T 0.0 08/18/22  |  99.047 |  0.969  |\n",
       "|  T 0.0 08/25/22  |  98.972 |  1.045  |\n",
       "| T 0.125 08/31/22 |  99.222 |  1.063  |\n",
       "| T 1.625 08/31/22 | 100.054 |  1.094  |\n",
       "| T 1.875 08/31/22 | 100.082 |  1.079  |\n",
       "|  T 0.0 09/01/22  |  98.927 |  1.091  |\n",
       "|  T 0.0 09/08/22  |  98.93  |  1.089  |\n",
       "|  T 0.0 09/15/22  |  98.912 |  1.107  |\n",
       "|  T 1.5 09/15/22  | 100.042 |  1.135  |\n",
       "|  T 0.0 09/22/22  |  98.927 |  1.092  |\n",
       "|  T 0.0 09/29/22  |  98.89  |  1.131  |\n",
       "| T 0.125 09/30/22 |  99.176 |  1.218  |\n",
       "| T 1.75 09/30/22  | 100.064 |  1.251  |\n",
       "| T 1.875 09/30/22 | 100.082 |  1.241  |\n",
       "|  T 0.0 10/06/22  |  98.85  |  1.172  |\n",
       "|  T 0.0 10/13/22  |  98.742 |  1.282  |\n",
       "| T 1.375 10/15/22 | 100.004 |  1.34   |\n",
       "|  T 0.0 10/20/22  |  98.72  |  1.306  |\n",
       "|  T 0.0 10/27/22  |  98.625 |  1.404  |\n",
       "| T 0.125 10/31/22 |  99.12  |  1.405  |\n",
       "| T 1.875 10/31/22 | 100.072 |  1.411  |\n",
       "|  T 2.0 10/31/22  | 100.094 |  1.392  |\n",
       "|  T 0.0 11/03/22  |  98.637 |  1.391  |\n",
       "| T 1.625 11/15/22 | 100.022 |  1.492  |\n",
       "| T 7.625 11/15/22 | 103.06  |  1.595  |\n",
       "| T 0.125 11/30/22 |  99.06  |  1.545  |\n",
       "|  T 2.0 11/30/22  | 100.082 |  1.549  |\n",
       "|  T 0.0 12/01/22  |  98.607 |  1.424  |\n",
       "| T 1.625 12/15/22 | 100.004 |  1.599  |\n",
       "|  T 0.0 12/29/22  |  98.54  |  1.495  |\n",
       "| T 0.137 12/31/22 |  98.306 |  1.714  |\n",
       "| T 2.125 12/31/22 | 100.09  |  1.693  |\n",
       "|  T 1.5 01/15/23  |  99.266 |  1.735  |\n",
       "|  T 0.0 01/26/23  |  98.447 |  1.593  |\n",
       "| T 0.125 01/31/23 |  98.244 |  1.798  |\n",
       "| T 1.75 01/31/23  |  99.31  |  1.791  |\n",
       "| T 2.375 01/31/23 | 100.132 |  1.812  |\n",
       "| T 1.375 02/15/23 |  99.204 |  1.836  |\n",
       "|  T 2.0 02/15/23  | 100.036 |  1.848  |\n",
       "| T 7.125 02/15/23 | 104.036 |  1.829  |\n",
       "|  T 0.0 02/23/23  |  98.3   |  1.748  |\n",
       "| T 0.125 02/28/23 |  98.166 |  1.935  |\n",
       "|  T 1.5 02/28/23  |  99.21  |  1.92   |\n",
       "| T 2.625 02/28/23 | 100.176 |  1.943  |\n",
       "|  T 0.5 03/15/23  |  98.242 |  1.952  |\n",
       "|  T 0.0 03/23/23  |  98.235 |  1.823  |\n",
       "| T 0.125 03/31/23 |  98.094 |  2.024  |\n",
       "|  T 1.5 03/31/23  |  99.174 |  2.005  |\n",
       "|  T 2.5 03/31/23  | 100.126 |  2.055  |\n",
       "| T 0.25 04/15/23  |  98.084 |  2.102  |\n",
       "|  T 0.0 04/20/23  |  98.017 |  2.05   |\n",
       "| T 0.125 04/30/23 |  98.006 |  2.15   |\n",
       "| T 1.625 04/30/23 |  99.154 |  2.153  |\n",
       "| T 2.75 04/30/23  | 100.186 |  2.15   |\n",
       "| T 0.125 05/15/23 |  97.292 |  2.178  |\n",
       "| T 1.75 05/15/23  |  99.182 |  2.173  |\n",
       "| T 0.125 05/31/23 |  97.256 |  2.199  |\n",
       "| T 1.625 05/31/23 |  99.116 |  2.222  |\n",
       "| T 2.75 05/31/23  | 100.18  |  2.218  |\n",
       "| T 0.25 06/15/23  |  97.262 |  2.235  |\n",
       "| T 0.125 06/30/23 |  97.174 |  2.279  |\n",
       "| T 1.375 06/30/23 |  98.31  |  2.28   |\n",
       "| T 2.625 06/30/23 | 100.124 |  2.281  |\n",
       "| T 0.125 07/15/23 |  97.122 |  2.347  |\n",
       "| T 0.125 07/31/23 |  97.074 |  2.391  |\n",
       "| T 1.25 07/31/23  |  98.204 |  2.363  |\n",
       "| T 2.75 07/31/23  | 100.14  |  2.39   |\n",
       "| T 0.125 08/15/23 |  97.04  |  2.407  |\n",
       "|  T 2.5 08/15/23  | 100.046 |  2.381  |\n",
       "| T 6.25 08/15/23  | 104.292 |  2.349  |\n",
       "| T 0.125 08/31/23 |  96.306 |  2.469  |\n",
       "| T 1.375 08/31/23 |  98.2   |  2.434  |\n",
       "| T 2.75 08/31/23  | 100.126 |  2.441  |\n",
       "| T 0.125 09/15/23 |  96.284 |  2.452  |\n",
       "| T 0.25 09/30/23  |  96.302 |  2.468  |\n",
       "| T 1.375 09/30/23 |  98.164 |  2.452  |\n",
       "| T 2.875 09/30/23 | 100.17  |  2.488  |\n",
       "| T 0.125 10/15/23 |  96.202 |  2.503  |\n",
       "| T 0.375 10/31/23 |  96.272 |  2.539  |\n",
       "| T 1.625 10/31/23 |  98.226 |  2.511  |\n",
       "| T 2.875 10/31/23 | 100.154 |  2.542  |\n",
       "| T 0.25 11/15/23  |  96.174 |  2.561  |\n",
       "| T 2.75 11/15/23  | 100.096 |  2.546  |\n",
       "|  T 0.5 11/30/23  |  96.25  |  2.596  |\n",
       "| T 2.125 11/30/23 |  99.106 |  2.557  |\n",
       "| T 2.875 11/30/23 | 100.144 |  2.579  |\n",
       "| T 0.125 12/15/23 |  96.034 |  2.596  |\n",
       "| T 0.75 12/31/23  |  96.302 |  2.642  |\n",
       "| T 2.25 12/31/23  |  99.134 |  2.607  |\n",
       "| T 2.625 12/31/23 | 100.014 |  2.595  |\n",
       "| T 0.125 01/15/24 |  95.272 |  2.634  |\n",
       "| T 0.875 01/31/24 |  96.31  |  2.663  |\n",
       "|  T 2.5 01/31/24  |  99.234 |  2.656  |\n",
       "| T 0.125 02/15/24 |  95.194 |  2.657  |\n",
       "| T 2.75 02/15/24  | 100.05  |  2.659  |\n",
       "|  T 1.5 02/29/24  |  97.294 |  2.673  |\n",
       "| T 2.125 02/29/24 |  99.012 |  2.667  |\n",
       "| T 2.375 02/29/24 |  99.152 |  2.67   |\n",
       "| T 0.25 03/15/24  |  95.184 |  2.695  |\n",
       "| T 2.125 03/31/24 |  98.294 |  2.708  |\n",
       "| T 2.25 03/31/24  |  99.046 |  2.71   |\n",
       "| T 0.375 04/15/24 |  95.184 |  2.718  |\n",
       "|  T 2.0 04/30/24  |  98.194 |  2.722  |\n",
       "| T 2.25 04/30/24  |  99.032 |  2.716  |\n",
       "|  T 2.5 04/30/24  |  99.184 |  2.719  |\n",
       "| T 0.25 05/15/24  |  95.032 |  2.744  |\n",
       "|  T 2.5 05/15/24  |  99.154 |  2.762  |\n",
       "|  T 2.0 05/31/24  |  98.16  |  2.748  |\n",
       "| T 0.25 06/15/24  |  94.264 |  2.781  |\n",
       "| T 1.75 06/30/24  |  97.276 |  2.773  |\n",
       "|  T 2.0 06/30/24  |  98.11  |  2.795  |\n",
       "| T 0.375 07/15/24 |  94.266 |  2.81   |\n",
       "| T 1.75 07/31/24  |  97.226 |  2.808  |\n",
       "| T 2.125 07/31/24 |  98.162 |  2.814  |\n",
       "| T 0.375 08/15/24 |  94.182 |  2.844  |\n",
       "| T 2.375 08/15/24 |  98.296 |  2.861  |\n",
       "| T 1.25 08/31/24  |  96.136 |  2.847  |\n",
       "| T 1.875 08/31/24 |  97.256 |  2.857  |\n",
       "| T 0.375 09/15/24 |  94.102 |  2.874  |\n",
       "|  T 1.5 09/30/24  |  96.272 |  2.861  |\n",
       "| T 2.125 09/30/24 |  98.094 |  2.861  |\n",
       "| T 0.625 10/15/24 |  94.226 |  2.866  |\n",
       "|  T 1.5 10/31/24  |  96.216 |  2.891  |\n",
       "| T 2.25 10/31/24  |  98.146 |  2.895  |\n",
       "| T 0.75 11/15/24  |  94.244 |  2.907  |\n",
       "| T 2.25 11/15/24  |  98.132 |  2.904  |\n",
       "|  T 7.5 11/15/24  | 111.11  |  2.827  |\n",
       "|  T 1.5 11/30/24  |  96.176 |  2.897  |\n",
       "| T 2.125 11/30/24 |  98.026 |  2.901  |\n",
       "|  T 1.0 12/15/24  |  95.08  |  2.894  |\n",
       "| T 1.75 12/31/24  |  97.012 |  2.914  |\n",
       "| T 2.25 12/31/24  |  98.102 |  2.91   |\n",
       "| T 1.125 01/15/25 |  95.116 |  2.92   |\n",
       "| T 1.375 01/31/25 |  95.304 |  2.919  |\n",
       "|  T 2.5 01/31/25  |  98.294 |  2.911  |\n",
       "|  T 1.5 02/15/25  |  96.052 |  2.941  |\n",
       "|  T 2.0 02/15/25  |  97.174 |  2.922  |\n",
       "| T 7.625 02/15/25 | 112.216 |  2.857  |\n",
       "| T 1.125 02/28/25 |  95.052 |  2.92   |\n",
       "| T 2.75 02/28/25  |  99.17  |  2.923  |\n",
       "| T 1.75 03/15/25  |  96.246 |  2.931  |\n",
       "|  T 0.5 03/31/25  |  93.086 |  2.928  |\n",
       "| T 2.625 03/31/25 |  99.044 |  2.935  |\n",
       "| T 2.625 04/15/25 |  99.054 |  2.92   |\n",
       "| T 0.375 04/30/25 |  92.224 |  2.941  |\n",
       "| T 2.875 04/30/25 |  99.262 |  2.938  |\n",
       "| T 2.125 05/15/25 |  97.2   |  2.949  |\n",
       "| T 0.25 05/31/25  |  92.032 |  2.954  |\n",
       "| T 2.875 05/31/25 |  99.252 |  2.947  |\n",
       "| T 0.25 06/30/25  |  91.276 |  2.965  |\n",
       "| T 2.75 06/30/25  |  99.124 |  2.953  |\n",
       "| T 0.25 07/31/25  |  91.2   |  2.976  |\n",
       "| T 2.875 07/31/25 |  99.234 |  2.961  |\n",
       "|  T 2.0 08/15/25  |  96.306 |  2.977  |\n",
       "| T 6.875 08/15/25 | 112.102 |  2.916  |\n",
       "| T 0.25 08/31/25  |  91.132 |  2.981  |\n",
       "| T 2.75 08/31/25  |  99.094 |  2.973  |\n",
       "| T 0.25 09/30/25  |  91.062 |  2.985  |\n",
       "|  T 3.0 09/30/25  | 100.03  |  2.97   |\n",
       "| T 0.25 10/31/25  |  91.002 |  2.981  |\n",
       "|  T 3.0 10/31/25  | 100.026 |  2.974  |\n",
       "| T 2.25 11/15/25  |  97.174 |  2.987  |\n",
       "| T 0.375 11/30/25 |  91.054 |  2.996  |\n",
       "| T 2.875 11/30/25 |  99.196 |  2.988  |\n",
       "| T 0.375 12/31/25 |  90.316 |  2.991  |\n",
       "| T 2.625 12/31/25 |  98.244 |  2.983  |\n",
       "| T 0.375 01/31/26 |  90.24  |  3.004  |\n",
       "| T 2.625 01/31/26 |  98.224 |  2.993  |\n",
       "| T 1.625 02/15/26 |  95.026 |  3.007  |\n",
       "|  T 6.0 02/15/26  | 110.244 |  2.972  |\n",
       "|  T 0.5 02/28/26  |  91.002 |  3.005  |\n",
       "|  T 2.5 02/28/26  |  98.066 |  2.998  |\n",
       "| T 0.75 03/31/26  |  91.232 |  3.009  |\n",
       "| T 2.25 03/31/26  |  97.076 |  3.003  |\n",
       "| T 0.75 04/30/26  |  91.182 |  3.007  |\n",
       "| T 2.375 04/30/26 |  97.214 |  2.998  |\n",
       "| T 1.625 05/15/26 |  94.246 |  3.011  |\n",
       "| T 0.75 05/31/26  |  91.116 |  3.016  |\n",
       "| T 2.125 05/31/26 |  96.202 |  3.009  |\n",
       "| T 0.875 06/30/26 |  91.214 |  3.02   |\n",
       "| T 1.875 06/30/26 |  95.204 |  2.997  |\n",
       "| T 0.625 07/31/26 |  90.162 |  3.024  |\n",
       "| T 1.875 07/31/26 |  95.18  |  2.995  |\n",
       "|  T 1.5 08/15/26  |  93.29  |  3.026  |\n",
       "| T 6.75 08/15/26  | 114.296 |  3.011  |\n",
       "| T 0.75 08/31/26  |  90.272 |  3.022  |\n",
       "| T 1.375 08/31/26 |  93.12  |  3.02   |\n",
       "| T 0.875 09/30/26 |  91.06  |  3.025  |\n",
       "| T 1.625 09/30/26 |  94.082 |  3.026  |\n",
       "| T 1.125 10/31/26 |  92.022 |  3.026  |\n",
       "| T 1.625 10/31/26 |  94.05  |  3.026  |\n",
       "|  T 2.0 11/15/26  |  95.196 |  3.042  |\n",
       "|  T 6.5 11/15/26  | 114.194 |  3.026  |\n",
       "| T 1.25 11/30/26  |  92.164 |  3.013  |\n",
       "| T 1.625 11/30/26 |  94.024 |  3.02   |\n",
       "| T 1.25 12/31/26  |  92.112 |  3.022  |\n",
       "| T 1.75 12/31/26  |  94.166 |  3.018  |\n",
       "|  T 1.5 01/31/27  |  93.096 |  3.025  |\n",
       "| T 2.25 02/15/27  |  96.172 |  3.032  |\n",
       "| T 6.625 02/15/27 | 115.28  |  3.036  |\n",
       "| T 1.125 02/28/27 |  91.174 |  3.02   |\n",
       "| T 1.875 02/28/27 |  94.302 |  3.008  |\n",
       "| T 0.625 03/31/27 |  89.044 |  3.021  |\n",
       "|  T 2.5 03/31/27  |  97.212 |  3.015  |\n",
       "|  T 0.5 04/30/27  |  88.124 |  3.023  |\n",
       "| T 2.75 04/30/27  |  98.26  |  3.008  |\n",
       "| T 2.375 05/15/27 |  97     |  3.022  |\n",
       "|  T 0.5 05/31/27  |  88.036 |  3.044  |\n",
       "|  T 0.5 06/30/27  |  87.304 |  3.04   |\n",
       "| T 0.375 07/31/27 |  87.084 |  3.018  |\n",
       "| T 2.25 08/15/27  |  96.042 |  3.047  |\n",
       "| T 6.375 08/15/27 | 116.06  |  3.037  |\n",
       "|  T 0.5 08/31/27  |  87.176 |  3.049  |\n",
       "|  T 0.5 10/31/27  |  87.062 |  3.05   |\n",
       "| T 2.25 11/15/27  |  95.312 |  3.046  |\n",
       "| T 6.125 11/15/27 | 115.18  |  3.047  |\n",
       "| T 0.625 11/30/27 |  87.2   |  3.055  |\n",
       "| T 0.625 12/31/27 |  87.142 |  3.057  |\n",
       "| T 0.75 01/31/28  |  87.29  |  3.061  |\n",
       "| T 2.75 02/15/28  |  98.126 |  3.054  |\n",
       "| T 1.125 02/29/28 |  89.256 |  3.048  |\n",
       "| T 1.25 03/31/28  |  90.086 |  3.062  |\n",
       "| T 1.25 04/30/28  |  90.046 |  3.062  |\n",
       "| T 2.875 05/15/28 |  98.304 |  3.066  |\n",
       "| T 1.25 05/31/28  |  90     |  3.066  |\n",
       "| T 1.25 06/30/28  |  89.272 |  3.071  |\n",
       "|  T 1.0 07/31/28  |  88.096 |  3.072  |\n",
       "| T 2.875 08/15/28 |  98.286 |  3.069  |\n",
       "|  T 5.5 08/15/28  | 113.294 |  3.049  |\n",
       "| T 1.125 08/31/28 |  88.284 |  3.07   |\n",
       "| T 1.25 09/30/28  |  89.142 |  3.077  |\n",
       "| T 1.375 10/31/28 |  90.022 |  3.074  |\n",
       "| T 3.125 11/15/28 | 100.12  |  3.061  |\n",
       "| T 5.25 11/15/28  | 112.316 |  3.042  |\n",
       "|  T 1.5 11/30/28  |  90.226 |  3.07   |\n",
       "| T 1.375 12/31/28 |  89.296 |  3.058  |\n",
       "| T 1.75 01/31/29  |  92.024 |  3.058  |\n",
       "| T 2.625 02/15/29 |  97.13  |  3.051  |\n",
       "| T 5.25 02/15/29  | 113.144 |  3.041  |\n",
       "| T 1.875 02/28/29 |  92.264 |  3.046  |\n",
       "| T 2.375 03/31/29 |  95.256 |  3.053  |\n",
       "| T 2.375 05/15/29 |  95.252 |  3.045  |\n",
       "| T 1.625 08/15/29 |  90.294 |  3.022  |\n",
       "| T 6.125 08/15/29 | 120.1   |  3      |\n",
       "| T 1.75 11/15/29  |  91.182 |  3.009  |\n",
       "|  T 1.5 02/15/30  |  89.186 |  3.01   |\n",
       "| T 0.625 05/15/30 |  83.024 |  3.012  |\n",
       "| T 6.25 05/15/30  | 123.066 |  2.98   |\n",
       "| T 0.625 08/15/30 |  82.204 |  3.007  |\n",
       "| T 0.875 11/15/30 |  84.036 |  2.998  |\n",
       "| T 1.125 02/15/31 |  85.21  |  2.993  |\n",
       "| T 5.375 02/15/31 | 118.146 |  2.972  |\n",
       "| T 1.625 05/15/31 |  89.072 |  2.995  |\n",
       "| T 1.25 08/15/31  |  85.302 |  2.995  |\n",
       "| T 1.375 11/15/31 |  86.204 |  2.996  |\n",
       "| T 1.875 02/15/32 |  90.182 |  2.994  |\n",
       "|  T 4.5 02/15/36  | 118.086 |  2.884  |\n",
       "| T 4.75 02/15/37  | 121.08  |  2.964  |\n",
       "|  T 5.0 05/15/37  | 124.084 |  2.985  |\n",
       "| T 4.375 02/15/38 | 117.002 |  3.013  |\n",
       "|  T 4.5 05/15/38  | 118.17  |  3.032  |\n",
       "|  T 3.5 02/15/39  | 105.092 |  3.094  |\n",
       "| T 4.25 05/15/39  | 115.082 |  3.091  |\n",
       "|  T 4.5 08/15/39  | 118.214 |  3.097  |\n",
       "| T 4.375 11/15/39 | 116.222 |  3.13   |\n",
       "| T 4.625 02/15/40 | 120.122 |  3.123  |\n",
       "| T 1.125 05/15/40 |  70.312 |  3.268  |\n",
       "| T 4.375 05/15/40 | 116.222 |  3.154  |\n",
       "| T 1.125 08/15/40 |  70.182 |  3.277  |\n",
       "| T 3.875 08/15/40 | 109.096 |  3.199  |\n",
       "| T 1.375 11/15/40 |  73.216 |  3.282  |\n",
       "| T 4.25 11/15/40  | 114.124 |  3.213  |\n",
       "| T 1.875 02/15/41 |  80.144 |  3.276  |\n",
       "| T 4.75 02/15/41  | 121.282 |  3.192  |\n",
       "| T 2.25 05/15/41  |  85.126 |  3.288  |\n",
       "| T 4.375 05/15/41 | 116.046 |  3.232  |\n",
       "| T 1.75 08/15/41  |  78.01  |  3.298  |\n",
       "| T 3.75 08/15/41  | 107.026 |  3.252  |\n",
       "| T 3.125 11/15/41 |  97.292 |  3.27   |\n",
       "|  T 2.0 11/30/41  |  81.16  |  3.292  |\n",
       "| T 2.375 02/15/42 |  87.004 |  3.271  |\n",
       "| T 3.125 02/15/42 |  97.302 |  3.267  |\n",
       "|  T 3.0 05/15/42  |  95.304 |  3.277  |\n",
       "| T 2.75 08/15/42  |  91.276 |  3.303  |\n",
       "| T 2.75 11/15/42  |  91.234 |  3.308  |\n",
       "| T 3.125 02/15/43 |  97.12  |  3.3    |\n",
       "| T 2.875 05/15/43 |  93.144 |  3.31   |\n",
       "| T 3.625 08/15/43 | 105.036 |  3.289  |\n",
       "| T 3.75 11/15/43  | 107.03  |  3.288  |\n",
       "| T 3.625 02/15/44 | 105.06  |  3.289  |\n",
       "| T 3.375 05/15/44 | 101.07  |  3.297  |\n",
       "| T 3.125 08/15/44 |  97.076 |  3.301  |\n",
       "|  T 3.0 11/15/44  |  95.06  |  3.305  |\n",
       "|  T 2.5 02/15/45  |  87.06  |  3.305  |\n",
       "|  T 3.0 05/15/45  |  95.094 |  3.293  |\n",
       "| T 2.875 08/15/45 |  93.11  |  3.286  |\n",
       "|  T 3.0 11/15/45  |  95.174 |  3.273  |\n",
       "|  T 2.5 02/15/46  |  87.094 |  3.273  |\n",
       "|  T 2.5 05/15/46  |  87.082 |  3.27   |\n",
       "| T 2.25 08/15/46  |  83.02  |  3.265  |\n",
       "| T 2.875 11/15/46 |  93.25  |  3.245  |\n",
       "|  T 3.0 02/15/47  |  95.294 |  3.24   |\n",
       "|  T 3.0 05/15/47  |  96.01  |  3.232  |\n",
       "| T 2.75 08/15/47  |  91.3   |  3.218  |\n",
       "| T 2.75 11/15/47  |  91.312 |  3.213  |\n",
       "|  T 3.0 02/15/48  |  96.224 |  3.188  |\n",
       "| T 3.125 05/15/48 |  99.062 |  3.171  |\n",
       "|  T 3.0 08/15/48  |  96.244 |  3.182  |\n",
       "| T 3.375 11/15/48 | 104.03  |  3.146  |\n",
       "|  T 3.0 02/15/49  |  97.174 |  3.136  |\n",
       "| T 2.875 05/15/49 |  95.104 |  3.132  |\n",
       "| T 2.25 08/15/49  |  83.302 |  3.129  |\n",
       "| T 2.375 11/15/49 |  86.126 |  3.114  |\n",
       "|  T 2.0 02/15/50  |  79.064 |  3.125  |\n",
       "| T 1.25 05/15/50  |  65.1   |  3.114  |\n",
       "| T 1.375 08/15/50 |  67.142 |  3.115  |\n",
       "| T 1.625 11/15/50 |  72.016 |  3.109  |\n",
       "| T 1.875 02/15/51 |  76.28  |  3.094  |\n",
       "| T 2.375 05/15/51 |  86.122 |  3.089  |\n",
       "|  T 2.0 08/15/51  |  79.076 |  3.081  |\n",
       "| T 1.875 11/15/51 |  76.28  |  3.072  |\n",
       "| T 2.25 02/15/52  |  84.072 |  3.061  |\n",
       "\n",
       "    \n"
      ],
      "text/plain": [
       "<IPython.core.display.Markdown object>"
      ]
     },
     "execution_count": 431,
     "metadata": {},
     "output_type": "execute_result"
    }
   ],
   "source": [
    "# You cannot tabe anything within the string literal for the markdown output, See the cell titled \"BAD MARKDOWN OUTPUT\"\n",
    "# Also when we finally convert to PDF I plan on using the metadata and hiding the markdown output cell because it takes up to much space and is ugly\n",
    "# Because of this, have all output cells in their own cell as done here\n",
    "md('''\n",
    "<center>\n",
    "\n",
    "{}\n",
    "\n",
    "    \n",
    "'''.format(bonds_clean.to_markdown(colalign = (\"center\",)))\n",
    ")"
   ]
  },
  {
   "cell_type": "markdown",
   "metadata": {},
   "source": [
    "## Problem 3\n",
    "\n",
    "Formulate a linear programming model to find the lowest cost bond dedicated portfolio that covers the stream of liabilities. To eliminate the possibility of any interest risk, assume that a 0% reinvestment rate on cash balances carried out from one date to the next. Assume no short selling of bonds is allowed. What is the cost of your portfolio? How does this cost compares with the NPV of the liabilities? What is the composition of the portfolio?"
   ]
  },
  {
   "cell_type": "markdown",
   "metadata": {},
   "source": [
    "### Mathematical Formulation\n",
    "\n",
    "$$\n",
    "\\begin{split}\n",
    "\\text{min} \\ \\ \\ &  z_0 + \\sum_{i=1}^NP_ix_i \\\\\n",
    "\\text{s.t.} \\ \\ \\ & \\sum_{i=1,...,n:M_i \\ge t-1}C_ix_i + \\sum_{i=1,...,n:M_i \\ge t}100x_i + z_{t-1} -z_t = L_t\\\\\n",
    "& \\text{All variables are non-negative} \\\\\n",
    "\\end{split}\n",
    "$$"
   ]
  },
  {
   "cell_type": "code",
   "execution_count": 432,
   "metadata": {},
   "outputs": [],
   "source": [
    "'''\n",
    "Data Manipulation\n",
    "'''\n",
    "term_by_maturity = term_structure_df.set_index('MATURITY')\n",
    "possibilities = term_by_maturity.drop(\n",
    "    index=[i for i in term_by_maturity.index.to_list() if i > data_prompt.index.to_list()[-1]],\n",
    "    columns=['BID', 'ASKED', 'CHG', 'ASKED YIELD']#, 'ttm']\n",
    "    )\n",
    "\n",
    "'''List of bond maturities less than liability maturity'''\n",
    "date_lists_to_change_to_periods = [\n",
    "    [i for i in possibilities.index.to_list() if i <= t]\n",
    "    for t in data_prompt.index.tolist()\n",
    "    ]\n",
    "'''Removing the duplicates from each one'''\n",
    "for i in reversed(range(1,len(date_lists_to_change_to_periods))):\n",
    "    for j in range(0,len(date_lists_to_change_to_periods[i-1])):\n",
    "        date_lists_to_change_to_periods[i].remove(date_lists_to_change_to_periods[i-1][j])\n",
    "\n",
    "for i in range(0,len(date_lists_to_change_to_periods)):\n",
    "    possibilities.loc[date_lists_to_change_to_periods[i],'period'] = i+1\n",
    "\n",
    "possibilities['face'] = 100\n",
    "possibilities['bond#'] = range(1,len(possibilities)+1)\n",
    "possibilities = possibilities.set_index('bond#')\n",
    "\n",
    "'''for labeling later'''\n",
    "dec_var_names = possibilities['ref_data']"
   ]
  },
  {
   "cell_type": "code",
   "execution_count": 433,
   "metadata": {},
   "outputs": [],
   "source": [
    "'''Getting data ready for the solver'''\n",
    "\n",
    "'''Exmpty Array'''\n",
    "cfs = np.zeros((len(possibilities),len(date_lists_to_change_to_periods)))\n",
    "\n",
    "'''CF Matrix'''\n",
    "'''Will make function later'''\n",
    "for i in range(0, len(cfs)):\n",
    "    for j in range(1, len(cfs[0])+1):\n",
    "        if possibilities.loc[i+1,'period'] == j and possibilities.loc[i+1,'COUPON'] == 0:\n",
    "            cfs[i][j-1] = possibilities.loc[i+1,'face']\n",
    "        elif possibilities.loc[i+1,'period'] == j and possibilities.loc[i+1,'COUPON'] != 0:\n",
    "            cfs[i][0:j-1] = possibilities.loc[i+1,'COUPON']/2\n",
    "            cfs[i][j-1] = possibilities.loc[i+1,'face'] + possibilities.loc[i+1,'COUPON']/2\n",
    "\n",
    "cf_matrix = cfs.tolist()\n",
    "prices = possibilities['px_last'].values.tolist()\n",
    "liabilities = data_prompt['Amount'].values.tolist()"
   ]
  },
  {
   "cell_type": "code",
   "execution_count": 434,
   "metadata": {},
   "outputs": [],
   "source": [
    "dec_var_names = dec_var_names.to_list()\n",
    "dec_var_names.reverse()"
   ]
  },
  {
   "cell_type": "code",
   "execution_count": 435,
   "metadata": {},
   "outputs": [
    {
     "data": {
      "text/plain": [
       "1"
      ]
     },
     "execution_count": 435,
     "metadata": {},
     "output_type": "execute_result"
    }
   ],
   "source": [
    "'''Solving for the dedicated portfolio'''\n",
    "\n",
    "# Making variable list of strings\n",
    "# bonds = ['$b_{}$'.format('{'+str(i)+'}') for i in range(1, len(cf_matrix)+1)]\n",
    "periods = [i for i in range(0,len(cf_matrix[0])+1)]\n",
    "\n",
    "# Must reverse both price vector and cashflow matrix\n",
    "cf_matrix.reverse()\n",
    "prices.reverse()\n",
    "\n",
    "# Dictionary of period constraints\n",
    "period_dict = {}\n",
    "for i in range(0,len(cf_matrix[0])):\n",
    "    period_dict['Period {}'.format(i+1)] = dict(zip(dec_var_names,[cf_matrix[j][i] for j in range(0,len(cf_matrix))]))\n",
    "\n",
    "objective = dict(zip(dec_var_names, prices))\n",
    "\n",
    "# Decision Vars\n",
    "quantity = LpVariable.dict('', dec_var_names, lowBound=0)\n",
    "excess = LpVariable.dict('carryover', periods, lowBound=0)\n",
    "\n",
    "# Intializing the Problem\n",
    "dedication_1 = LpProblem('Dedicated', LpMinimize)\n",
    "\n",
    "# Objective function\n",
    "dedication_1 += excess[0]+lpSum([objective[i]*quantity[i] for i in dec_var_names])\n",
    "\n",
    "# Constraints\n",
    "for i in range(0,len(cf_matrix[0])):\n",
    "    dedication_1 += lpSum([period_dict['Period {}'.format(i+1)][j]*quantity[j] for j in dec_var_names]) + excess[i]- excess[i+1] == liabilities[i]\n",
    "\n",
    "dedication_1.solve()"
   ]
  },
  {
   "cell_type": "code",
   "execution_count": 451,
   "metadata": {},
   "outputs": [],
   "source": [
    "composition = pd.DataFrame(\n",
    "    [v.varValue for v in dedication_1.variables() if v.name[0] != 'c' and v.varValue > 0],\n",
    "    index=[v.name[1:] for v in dedication_1.variables() if v.name[0] != 'c' and v.varValue > 0],\n",
    "    columns=['Quantity']\n",
    "    )"
   ]
  },
  {
   "cell_type": "code",
   "execution_count": 452,
   "metadata": {},
   "outputs": [
    {
     "data": {
      "text/markdown": [
       " \n",
       "##### <center> Dedication Portfolio Cost & Composition  </center>\n",
       "\n",
       "<center>\n",
       "\n",
       "Portfolio Cost $ = \\$117.33 $ MM <br>\n",
       "\n",
       "</center>\n",
       "\n",
       "<center>\n",
       "\n",
       "|                  |   Quantity |\n",
       "|-----------------:|-----------:|\n",
       "|  T_0.25_06_15_23 |    68.9586 |\n",
       "|  T_0.25_06_15_24 |    50.89   |\n",
       "| T_0.625_05_15_30 |    69.7819 |\n",
       "|  T_0.75_11_15_24 |    70.9536 |\n",
       "| T_1.625_08_15_29 |    79.1389 |\n",
       "|  T_2.25_11_15_27 |    44.5278 |\n",
       "| T_2.375_05_15_29 |    68.3275 |\n",
       "| T_2.875_05_15_28 |    65.0288 |\n",
       "|   T_5.5_08_15_28 |    85.9635 |\n",
       "|   T_6.0_02_15_26 |   106.871  |\n",
       "|  T_6.25_08_15_23 |    59.0448 |\n",
       "| T_6.625_02_15_27 |    52.7795 |\n",
       "|  T_6.75_08_15_26 |    80.0769 |\n",
       "| T_6.875_08_15_25 |    74.3162 |\n",
       "|  T_7.25_08_15_22 |    85.8467 |\n",
       "| T_7.625_02_15_25 |    81.2197 |\n",
       "\n"
      ],
      "text/plain": [
       "<IPython.core.display.Markdown object>"
      ]
     },
     "execution_count": 452,
     "metadata": {},
     "output_type": "execute_result"
    }
   ],
   "source": [
    "# Just have to match bonds with the tickers Jack created instead\n",
    "\n",
    "'''Printing Solutions'''\n",
    "\n",
    "md(''' \n",
    "##### <center> Dedication Portfolio Cost & Composition  </center>\n",
    "\n",
    "<center>\n",
    "\n",
    "Portfolio Cost $ = \\${:.2f} $ MM <br>\n",
    "\n",
    "</center>\n",
    "\n",
    "<center>\n",
    "\n",
    "{}\n",
    "\n",
    "'''.format(dedication_1.objective.value()/1000,composition.to_markdown(colalign = (\"right\",))))"
   ]
  },
  {
   "cell_type": "markdown",
   "metadata": {},
   "source": [
    "## Problem 4\n",
    "\n",
    "Use the linear programming sensitivity analysis information to determine the term structure of interest rates implied by the optimal bond portfolio you found in the previous question. Use a plot to compare these rates with the current term structure of treasury rates you found in the first question."
   ]
  },
  {
   "cell_type": "code",
   "execution_count": 444,
   "metadata": {},
   "outputs": [
    {
     "data": {
      "text/markdown": [
       " \n",
       "##### <center> Sensitivity Analysis - Shadow Prices  </center>\n",
       "\n",
       "<center>\n",
       "\n",
       "|   DateDue |   shadow price |\n",
       "|----------:|---------------:|\n",
       "|  12/15/22 |       0.977023 |\n",
       "|  06/15/23 |       0.970186 |\n",
       "|  12/15/23 |       0.95231  |\n",
       "|  06/15/24 |       0.937843 |\n",
       "|  12/15/24 |       0.924583 |\n",
       "|  06/15/25 |       0.906067 |\n",
       "|  12/15/25 |       0.895403 |\n",
       "|  06/15/26 |       0.879163 |\n",
       "|  12/15/26 |       0.862658 |\n",
       "|  06/15/27 |       0.849548 |\n",
       "|  12/15/27 |       0.840671 |\n",
       "|  06/15/28 |       0.827461 |\n",
       "|  12/15/28 |       0.812954 |\n",
       "|  06/15/29 |       0.804787 |\n",
       "|  12/15/29 |       0.795397 |\n",
       "|  06/15/30 |       0.78642  |\n",
       "\n"
      ],
      "text/plain": [
       "<IPython.core.display.Markdown object>"
      ]
     },
     "execution_count": 444,
     "metadata": {},
     "output_type": "execute_result"
    }
   ],
   "source": [
    "'''\n",
    "Pull sensitivity analysis\n",
    "---\n",
    "https://s3.amazonaws.com/assets.datacamp.com/production/course_8835/slides/chapter4.pdf\n",
    "'''\n",
    "o = [{'name':name, 'shadow price':c.pi} for name, c in dedication_1.constraints.items()]\n",
    "shadow_px = pd.DataFrame(o).set_index(data_prompt.index).drop('name',axis=1)\n",
    "clean_shadow_px = pd.DataFrame(o).set_index(data_prompt.index.strftime('%m/%d/%y')).drop('name',axis=1)\n",
    "md(''' \n",
    "##### <center> Sensitivity Analysis - Shadow Prices  </center>\n",
    "\n",
    "<center>\n",
    "\n",
    "{}\n",
    "\n",
    "'''.format(clean_shadow_px.to_markdown(colalign = (\"right\",)))\n",
    ")"
   ]
  },
  {
   "cell_type": "code",
   "execution_count": 445,
   "metadata": {},
   "outputs": [
    {
     "data": {
      "text/plain": [
       "<matplotlib.legend.Legend at 0x212c4c28e20>"
      ]
     },
     "execution_count": 445,
     "metadata": {},
     "output_type": "execute_result"
    },
    {
     "data": {
      "image/png": "[encoded data removed]",
      "text/plain": [
       "<Figure size 432x288 with 1 Axes>"
      ]
     },
     "metadata": {
      "needs_background": "light"
     },
     "output_type": "display_data"
    }
   ],
   "source": [
    "'''\n",
    "Presents implied and actual yield curve as a plot\n",
    "'''\n",
    "shadow_ttm = ((shadow_px.index - datetime.datetime.now()) / datetime.timedelta(days=365)).to_list()\n",
    "shadow_factors = shadow_px['shadow price'].to_list()\n",
    "implied_rates = [-np.log(shadow_factors[i]) / shadow_ttm[i] for i in range(len(shadow_ttm))]\n",
    "\n",
    "implied_rates_df = pd.DataFrame(\n",
    "                        data = [shadow_ttm, implied_rates],\n",
    "                        index=['ttm','implied_rate']\n",
    "                    )\n",
    "\n",
    "implied_rates_df = (implied_rates_df\n",
    "                        .transpose()\n",
    "                        .round({'ttm':round_to})\n",
    "                        .set_index('ttm')\n",
    "                    )\n",
    "\n",
    "plt.plot(rates[0.5:8.5] * 100)\n",
    "plt.plot(implied_rates_df * 100)\n",
    "plt.title('Bootstrapped and Implied Yield Curve (rates per annum)')\n",
    "plt.xlabel('Tenor')\n",
    "plt.ylabel('Yield in Percentage Points')\n",
    "plt.legend(['Actual', 'Implied'])"
   ]
  },
  {
   "cell_type": "code",
   "execution_count": 446,
   "metadata": {},
   "outputs": [
    {
     "data": {
      "text/markdown": [
       " \n",
       "##### <center> Sensitivity Analysis - Shadow Prices  </center>\n",
       "\n",
       "<center>\n",
       "\n",
       "|   ttm |   implied_rate |\n",
       "|------:|---------------:|\n",
       "|  0.59 |        3.94081 |\n",
       "|  1.09 |        2.78069 |\n",
       "|  1.59 |        3.07352 |\n",
       "|  2.09 |        3.06865 |\n",
       "|  2.59 |        3.02449 |\n",
       "|  3.09 |        3.19103 |\n",
       "|  3.59 |        3.07526 |\n",
       "|  4.09 |        3.14784 |\n",
       "|  4.59 |        3.21684 |\n",
       "|  5.09 |        3.20259 |\n",
       "|  5.59 |        3.10329 |\n",
       "|  6.09 |        3.10789 |\n",
       "|   6.6 |        3.13981 |\n",
       "|  7.09 |        3.06144 |\n",
       "|   7.6 |        3.01387 |\n",
       "|  8.09 |        2.96844 |\n",
       "\n"
      ],
      "text/plain": [
       "<IPython.core.display.Markdown object>"
      ]
     },
     "execution_count": 446,
     "metadata": {},
     "output_type": "execute_result"
    }
   ],
   "source": [
    "'''\n",
    "\n",
    "'''\n",
    "\n",
    "md(''' \n",
    "##### <center> Sensitivity Analysis - Shadow Prices  </center>\n",
    "\n",
    "<center>\n",
    "\n",
    "{}\n",
    "\n",
    "'''.format((implied_rates_df*100).to_markdown(colalign = (\"right\",)))\n",
    ")"
   ]
  },
  {
   "cell_type": "markdown",
   "metadata": {},
   "source": [
    "## Problem 5\n",
    "\n",
    "Formulate a linear programming model to find the lowest cost bond immunized portfolio that matches the present value, duration, and convexity of a stream of liabilities. Assume that no short rates are allowed. What is the cost of your portfolio? How much would you save by using this immunization strategy instead of the dedication one? Is your portfolio immunized against non-parallel shifts in the term structure? Explain why or why not."
   ]
  },
  {
   "cell_type": "code",
   "execution_count": 447,
   "metadata": {},
   "outputs": [
    {
     "ename": "AttributeError",
     "evalue": "'list' object has no attribute 'to_list'",
     "output_type": "error",
     "traceback": [
      "\u001b[1;31m---------------------------------------------------------------------------\u001b[0m",
      "\u001b[1;31mAttributeError\u001b[0m                            Traceback (most recent call last)",
      "\u001b[1;32mc:\\MFE\\Github\\finops_casestudy\\bond_project.ipynb Cell 32'\u001b[0m in \u001b[0;36m<cell line: 12>\u001b[1;34m()\u001b[0m\n\u001b[0;32m      <a href='vscode-notebook-cell:/c%3A/MFE/Github/finops_casestudy/bond_project.ipynb#ch0000024?line=0'>1</a>\u001b[0m \u001b[39m'''\u001b[39;00m\n\u001b[0;32m      <a href='vscode-notebook-cell:/c%3A/MFE/Github/finops_casestudy/bond_project.ipynb#ch0000024?line=1'>2</a>\u001b[0m \u001b[39mAggregates cashflow matrix and ref data for immunization\u001b[39;00m\n\u001b[0;32m      <a href='vscode-notebook-cell:/c%3A/MFE/Github/finops_casestudy/bond_project.ipynb#ch0000024?line=2'>3</a>\u001b[0m \u001b[39m---\u001b[39;00m\n\u001b[1;32m   (...)\u001b[0m\n\u001b[0;32m     <a href='vscode-notebook-cell:/c%3A/MFE/Github/finops_casestudy/bond_project.ipynb#ch0000024?line=9'>10</a>\u001b[0m \u001b[39m        pv_factor = exp{-rt} = exp{- () * (ttm)}\u001b[39;00m\n\u001b[0;32m     <a href='vscode-notebook-cell:/c%3A/MFE/Github/finops_casestudy/bond_project.ipynb#ch0000024?line=10'>11</a>\u001b[0m \u001b[39m'''\u001b[39;00m\n\u001b[1;32m---> <a href='vscode-notebook-cell:/c%3A/MFE/Github/finops_casestudy/bond_project.ipynb#ch0000024?line=11'>12</a>\u001b[0m cf_df \u001b[39m=\u001b[39m pd\u001b[39m.\u001b[39mDataFrame(cf_matrix, index\u001b[39m=\u001b[39m\u001b[39mreversed\u001b[39m(dec_var_names\u001b[39m.\u001b[39;49mto_list()))\n\u001b[0;32m     <a href='vscode-notebook-cell:/c%3A/MFE/Github/finops_casestudy/bond_project.ipynb#ch0000024?line=13'>14</a>\u001b[0m cf_df \u001b[39m=\u001b[39m pd\u001b[39m.\u001b[39mmerge(                                                           \u001b[39m# Combines possible bonds with cashflow matrix\u001b[39;00m\n\u001b[0;32m     <a href='vscode-notebook-cell:/c%3A/MFE/Github/finops_casestudy/bond_project.ipynb#ch0000024?line=14'>15</a>\u001b[0m     left \u001b[39m=\u001b[39m possibilities,                                                   \u001b[39m# possible bonds - SAME DF AS DEDICATION\u001b[39;00m\n\u001b[0;32m     <a href='vscode-notebook-cell:/c%3A/MFE/Github/finops_casestudy/bond_project.ipynb#ch0000024?line=15'>16</a>\u001b[0m     right \u001b[39m=\u001b[39m cf_df,                                                          \u001b[39m# Cashflow matrix - NP ARRAY FROM DEDICATION AS DF FOR MERGING\u001b[39;00m\n\u001b[1;32m   (...)\u001b[0m\n\u001b[0;32m     <a href='vscode-notebook-cell:/c%3A/MFE/Github/finops_casestudy/bond_project.ipynb#ch0000024?line=18'>19</a>\u001b[0m     right_index\u001b[39m=\u001b[39m\u001b[39mTrue\u001b[39;00m                                                        \u001b[39m# Casflow df indexed by bond name\u001b[39;00m\n\u001b[0;32m     <a href='vscode-notebook-cell:/c%3A/MFE/Github/finops_casestudy/bond_project.ipynb#ch0000024?line=19'>20</a>\u001b[0m )\n\u001b[0;32m     <a href='vscode-notebook-cell:/c%3A/MFE/Github/finops_casestudy/bond_project.ipynb#ch0000024?line=21'>22</a>\u001b[0m cf_df \u001b[39m=\u001b[39m (cf_df\n\u001b[0;32m     <a href='vscode-notebook-cell:/c%3A/MFE/Github/finops_casestudy/bond_project.ipynb#ch0000024?line=22'>23</a>\u001b[0m             \u001b[39m.\u001b[39mdrop([\u001b[39m'\u001b[39m\u001b[39mCOUPON\u001b[39m\u001b[39m'\u001b[39m,\u001b[39m'\u001b[39m\u001b[39mperiod\u001b[39m\u001b[39m'\u001b[39m,\u001b[39m'\u001b[39m\u001b[39mface\u001b[39m\u001b[39m'\u001b[39m],axis\u001b[39m=\u001b[39m\u001b[39m1\u001b[39m)                        \u001b[39m# Drops unnecessary ref data\u001b[39;00m\n\u001b[0;32m     <a href='vscode-notebook-cell:/c%3A/MFE/Github/finops_casestudy/bond_project.ipynb#ch0000024?line=23'>24</a>\u001b[0m             \u001b[39m.\u001b[39mset_index(\u001b[39m'\u001b[39m\u001b[39mref_data\u001b[39m\u001b[39m'\u001b[39m)                                          \u001b[39m# Sets index to bond name\u001b[39;00m\n\u001b[0;32m     <a href='vscode-notebook-cell:/c%3A/MFE/Github/finops_casestudy/bond_project.ipynb#ch0000024?line=24'>25</a>\u001b[0m             \u001b[39m.\u001b[39mround({\u001b[39m'\u001b[39m\u001b[39mttm\u001b[39m\u001b[39m'\u001b[39m:round_to})                                        \u001b[39m# rounds time to maturity to 2 decimal places -- allows use of derived term structure (indexed by hundredths)\u001b[39;00m\n\u001b[0;32m     <a href='vscode-notebook-cell:/c%3A/MFE/Github/finops_casestudy/bond_project.ipynb#ch0000024?line=25'>26</a>\u001b[0m         )\n",
      "\u001b[1;31mAttributeError\u001b[0m: 'list' object has no attribute 'to_list'"
     ]
    }
   ],
   "source": [
    "'''\n",
    "Aggregates cashflow matrix and ref data for immunization\n",
    "---\n",
    "Puts cashflow matrix into a dataframe for merging\n",
    "merges possible bond ref data with cashflow matrix\n",
    "cleans resulting dataframe\n",
    "\n",
    "NOTE: MATH NEEDS WORK HERE BUT WE CAN FIGURE OUT\n",
    "from here: use ttm and col_num against calculated curve to find appropriate measure\n",
    "        pv_factor = exp{-rt} = exp{- () * (ttm)}\n",
    "'''\n",
    "cf_df = pd.DataFrame(cf_matrix, index=reversed(dec_var_names.to_list()))\n",
    "\n",
    "cf_df = pd.merge(                                                           # Combines possible bonds with cashflow matrix\n",
    "    left = possibilities,                                                   # possible bonds - SAME DF AS DEDICATION\n",
    "    right = cf_df,                                                          # Cashflow matrix - NP ARRAY FROM DEDICATION AS DF FOR MERGING\n",
    "    how='inner',                                                            # Catches any missed bonds on merge\n",
    "    left_on='ref_data',                                                     # possibilities not indexed by bond name - CHAZ IS THIS SOMETHING WE CAN ADJUST OR NO?????????????????????\n",
    "    right_index=True                                                        # Casflow df indexed by bond name\n",
    ")\n",
    "\n",
    "cf_df = (cf_df\n",
    "            .drop(['COUPON','period','face'],axis=1)                        # Drops unnecessary ref data\n",
    "            .set_index('ref_data')                                          # Sets index to bond name\n",
    "            .round({'ttm':round_to})                                        # rounds time to maturity to 2 decimal places -- allows use of derived term structure (indexed by hundredths)\n",
    "        )\n",
    "\n",
    "cf_df"
   ]
  },
  {
   "cell_type": "code",
   "execution_count": null,
   "metadata": {},
   "outputs": [],
   "source": [
    "'''\n",
    "Create PResent Value, Duration, and Convexity factors for all possible time index based on derived rates curve\n",
    "'''\n",
    "t = rates.index\n",
    "r = rates['rate']\n",
    "npv_factor = np.exp(-r*t)\n",
    "dur_factor = (t / (1+r)) * np.exp(-r*t)\n",
    "con_factor = ((t*(t+1))/ (1+r)**2) * np.exp(-r*t)"
   ]
  },
  {
   "cell_type": "code",
   "execution_count": null,
   "metadata": {},
   "outputs": [],
   "source": [
    "'''\n",
    "Calculates npv, duration, and convexity terms for all bonds consiuder in problem\n",
    "'''\n",
    "npvs=[]\n",
    "durs=[]\n",
    "cons=[]\n",
    "for bond in cf_df.index:\n",
    "    bond_df = cf_df.loc[bond]\n",
    "    bond_ttm = bond_df.loc['ttm']\n",
    "    bond_cf_stream = bond_df.loc[0:]\n",
    "    eo_cfs = bond_cf_stream.idxmax()\n",
    "    cpn_ttm = [(bond_ttm - 0.5*i).round(round_to) for i in range(eo_cfs+1)]\n",
    "    bond_cf_ttm = pd.Series(data=bond_df.loc[0:eo_cfs].to_list(), index=reversed(cpn_ttm))\n",
    "\n",
    "    bond_npv = sum([bond_cf_ttm.loc[i] * npv_factor.loc[:i].iloc[-1] for i in bond_cf_ttm.index])\n",
    "    bond_dur = sum([bond_cf_ttm.loc[i] * dur_factor.loc[:i].iloc[-1] for i in bond_cf_ttm.index])\n",
    "    bond_con = sum([bond_cf_ttm.loc[i] * con_factor.loc[:i].iloc[-1] for i in bond_cf_ttm.index])\n",
    "\n",
    "    npvs.append(bond_npv)\n",
    "    durs.append(bond_dur)\n",
    "    cons.append(bond_con)\n",
    "\n",
    "immunization_df = pd.DataFrame([npvs, durs, cons], columns=cf_df.index, index=['npv','duration','convexity']).transpose()"
   ]
  },
  {
   "cell_type": "code",
   "execution_count": null,
   "metadata": {},
   "outputs": [
    {
     "data": {
      "text/plain": [
       "1"
      ]
     },
     "execution_count": 352,
     "metadata": {},
     "output_type": "execute_result"
    }
   ],
   "source": [
    "'''\n",
    "Solves immunization portfolio\n",
    "'''\n",
    "bond_count = LpVariable.dicts('Bonds',dec_var_names,lowBound=0)\n",
    "\n",
    "immunization = LpProblem('immunization', LpMinimize)\n",
    "\n",
    "immunization += lpSum([cf_df['px_last'].loc[i] * bond_count[i] for i in dec_var_names])\n",
    "immunization += lpSum([immunization_df['npv'].loc[i] * bond_count[i] for i in dec_var_names]) == npv\n",
    "immunization += lpSum([immunization_df['duration'].loc[i] * bond_count[i] for i in dec_var_names]) == dur\n",
    "immunization += lpSum([immunization_df['convexity'].loc[i] * bond_count[i] for i in dec_var_names]) == con\n",
    "\n",
    "immunization.solve()"
   ]
  },
  {
   "cell_type": "code",
   "execution_count": null,
   "metadata": {},
   "outputs": [
    {
     "data": {
      "text/markdown": [
       " \n",
       "##### <center> Portoflio Allocation - Immunization  </center>\n",
       "\n",
       "<center> Immunized Portfolio Value of $116.39 MM  </center> <br>\n",
       "\n",
       "\n",
       "<center>\n",
       "\n",
       "|             bond |     amt |\n",
       "|-----------------:|--------:|\n",
       "|   T_1.5_02_15_30 | 136.239 |\n",
       "| T_6.625_02_15_27 | 801.875 |\n",
       "|  T_7.25_08_15_22 | 116.55  |\n",
       "\n"
      ],
      "text/plain": [
       "<IPython.core.display.Markdown object>"
      ]
     },
     "execution_count": 353,
     "metadata": {},
     "output_type": "execute_result"
    }
   ],
   "source": [
    "'''\n",
    "Print Solution to Immunized portfolio\n",
    "'''\n",
    "bonds_fin = pd.DataFrame([[v.name[6:] for v in immunization.variables()], [v.varValue for v in immunization.variables()]], index=['bond','amt']).transpose().set_index('bond')\n",
    "bonds_fin[bonds_fin['amt']>0]\n",
    "\n",
    "md(''' \n",
    "##### <center> Portoflio Allocation - Immunization  </center>\n",
    "\n",
    "<center> Immunized Portfolio Value of ${:.2f} MM  </center> <br>\n",
    "\n",
    "\n",
    "<center>\n",
    "\n",
    "{}\n",
    "\n",
    "'''.format(value(immunization.objective) / 1000, bonds_fin[bonds_fin['amt']>0].to_markdown(colalign = (\"right\",)))\n",
    ")"
   ]
  },
  {
   "cell_type": "markdown",
   "metadata": {},
   "source": [
    "## Problem 6\n",
    "\n",
    "Combine a cash matching strategy (dedication) for the liabilities for the first three years and an immunization strategy based on matching present value, duration and convexity for the liabilities during the last five years. Compare the characteristics of the three bond portfolios you have obtained. Explain which one you think is the best one and why."
   ]
  },
  {
   "cell_type": "code",
   "execution_count": null,
   "metadata": {},
   "outputs": [
    {
     "data": {
      "text/plain": [
       "'\\ncode block\\n'"
      ]
     },
     "execution_count": 354,
     "metadata": {},
     "output_type": "execute_result"
    }
   ],
   "source": [
    "'''\n",
    "code block\n",
    "'''"
   ]
  },
  {
   "cell_type": "markdown",
   "metadata": {},
   "source": [
    "## Problem 7\n",
    "\n",
    "The municipality would like to make a second bid (find a different portfolio of bonds). What is your best dedicated portfolio of risk-free bonds you can create *if short sales are allowed*? Did you find arbitrage opportunities? Did you take into consideration the bid-ask spread of the bonds? How would you take them in consideration and what is the result? Did you set limits in the transaction amounts? Discuss the practical feasibility of your solutions."
   ]
  },
  {
   "cell_type": "code",
   "execution_count": null,
   "metadata": {},
   "outputs": [
    {
     "data": {
      "text/plain": [
       "'\\ncode block\\n'"
      ]
     },
     "execution_count": 355,
     "metadata": {},
     "output_type": "execute_result"
    }
   ],
   "source": [
    "'''\n",
    "code block\n",
    "'''"
   ]
  },
  {
   "cell_type": "markdown",
   "metadata": {},
   "source": [
    "## Problem 8\n",
    "\n",
    "Consider proposing a new portfolio of bonds using any additional consideration or change to the model that you see fit. For example, can you do something to make your portfolio of bonds immune to nonparallel changes in the term structure. Is there a better way to combine the techniques you used before. Explain clearly what you do and your results."
   ]
  },
  {
   "cell_type": "code",
   "execution_count": null,
   "metadata": {},
   "outputs": [
    {
     "data": {
      "text/plain": [
       "'\\ncode block\\n'"
      ]
     },
     "execution_count": 356,
     "metadata": {},
     "output_type": "execute_result"
    }
   ],
   "source": [
    "'''\n",
    "code block\n",
    "'''"
   ]
  }
 ],
 "metadata": {
  "interpreter": {
   "hash": "8377259de029fbe3469e5825885a3984679ef58677fe54558bfe80e0473ceee4"
  },
  "kernelspec": {
   "display_name": "Python 3.9.7 64-bit",
   "language": "python",
   "name": "python3"
  },
  "language_info": {
   "codemirror_mode": {
    "name": "ipython",
    "version": 3
   },
   "file_extension": ".py",
   "mimetype": "text/x-python",
   "name": "python",
   "nbconvert_exporter": "python",
   "pygments_lexer": "ipython3",
   "version": "3.9.7"
  },
  "orig_nbformat": 4
 },
 "nbformat": 4,
 "nbformat_minor": 2
}
