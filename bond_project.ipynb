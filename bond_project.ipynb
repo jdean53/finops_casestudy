{
 "cells": [
  {
   "cell_type": "markdown",
   "metadata": {},
   "source": [
    "# Case Study\n",
    "\n",
    "Jack Dean, Charles Dotson, and Rodrigo Petricioli  \n",
    "ISE 447 - Financial Optimization  \n",
    "Lehigh Univerisity"
   ]
  },
  {
   "cell_type": "code",
   "execution_count": null,
   "metadata": {},
   "outputs": [],
   "source": []
  }
 ],
 "metadata": {
  "language_info": {
   "name": "python"
  },
  "orig_nbformat": 4
 },
 "nbformat": 4,
 "nbformat_minor": 2
}
